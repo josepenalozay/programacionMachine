{
 "cells": [
  {
   "cell_type": "code",
   "execution_count": null,
   "metadata": {
    "colab": {
     "base_uri": "https://localhost:8080/"
    },
    "id": "-lkR7Y5i6Wuy",
    "outputId": "aead3a8d-792e-4286-c66a-34e3f4947e56"
   },
   "outputs": [],
   "source": [
    "!top"
   ]
  },
  {
   "cell_type": "code",
   "execution_count": null,
   "metadata": {
    "colab": {
     "base_uri": "https://localhost:8080/"
    },
    "id": "q7Eg9E6DPdx0",
    "outputId": "cd6b64b9-f4c5-4055-c7dc-7ffb6fb32e11"
   },
   "outputs": [],
   "source": [
    "!nvidia-smi"
   ]
  },
  {
   "cell_type": "code",
   "execution_count": null,
   "metadata": {
    "id": "-Neqb0gKt_3R"
   },
   "outputs": [],
   "source": [
    "import torch\n",
    "import torch.nn as nn\n",
    "import torch.optim as optim\n",
    "import time"
   ]
  },
  {
   "cell_type": "code",
   "execution_count": null,
   "metadata": {
    "colab": {
     "base_uri": "https://localhost:8080/"
    },
    "id": "0W8fA0fLOekS",
    "outputId": "02120b16-b4c1-4ab4-b3ed-d54467903312"
   },
   "outputs": [],
   "source": [
    "# Definición de una red neuronal simple\n",
    "class SimpleNN(nn.Module):\n",
    "    def __init__(self):\n",
    "        super(SimpleNN, self).__init__()\n",
    "        self.fc1 = nn.Linear(1000, 512)\n",
    "        self.fc2 = nn.Linear(512, 256)\n",
    "        self.fc3 = nn.Linear(256, 128)\n",
    "        self.fc4 = nn.Linear(128, 10)\n",
    "\n",
    "    def forward(self, x):\n",
    "        x = torch.relu(self.fc1(x))\n",
    "        x = torch.relu(self.fc2(x))\n",
    "        x = torch.relu(self.fc3(x))\n",
    "        x = self.fc4(x)\n",
    "        return x\n",
    "\n",
    "# Función para medir el tiempo de entrenamiento\n",
    "def train_network(device):\n",
    "    # Crear datos sintéticos\n",
    "    x = torch.randn(10000, 1000).to(device)\n",
    "    y = torch.randint(0, 10, (10000,)).to(device)\n",
    "\n",
    "    # Inicializar la red, función de pérdida y optimizador\n",
    "    model = SimpleNN().to(device)\n",
    "    criterion = nn.CrossEntropyLoss()\n",
    "    optimizer = optim.SGD(model.parameters(), lr=0.01)\n",
    "\n",
    "    # Entrenamiento simple\n",
    "    start_time = time.time()\n",
    "    for epoch in range(5):  # 5 épocas para demostrar\n",
    "        optimizer.zero_grad()\n",
    "        outputs = model(x)\n",
    "        loss = criterion(outputs, y)\n",
    "        loss.backward()\n",
    "        optimizer.step()\n",
    "    end_time = time.time()\n",
    "\n",
    "    return end_time - start_time\n",
    "\n",
    "# Comparación de tiempo en CPU vs GPU\n",
    "device_cpu = torch.device(\"cpu\")\n",
    "time_cpu = train_network(device_cpu)\n",
    "print(f\"Tiempo de entrenamiento en CPU: {time_cpu:.2f} segundos\")\n",
    "\n",
    "if torch.cuda.is_available():\n",
    "    device_gpu = torch.device(\"cuda\")\n",
    "    time_gpu = train_network(device_gpu)\n",
    "    print(f\"Tiempo de entrenamiento en GPU: {time_gpu:.2f} segundos\")\n",
    "else:\n",
    "    print(\"No se encontró una GPU disponible.\")\n"
   ]
  },
  {
   "cell_type": "code",
   "execution_count": null,
   "metadata": {
    "colab": {
     "base_uri": "https://localhost:8080/"
    },
    "id": "wPI077pIpvSW",
    "outputId": "404d5d2a-aaac-4c15-be0e-b9553e28f8a0"
   },
   "outputs": [],
   "source": [
    "model = SimpleNN()  # Crea una instancia de tu modelo\n",
    "\n",
    "print(model)  # Imprime la arquitectura de la red"
   ]
  },
  {
   "cell_type": "code",
   "execution_count": null,
   "metadata": {
    "colab": {
     "base_uri": "https://localhost:8080/"
    },
    "id": "rnlO8uMzt5XE",
    "outputId": "86ea39fc-06d0-4f9a-d63a-6122130df0ac"
   },
   "outputs": [],
   "source": [
    "!pip install torchviz"
   ]
  },
  {
   "cell_type": "code",
   "execution_count": null,
   "metadata": {
    "colab": {
     "base_uri": "https://localhost:8080/",
     "height": 923
    },
    "id": "pIbdD-qgtl0y",
    "outputId": "e71dfbf8-fac3-4667-f751-5737c1910510"
   },
   "outputs": [],
   "source": [
    "from torchviz import make_dot\n",
    "\n",
    "# Crea datos de entrada de muestra (ajusta la forma según tu modelo)\n",
    "x = torch.randn(1, 1000)\n",
    "\n",
    "# Obtén la salida del modelo (y el gráfico computacional)\n",
    "y = model(x)\n",
    "\n",
    "# Genera el gráfico\n",
    "dot = make_dot(y, params=dict(model.named_parameters()))\n",
    "\n",
    "# Muestra el gráfico\n",
    "dot.render(\"neural_network_graph\", format=\"png\")  # Guarda como PNG\n",
    "dot # Muestra el gráfico en la salida de la celda\n"
   ]
  },
  {
   "cell_type": "markdown",
   "metadata": {
    "id": "9MZsm895puvW"
   },
   "source": []
  }
 ],
 "metadata": {
  "accelerator": "GPU",
  "colab": {
   "gpuType": "T4",
   "provenance": []
  },
  "kernelspec": {
   "display_name": "Python 3",
   "name": "python3"
  },
  "language_info": {
   "name": "python"
  }
 },
 "nbformat": 4,
 "nbformat_minor": 0
}
