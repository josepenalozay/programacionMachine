{
  "cells": [
    {
      "cell_type": "markdown",
      "metadata": {
        "id": "7r8fanU-KLea"
      },
      "source": [
        "**Disclaimer**:\n",
        "Tomado de los cursos:\n",
        "- “Introduction to Computer Science and Programming in Python” De MIT OpenCourseWare https://ocw.mit.edu/courses/electrical-engineering-and-computer-science/6-0001-introduction-to-computer-science-and-programming-in-python-fall-2016/\n",
        "\n"
      ]
    },
    {
      "cell_type": "markdown",
      "metadata": {},
      "source": [
        "### Introducción a Python\n",
        "\n",
        "Python es un lenguaje de programación potente y fácil de aprender.\n",
        "Tiene eficientes *estructuras de datos de alto nivel* y un enfoque simple pero efectivo de la *programación orientada a objetos*.\n",
        "\n",
        "La **elegante sintaxis** de Python y su **tipado dinámico**, junto con su **naturaleza interpretada**, lo convierten en un lenguaje ideal para el scripting y el desarrollo rápido de aplicaciones en muchas áreas y en la mayoría de las plataformas.\n",
        "\n",
        "- Creado por Guido van Rossum.\n",
        "- Debe su nombre al programa de la BBC «Monty Python's Flying Circus»."
      ]
    },
    {
      "cell_type": "code",
      "execution_count": 14,
      "metadata": {},
      "outputs": [
        {
          "name": "stdout",
          "output_type": "stream",
          "text": [
            "Variable         Type        Data/Info\n",
            "--------------------------------------\n",
            "area             float       32.169881600000004\n",
            "builtins         module      <module 'builtins' (built-in)>\n",
            "debugpy          module      <module 'debugpy' from 'C<...>s\\\\debugpy\\\\__init__.py'>\n",
            "f                function    <function f at 0x00000113136936A0>\n",
            "file             str         C:\\Users\\NESTOR\\AppData\\L<...>kernel_28364\\894383171.py\n",
            "func_a           function    <function func_a at 0x000001131334D1C0>\n",
            "func_b           function    <function func_b at 0x000001131334DB20>\n",
            "func_c           function    <function func_c at 0x000001131334D3A0>\n",
            "g                function    <function g at 0x00000113136934C0>\n",
            "h                function    <function h at 0x0000011313693420>\n",
            "hola             str         hello there\n",
            "ipykernel        module      <module 'ipykernel' from <...>\\ipykernel\\\\__init__.py'>\n",
            "la_funcion       function    <function la_funcion at 0x000001131334D4E0>\n",
            "nombre           str         ana\n",
            "notas_parcial    tuple       n=6\n",
            "num              int         21\n",
            "otra_funcion     function    <function otra_funcion at 0x000001131373EE80>\n",
            "pi               float       3.14159\n",
            "procesar_notas   function    <function procesar_notas at 0x0000011314625620>\n",
            "radio            float       3.2\n",
            "saludito         str         hello there ana ana ana\n",
            "saludo           str         hello thereana\n",
            "saludo_espacio   str         hello there ana\n",
            "text             str         nestor\n",
            "una_funcion      function    <function una_funcion at 0x000001131450C220>\n",
            "variable         int         5\n",
            "x                int         5\n",
            "y                float       4.0\n"
          ]
        }
      ],
      "source": [
        "%whos"
      ]
    },
    {
      "cell_type": "markdown",
      "metadata": {},
      "source": [
        "#### 1. Introducción"
      ]
    },
    {
      "cell_type": "markdown",
      "metadata": {},
      "source": [
        "**Valores y Variables**\n"
      ]
    },
    {
      "cell_type": "code",
      "execution_count": 1,
      "metadata": {},
      "outputs": [
        {
          "name": "stdout",
          "output_type": "stream",
          "text": [
            "15.205295600000001\n"
          ]
        }
      ],
      "source": [
        "pi = 3.14159\n",
        "radio = 2.2\n",
        "# area of circle equation <- this is a comment\n",
        "area = pi*(radio ** 2)\n",
        "print(area)\n"
      ]
    },
    {
      "cell_type": "markdown",
      "metadata": {},
      "source": [
        "**Re-asignar Variables**"
      ]
    },
    {
      "cell_type": "code",
      "execution_count": 2,
      "metadata": {},
      "outputs": [
        {
          "name": "stdout",
          "output_type": "stream",
          "text": [
            "15.205295600000001\n",
            "32.169881600000004\n"
          ]
        }
      ],
      "source": [
        "# change values of radio <- another comment\n",
        "# use comments to help others understand what you are doing in code\n",
        "radio = radio + 1\n",
        "print(area)     # area doesn't change\n",
        "area = pi*(radio ** 2)\n",
        "print(area)"
      ]
    },
    {
      "cell_type": "code",
      "execution_count": 2,
      "metadata": {},
      "outputs": [
        {
          "name": "stdout",
          "output_type": "stream",
          "text": [
            "Holaana\n",
            "Hola ana\n",
            "Hola ana ana ana\n"
          ]
        }
      ],
      "source": [
        "###################\n",
        "## EXAMPLE: strings \n",
        "###################\n",
        "hola = \"Hola\"\n",
        "nombre = \"Francisco\"\n",
        "saludo = hola + nombre\n",
        "print(saludo)\n",
        "saludo_espacio = hola + \" \" + nombre\n",
        "print(saludo_espacio)\n",
        "\n",
        "saludito = hola + (\" \" + nombre) * 3\n",
        "print(saludito)\n"
      ]
    },
    {
      "cell_type": "markdown",
      "metadata": {},
      "source": [
        "**Input()**\n"
      ]
    },
    {
      "cell_type": "code",
      "execution_count": 4,
      "metadata": {},
      "outputs": [
        {
          "name": "stdout",
          "output_type": "stream",
          "text": [
            "nestornestornestornestornestor\n",
            "105\n"
          ]
        }
      ],
      "source": [
        "####################\n",
        "## EXAMPLE: input\n",
        "####################\n",
        "numero_como_cadena = input(\"Ingrese un numero \")\n",
        "print(5*numero_como_cadena)\n",
        "\n",
        "numero_ingresado_int = int(input(\"Ingrese un numero \"))\n",
        "print(5*numero_ingresado_int)\n",
        "\n",
        "\n",
        "numero_como_int = int(numero_como_cadena)\n",
        "resultado = numero_como_int *2\n",
        "print( \"El doble de \"+ numero_como_cadena + \"es\" + str(resultado))\n",
        "\n"
      ]
    },
    {
      "cell_type": "markdown",
      "metadata": {},
      "source": [
        "#### 2. Estructuras de control"
      ]
    },
    {
      "cell_type": "markdown",
      "metadata": {},
      "source": [
        "Un ejemplo"
      ]
    },
    {
      "cell_type": "code",
      "execution_count": 55,
      "metadata": {},
      "outputs": [
        {
          "name": "stdout",
          "output_type": "stream",
          "text": [
            "False\n",
            "True\n"
          ]
        }
      ],
      "source": [
        "numero_cervezas = 3\n",
        "minimo_legal = 1\n",
        "puedo_manejar = numero_cervezas < minimo_legal\n",
        "print(puedo_manejar)\n",
        "\n",
        "efectivo = 15\n",
        "costo_taxi = 10\n",
        "\n",
        "tomar_taxi = not puedo_manejar and efectivo >= costo_taxi\n",
        "print(tomar_taxi)"
      ]
    },
    {
      "cell_type": "markdown",
      "metadata": {},
      "source": [
        "**Indentación**"
      ]
    },
    {
      "cell_type": "code",
      "execution_count": 56,
      "metadata": {},
      "outputs": [
        {
          "ename": "ValueError",
          "evalue": "could not convert string to float: ''",
          "output_type": "error",
          "traceback": [
            "\u001b[1;31m---------------------------------------------------------------------------\u001b[0m",
            "\u001b[1;31mValueError\u001b[0m                                Traceback (most recent call last)",
            "Cell \u001b[1;32mIn[56], line 4\u001b[0m\n\u001b[0;32m      1\u001b[0m \u001b[38;5;66;03m####################\u001b[39;00m\n\u001b[0;32m      2\u001b[0m \u001b[38;5;66;03m## EXAMPLE: conditionals/branching \u001b[39;00m\n\u001b[0;32m      3\u001b[0m \u001b[38;5;66;03m####################\u001b[39;00m\n\u001b[1;32m----> 4\u001b[0m x \u001b[38;5;241m=\u001b[39m \u001b[38;5;28;43mfloat\u001b[39;49m\u001b[43m(\u001b[49m\u001b[38;5;28;43minput\u001b[39;49m\u001b[43m(\u001b[49m\u001b[38;5;124;43m\"\u001b[39;49m\u001b[38;5;124;43mIngrese el vaor de x: \u001b[39;49m\u001b[38;5;124;43m\"\u001b[39;49m\u001b[43m)\u001b[49m\u001b[43m)\u001b[49m\n\u001b[0;32m      5\u001b[0m y \u001b[38;5;241m=\u001b[39m \u001b[38;5;28mfloat\u001b[39m(\u001b[38;5;28minput\u001b[39m(\u001b[38;5;124m\"\u001b[39m\u001b[38;5;124mIngrese el vaor de y: \u001b[39m\u001b[38;5;124m\"\u001b[39m))\n\u001b[0;32m      6\u001b[0m \u001b[38;5;28;01mif\u001b[39;00m x \u001b[38;5;241m==\u001b[39m y:\n",
            "\u001b[1;31mValueError\u001b[0m: could not convert string to float: ''"
          ]
        }
      ],
      "source": [
        "####################\n",
        "## EXAMPLE: conditionals/branching \n",
        "####################\n",
        "x = float(input(\"Ingrese el vaor de x: \"))\n",
        "y = float(input(\"Ingrese el vaor de y: \"))\n",
        "if x == y:\n",
        "   print(\"x e y son iguales\")\n",
        "   if y != 0:\n",
        "       print(\"El valor de  x / y es\", x/y)\n",
        "elif x < y:\n",
        "   print(\"x es menor que y\")\n",
        "elif x > y:\n",
        "   print(\"y es menor que x\")\n",
        "print(\"Fin!\")\n"
      ]
    },
    {
      "cell_type": "markdown",
      "metadata": {},
      "source": [
        "**Iteración con while**\n"
      ]
    },
    {
      "cell_type": "code",
      "execution_count": null,
      "metadata": {},
      "outputs": [
        {
          "name": "stdout",
          "output_type": "stream",
          "text": [
            "¡¡¡FALLA DEL SISTEMA!!!\n",
            "¡¡¡FALLA DEL SISTEMA!!!\n",
            "¡¡¡FALLA DEL SISTEMA!!!\n",
            "Muchas gracias por su participación\n"
          ]
        }
      ],
      "source": [
        "respuesta = input(\"ENCUESTA : Cual es el mejor equipo del peru\")\n",
        "\n",
        "while respuesta != \"Alianza\":\n",
        "    print(\"¡¡¡FALLA DEL SISTEMA!!!\")\n",
        "    respuesta = input(\"ENCUESTA : Cual es el mejor equipo del peru\")\n",
        "\n",
        "print(\"Muchas gracias por su participación\")    "
      ]
    },
    {
      "cell_type": "markdown",
      "metadata": {},
      "source": [
        "**Iteración con for**\n"
      ]
    },
    {
      "cell_type": "code",
      "execution_count": null,
      "metadata": {},
      "outputs": [
        {
          "name": "stdout",
          "output_type": "stream",
          "text": [
            "Iteracion con while:\n",
            "0\n",
            "1\n",
            "2\n",
            "3\n",
            "4\n",
            "Iteracion con for:\n",
            "0\n",
            "1\n",
            "2\n",
            "3\n",
            "4\n"
          ]
        }
      ],
      "source": [
        "print(\"Iteracion con while:\")\n",
        "contador = 0\n",
        "while contador < 5:\n",
        "   print(contador)\n",
        "   contador = contador + 1\n",
        "\n",
        "print(\"Iteracion con for:\")\n",
        "for contador in range(5):\n",
        "   print(contador)\n"
      ]
    },
    {
      "cell_type": "markdown",
      "metadata": {},
      "source": [
        "**range(inicio, fin, incremento)**\n"
      ]
    },
    {
      "cell_type": "code",
      "execution_count": null,
      "metadata": {},
      "outputs": [
        {
          "name": "stdout",
          "output_type": "stream",
          "text": [
            "numero:  5\n",
            "numero:  7\n",
            "numero:  9\n",
            "total:  21\n"
          ]
        }
      ],
      "source": [
        "total = 0\n",
        "for numero in range(5, 11, 2):\n",
        "   print(\"numero: \", numero)\n",
        "   total += numero\n",
        "print(\"total: \",total)"
      ]
    },
    {
      "cell_type": "markdown",
      "metadata": {},
      "source": [
        "**break**"
      ]
    },
    {
      "cell_type": "code",
      "execution_count": null,
      "metadata": {},
      "outputs": [
        {
          "name": "stdout",
          "output_type": "stream",
          "text": [
            "numero:  5\n",
            "total:  5\n"
          ]
        }
      ],
      "source": [
        "total = 0\n",
        "for numero in range(5, 11, 2):\n",
        "    print(\"numero: \", numero)\n",
        "    total += numero\n",
        "    if total == 5:\n",
        "        break\n",
        "        total += 1\n",
        "print(\"total: \",total)"
      ]
    },
    {
      "cell_type": "markdown",
      "metadata": {},
      "source": [
        "#### 3. Cadenas"
      ]
    },
    {
      "cell_type": "markdown",
      "metadata": {},
      "source": [
        "**Cadenas de Caracteres**\n"
      ]
    },
    {
      "cell_type": "code",
      "execution_count": 4,
      "metadata": {},
      "outputs": [
        {
          "name": "stdout",
          "output_type": "stream",
          "text": [
            "len(una_cadena):  3\n",
            "una_cadena[0]:  U\n",
            "una_cadena[1]:  N\n",
            "una_cadena[2]:  I\n",
            "una_cadena[-1]:  I\n",
            "una_cadena[-2]:  N\n",
            "una_cadena[3]:  U\n"
          ]
        },
        {
          "ename": "IndexError",
          "evalue": "string index out of range",
          "output_type": "error",
          "traceback": [
            "\u001b[1;31m---------------------------------------------------------------------------\u001b[0m",
            "\u001b[1;31mIndexError\u001b[0m                                Traceback (most recent call last)",
            "Cell \u001b[1;32mIn[4], line 11\u001b[0m\n\u001b[0;32m      8\u001b[0m \u001b[38;5;28mprint\u001b[39m(\u001b[38;5;124m\"\u001b[39m\u001b[38;5;124muna_cadena[-2]: \u001b[39m\u001b[38;5;124m\"\u001b[39m,una_cadena[\u001b[38;5;241m-\u001b[39m\u001b[38;5;241m2\u001b[39m])\n\u001b[0;32m      9\u001b[0m \u001b[38;5;28mprint\u001b[39m(\u001b[38;5;124m\"\u001b[39m\u001b[38;5;124muna_cadena[3]: \u001b[39m\u001b[38;5;124m\"\u001b[39m,una_cadena[\u001b[38;5;241m-\u001b[39m\u001b[38;5;241m3\u001b[39m])\n\u001b[1;32m---> 11\u001b[0m \u001b[38;5;28mprint\u001b[39m(\u001b[38;5;124m\"\u001b[39m\u001b[38;5;124muna_cadena[3]: \u001b[39m\u001b[38;5;124m\"\u001b[39m,\u001b[43muna_cadena\u001b[49m\u001b[43m[\u001b[49m\u001b[38;5;241;43m3\u001b[39;49m\u001b[43m]\u001b[49m)\n",
            "\u001b[1;31mIndexError\u001b[0m: string index out of range"
          ]
        }
      ],
      "source": [
        "una_cadena = \"UNI\"\n",
        "print(\"len(una_cadena): \", len(una_cadena))\n",
        "\n",
        "print(\"una_cadena[0]: \",una_cadena[0])\n",
        "print(\"una_cadena[1]: \",una_cadena[1])\n",
        "print(\"una_cadena[2]: \",una_cadena[2])\n",
        "print(\"una_cadena[-1]: \",una_cadena[-1])\n",
        "print(\"una_cadena[-2]: \",una_cadena[-2])\n",
        "print(\"una_cadena[3]: \",una_cadena[-3])\n",
        "\n",
        "print(\"una_cadena[3]: \",una_cadena[3])"
      ]
    },
    {
      "cell_type": "markdown",
      "metadata": {},
      "source": [
        "**Slicing**"
      ]
    },
    {
      "cell_type": "code",
      "execution_count": 5,
      "metadata": {},
      "outputs": [
        {
          "name": "stdout",
          "output_type": "stream",
          "text": [
            "len(una_cadena):  8\n",
            "una_cadena[3:6]:  def\n",
            "na_cadena[3:6:2]:  df\n",
            "una_cadena[::]:  abcdefgh\n",
            "una_cadena[::-1]:  hgfedcba\n",
            "una_cadena[4:1:-2]:  ec\n"
          ]
        }
      ],
      "source": [
        "una_cadena = \"abcdefgh\"\n",
        "print(\"len(una_cadena): \", len(una_cadena))\n",
        "\n",
        "print(\"una_cadena[3:6]: \",una_cadena[3:6])\n",
        "print(\"na_cadena[3:6:2]: \",una_cadena[3:6:2])\n",
        "print(\"una_cadena[::]: \",una_cadena[::])\n",
        "print(\"una_cadena[::-1]: \",una_cadena[::-1])\n",
        "print(\"una_cadena[4:1:-2]: \",una_cadena[4:1:-2])\n"
      ]
    },
    {
      "cell_type": "markdown",
      "metadata": {},
      "source": [
        "**Las Cadenas son Inmutables**"
      ]
    },
    {
      "cell_type": "code",
      "execution_count": 7,
      "metadata": {},
      "outputs": [
        {
          "name": "stdout",
          "output_type": "stream",
          "text": [
            "hello\n",
            "yello\n"
          ]
        },
        {
          "ename": "TypeError",
          "evalue": "'str' object does not support item assignment",
          "output_type": "error",
          "traceback": [
            "\u001b[1;31m---------------------------------------------------------------------------\u001b[0m",
            "\u001b[1;31mTypeError\u001b[0m                                 Traceback (most recent call last)",
            "Cell \u001b[1;32mIn[7], line 6\u001b[0m\n\u001b[0;32m      3\u001b[0m s \u001b[38;5;241m=\u001b[39m \u001b[38;5;124m'\u001b[39m\u001b[38;5;124my\u001b[39m\u001b[38;5;124m'\u001b[39m\u001b[38;5;241m+\u001b[39ms[\u001b[38;5;241m1\u001b[39m:\u001b[38;5;28mlen\u001b[39m(s)]\n\u001b[0;32m      4\u001b[0m \u001b[38;5;28mprint\u001b[39m(s)\n\u001b[1;32m----> 6\u001b[0m \u001b[43ms\u001b[49m\u001b[43m[\u001b[49m\u001b[38;5;241;43m0\u001b[39;49m\u001b[43m]\u001b[49m \u001b[38;5;241m=\u001b[39m \u001b[38;5;124m'\u001b[39m\u001b[38;5;124mz\u001b[39m\u001b[38;5;124m'\u001b[39m\n",
            "\u001b[1;31mTypeError\u001b[0m: 'str' object does not support item assignment"
          ]
        }
      ],
      "source": [
        "s = \"hello\"\n",
        "print(s)\n",
        "s = 'y'+s[1:len(s)]\n",
        "print(s)\n",
        "\n",
        "s[0] = 'z'\n"
      ]
    },
    {
      "cell_type": "markdown",
      "metadata": {},
      "source": [
        "**Cadenas y Bucles**\n"
      ]
    },
    {
      "cell_type": "code",
      "execution_count": 8,
      "metadata": {},
      "outputs": [
        {
          "name": "stdout",
          "output_type": "stream",
          "text": [
            "La cadena contiene la letra 'e'\n",
            "La cadena contiene la letra 'e'\n"
          ]
        }
      ],
      "source": [
        "####################\n",
        "## EXAMPLE: for loops over strings\n",
        "####################\n",
        "una_cadena = \"abcdefgh\"\n",
        "for indice in range(len(una_cadena)):\n",
        "   if una_cadena[indice] == 'e':\n",
        "       print(\"La cadena contiene la letra 'e'\")\n",
        "\n",
        "for letra in una_cadena:\n",
        "   if letra == 'e':\n",
        "       print(\"La cadena contiene la letra 'e'\")\n"
      ]
    },
    {
      "cell_type": "markdown",
      "metadata": {},
      "source": [
        "#### 4. Funciones"
      ]
    },
    {
      "cell_type": "markdown",
      "metadata": {},
      "source": [
        "**Funciones**"
      ]
    },
    {
      "cell_type": "code",
      "execution_count": 9,
      "metadata": {},
      "outputs": [
        {
          "name": "stdout",
          "output_type": "stream",
          "text": [
            "Evaluando  3\n",
            "False\n"
          ]
        }
      ],
      "source": [
        "def es_numero_par(numero):\n",
        "    \"\"\"\n",
        "    Input: numero, a positive int\n",
        "    Returns True if numero is even, otherwise False\n",
        "    \"\"\"\n",
        "    print('Evaluando ', numero)\n",
        "    resto = numero % 2\n",
        "    return resto == 0\n",
        "\n",
        "resultado = es_numero_par(3)\n",
        "print(resultado)"
      ]
    },
    {
      "cell_type": "markdown",
      "metadata": {},
      "source": [
        "**Ámbito 1**"
      ]
    },
    {
      "cell_type": "code",
      "execution_count": null,
      "metadata": {},
      "outputs": [],
      "source": [
        "def f(x):\n",
        "   x = x + 1\n",
        "   print('En f(x): x =', x)\n",
        "   return x\n",
        "\n",
        "x = 3\n",
        "z = f(x)\n",
        "\n",
        "print('x =', x)\n",
        "print('z =', z)\n"
      ]
    },
    {
      "cell_type": "markdown",
      "metadata": {},
      "source": [
        "**Ámbito 2**"
      ]
    },
    {
      "cell_type": "code",
      "execution_count": 10,
      "metadata": {},
      "outputs": [
        {
          "name": "stdout",
          "output_type": "stream",
          "text": [
            "Ejecutando func_a\n",
            "None\n",
            "Ejecutando func_b\n",
            "7\n",
            "Ejecutando func_c\n",
            "Ejecutando func_a\n",
            "None\n"
          ]
        }
      ],
      "source": [
        "#########################\n",
        "## EXAMPLE: functions as arguments\n",
        "## Python Tutor link: http://www.pythontutor.com/visualize.html#code=def%20func_a(%29%3A%0A%20%20%20%20print('inside%20func_a'%29%0A%0Adef%20func_b(y%29%3A%0A%20%20%20%20print('inside%20func_b'%29%0A%20%20%20%20return%20y%0A%0Adef%20func_c(z%29%3A%0A%20%20%20%20print('inside%20func_c'%29%0A%20%20%20%20return%20z(%29%0A%0Aprint(func_a(%29%29%0Aprint(5%2Bfunc_b(2%29%29%0Aprint(func_c(func_a%29%29%0A&cumulative=false&curInstr=0&heapPrimitives=false&mode=display&origin=opt-frontend.js&py=3&rawInputLstJSON=%5B%5D&textReferences=false\n",
        "#########################\n",
        "\n",
        "\n",
        "def func_a():\n",
        "    print('Ejecutando func_a')\n",
        "\n",
        "def func_b(y):\n",
        "    print('Ejecutando func_b')\n",
        "    return y\n",
        "\n",
        "def func_c(z):\n",
        "    print('Ejecutando func_c')\n",
        "    return z()\n",
        "\n",
        "print(func_a())\n",
        "print(5+func_b(2))\n",
        "print(func_c(func_a))"
      ]
    },
    {
      "cell_type": "markdown",
      "metadata": {},
      "source": [
        "**Ámbito 3**"
      ]
    },
    {
      "cell_type": "code",
      "execution_count": 11,
      "metadata": {},
      "outputs": [
        {
          "name": "stdout",
          "output_type": "stream",
          "text": [
            "una funcion: variable= 2\n",
            "variable = 5\n",
            "otra funcion: variable= 5\n",
            "otra funcion: variable+1= 6\n",
            "variable = 5\n"
          ]
        },
        {
          "ename": "UnboundLocalError",
          "evalue": "cannot access local variable 'variable' where it is not associated with a value",
          "output_type": "error",
          "traceback": [
            "\u001b[1;31m---------------------------------------------------------------------------\u001b[0m",
            "\u001b[1;31mUnboundLocalError\u001b[0m                         Traceback (most recent call last)",
            "Cell \u001b[1;32mIn[11], line 19\u001b[0m\n\u001b[0;32m     17\u001b[0m otra_funcion(variable)\n\u001b[0;32m     18\u001b[0m \u001b[38;5;28mprint\u001b[39m(\u001b[38;5;124m\"\u001b[39m\u001b[38;5;124mvariable =\u001b[39m\u001b[38;5;124m\"\u001b[39m, variable)\n\u001b[1;32m---> 19\u001b[0m \u001b[43mla_funcion\u001b[49m\u001b[43m(\u001b[49m\u001b[43mvariable\u001b[49m\u001b[43m)\u001b[49m\n",
            "Cell \u001b[1;32mIn[11], line 11\u001b[0m, in \u001b[0;36mla_funcion\u001b[1;34m(parametro)\u001b[0m\n\u001b[0;32m     10\u001b[0m \u001b[38;5;28;01mdef\u001b[39;00m \u001b[38;5;21mla_funcion\u001b[39m(parametro):\n\u001b[1;32m---> 11\u001b[0m     \u001b[43mvariable\u001b[49m\u001b[38;5;241m+\u001b[39m\u001b[38;5;241m=\u001b[39m\u001b[38;5;241m1\u001b[39m\n",
            "\u001b[1;31mUnboundLocalError\u001b[0m: cannot access local variable 'variable' where it is not associated with a value"
          ]
        }
      ],
      "source": [
        "def una_funcion(parametro):\n",
        "    variable = 1\n",
        "    variable +=1\n",
        "    print(\"una funcion: variable=\",variable)\n",
        "\n",
        "def otra_funcion(parametro):\n",
        "    print(\"otra funcion: variable=\", variable)\n",
        "    print(\"otra funcion: variable+1=\", variable+1)\n",
        "\n",
        "def la_funcion(parametro):\n",
        "    variable+=1\n",
        "\n",
        "variable = 5\n",
        "\n",
        "una_funcion(variable)\n",
        "print(\"variable =\", variable)\n",
        "otra_funcion(variable)\n",
        "print(\"variable =\", variable)\n",
        "la_funcion(variable)"
      ]
    },
    {
      "cell_type": "markdown",
      "metadata": {},
      "source": [
        "#### 5. TUPLAS , LISTAS, ALIASING, MUTABILIDAD  Y CLONES\n"
      ]
    },
    {
      "cell_type": "markdown",
      "metadata": {},
      "source": [
        "**Usando Tuplas**"
      ]
    },
    {
      "cell_type": "code",
      "execution_count": 12,
      "metadata": {},
      "outputs": [
        {
          "name": "stdout",
          "output_type": "stream",
          "text": [
            "una_tupla[0]:  2\n",
            "len(una_tupla) 3\n",
            "una_tupla[1:2] :  ('UNI',)\n",
            "una_tupla[1:3] :  ('UNI', 3)\n",
            "otra_tupla:  (2, 'UNI', 3, 5, 6)\n"
          ]
        },
        {
          "ename": "TypeError",
          "evalue": "'tuple' object does not support item assignment",
          "output_type": "error",
          "traceback": [
            "\u001b[1;31m---------------------------------------------------------------------------\u001b[0m",
            "\u001b[1;31mTypeError\u001b[0m                                 Traceback (most recent call last)",
            "Cell \u001b[1;32mIn[12], line 10\u001b[0m\n\u001b[0;32m      8\u001b[0m otra_tupla \u001b[38;5;241m=\u001b[39m (\u001b[38;5;241m2\u001b[39m, \u001b[38;5;124m\"\u001b[39m\u001b[38;5;124mUNI\u001b[39m\u001b[38;5;124m\"\u001b[39m, \u001b[38;5;241m3\u001b[39m) \u001b[38;5;241m+\u001b[39m (\u001b[38;5;241m5\u001b[39m,\u001b[38;5;241m6\u001b[39m)\n\u001b[0;32m      9\u001b[0m \u001b[38;5;28mprint\u001b[39m(\u001b[38;5;124m\"\u001b[39m\u001b[38;5;124motra_tupla: \u001b[39m\u001b[38;5;124m\"\u001b[39m,otra_tupla)\n\u001b[1;32m---> 10\u001b[0m \u001b[43motra_tupla\u001b[49m\u001b[43m[\u001b[49m\u001b[38;5;241;43m1\u001b[39;49m\u001b[43m]\u001b[49m \u001b[38;5;241m=\u001b[39m \u001b[38;5;241m4\u001b[39m\n",
            "\u001b[1;31mTypeError\u001b[0m: 'tuple' object does not support item assignment"
          ]
        }
      ],
      "source": [
        "tupla_vacia = ()\n",
        "una_tupla = (2, \"UNI\", 3)\n",
        "print(\"una_tupla[0]: \",una_tupla[0])\n",
        "print(\"len(una_tupla)\",len(una_tupla))\n",
        "print(\"una_tupla[1:2] : \",una_tupla[1:2] )\n",
        "print(\"una_tupla[1:3] : \",una_tupla[1:3] )\n",
        "\n",
        "otra_tupla = (2, \"UNI\", 3) + (5,6)\n",
        "print(\"otra_tupla: \",otra_tupla)\n",
        "otra_tupla[1] = 4"
      ]
    },
    {
      "cell_type": "markdown",
      "metadata": {},
      "source": [
        "**Usando Tuplas**\n"
      ]
    },
    {
      "cell_type": "code",
      "execution_count": 14,
      "metadata": {},
      "outputs": [
        {
          "name": "stdout",
          "output_type": "stream",
          "text": [
            "una_variable:  3\n",
            "otra_variable:  3\n",
            "una_variable:  3\n",
            "otra_variable:  10\n",
            "(3, 1)\n"
          ]
        }
      ],
      "source": [
        "una_variable = 10\n",
        "otra_variable = 3\n",
        "\n",
        "una_variable = otra_variable\n",
        "otra_variable = una_variable\n",
        "print(\"una_variable: \",una_variable)\n",
        "print(\"otra_variable: \",otra_variable)\n",
        "\n",
        "\n",
        "una_variable = 10\n",
        "otra_variable = 3\n",
        "\n",
        "(una_variable, otra_variable) = (otra_variable, una_variable)\n",
        "print(\"una_variable: \",una_variable)\n",
        "print(\"otra_variable: \",otra_variable)\n",
        "\n",
        "\n",
        "def division_entera(dividendo,divisor):\n",
        "    cociente = dividendo//divisor\n",
        "    residuo = dividendo % divisor\n",
        "    return (cociente, residuo)\n",
        "\n",
        "print(division_entera(10,3))"
      ]
    },
    {
      "cell_type": "markdown",
      "metadata": {},
      "source": [
        "**Usando Tuplas**\n"
      ]
    },
    {
      "cell_type": "code",
      "execution_count": 16,
      "metadata": {},
      "outputs": [
        {
          "name": "stdout",
          "output_type": "stream",
          "text": [
            "una_tupla[0]:  2\n",
            "len(una_tupla) 3\n",
            "una_tupla[1:2] :  ('UNI',)\n",
            "una_tupla[1:3] :  ('UNI', 3)\n",
            "otra_tupla:  (2, 'UNI', 3, 5, 6)\n"
          ]
        },
        {
          "ename": "TypeError",
          "evalue": "'tuple' object does not support item assignment",
          "output_type": "error",
          "traceback": [
            "\u001b[1;31m---------------------------------------------------------------------------\u001b[0m",
            "\u001b[1;31mTypeError\u001b[0m                                 Traceback (most recent call last)",
            "Cell \u001b[1;32mIn[16], line 10\u001b[0m\n\u001b[0;32m      8\u001b[0m otra_tupla \u001b[38;5;241m=\u001b[39m (\u001b[38;5;241m2\u001b[39m, \u001b[38;5;124m\"\u001b[39m\u001b[38;5;124mUNI\u001b[39m\u001b[38;5;124m\"\u001b[39m, \u001b[38;5;241m3\u001b[39m) \u001b[38;5;241m+\u001b[39m (\u001b[38;5;241m5\u001b[39m,\u001b[38;5;241m6\u001b[39m)\n\u001b[0;32m      9\u001b[0m \u001b[38;5;28mprint\u001b[39m(\u001b[38;5;124m\"\u001b[39m\u001b[38;5;124motra_tupla: \u001b[39m\u001b[38;5;124m\"\u001b[39m,otra_tupla)\n\u001b[1;32m---> 10\u001b[0m \u001b[43motra_tupla\u001b[49m\u001b[43m[\u001b[49m\u001b[38;5;241;43m1\u001b[39;49m\u001b[43m]\u001b[49m \u001b[38;5;241m=\u001b[39m \u001b[38;5;241m4\u001b[39m\n",
            "\u001b[1;31mTypeError\u001b[0m: 'tuple' object does not support item assignment"
          ]
        }
      ],
      "source": [
        "tupla_vacia = ()\n",
        "una_tupla = (2, \"UNI\", 3)\n",
        "print(\"una_tupla[0]: \",una_tupla[0])\n",
        "print(\"len(una_tupla)\",len(una_tupla))\n",
        "print(\"una_tupla[1:2] : \",una_tupla[1:2] )\n",
        "print(\"una_tupla[1:3] : \",una_tupla[1:3] )\n",
        "\n",
        "otra_tupla = (2, \"UNI\", 3) + (5,6)\n",
        "print(\"otra_tupla: \",otra_tupla)\n",
        "otra_tupla[1] = 4\n",
        "\n"
      ]
    },
    {
      "cell_type": "code",
      "execution_count": 17,
      "metadata": {},
      "outputs": [
        {
          "name": "stdout",
          "output_type": "stream",
          "text": [
            "una_variable:  3\n",
            "otra_variable:  3\n",
            "una_variable:  3\n",
            "otra_variable:  10\n",
            "(3, 1)\n"
          ]
        }
      ],
      "source": [
        "una_variable = 10\n",
        "otra_variable = 3\n",
        "\n",
        "una_variable = otra_variable\n",
        "otra_variable = una_variable\n",
        "print(\"una_variable: \",una_variable)\n",
        "print(\"otra_variable: \",otra_variable)\n",
        "\n",
        "\n",
        "una_variable = 10\n",
        "otra_variable = 3\n",
        "\n",
        "(una_variable, otra_variable) = (otra_variable, una_variable)\n",
        "print(\"una_variable: \",una_variable)\n",
        "print(\"otra_variable: \",otra_variable)\n",
        "\n",
        "\n",
        "def division_entera(dividendo,divisor):\n",
        "    cociente = dividendo//divisor\n",
        "    residuo = dividendo % divisor\n",
        "    return (cociente, residuo)\n",
        "\n",
        "print(division_entera(10,3))"
      ]
    },
    {
      "cell_type": "markdown",
      "metadata": {},
      "source": [
        "**Listas**"
      ]
    },
    {
      "cell_type": "code",
      "execution_count": 18,
      "metadata": {},
      "outputs": [
        {
          "name": "stdout",
          "output_type": "stream",
          "text": [
            "len(otra_lista):  4\n",
            "otra_lista[0]:  2\n",
            "otra_lista[2] + 1:  5\n",
            "otra_lista[3]:  [1, 2]\n",
            "otra_lista[indice - 1]:  u\n"
          ]
        },
        {
          "ename": "IndexError",
          "evalue": "list index out of range",
          "output_type": "error",
          "traceback": [
            "\u001b[1;31m---------------------------------------------------------------------------\u001b[0m",
            "\u001b[1;31mIndexError\u001b[0m                                Traceback (most recent call last)",
            "Cell \u001b[1;32mIn[18], line 13\u001b[0m\n\u001b[0;32m     11\u001b[0m indice \u001b[38;5;241m=\u001b[39m \u001b[38;5;241m2\u001b[39m\n\u001b[0;32m     12\u001b[0m \u001b[38;5;28mprint\u001b[39m(\u001b[38;5;124m\"\u001b[39m\u001b[38;5;124motra_lista[indice - 1]: \u001b[39m\u001b[38;5;124m\"\u001b[39m,otra_lista[indice \u001b[38;5;241m-\u001b[39m \u001b[38;5;241m1\u001b[39m])\n\u001b[1;32m---> 13\u001b[0m \u001b[38;5;28mprint\u001b[39m(\u001b[43motra_lista\u001b[49m\u001b[43m[\u001b[49m\u001b[38;5;241;43m4\u001b[39;49m\u001b[43m]\u001b[49m)\n",
            "\u001b[1;31mIndexError\u001b[0m: list index out of range"
          ]
        }
      ],
      "source": [
        "lista_vacia = []\n",
        "\n",
        "otra_lista = [2, 'u', 4, [1, 2]]\n",
        "\n",
        "print(\"len(otra_lista): \", len(otra_lista))\n",
        "print(\"otra_lista[0]: \", otra_lista[0])\n",
        "print(\"otra_lista[2] + 1: \", otra_lista[2] + 1)\n",
        "print(\"otra_lista[3]: \", otra_lista[3])\n",
        "\n",
        "\n",
        "indice = 2\n",
        "print(\"otra_lista[indice - 1]: \",otra_lista[indice - 1])\n",
        "print(otra_lista[4])\n"
      ]
    },
    {
      "cell_type": "markdown",
      "metadata": {},
      "source": [
        "**Modificando Elementos**"
      ]
    },
    {
      "cell_type": "code",
      "execution_count": 19,
      "metadata": {},
      "outputs": [
        {
          "name": "stdout",
          "output_type": "stream",
          "text": [
            "L original: [2, 1, 3]\n",
            "L modfificada: [2, 5, 3]\n"
          ]
        }
      ],
      "source": [
        "L = [2, 1, 3]\n",
        "print(\"L original:\", L)\n",
        "L[1] = 5\n",
        "print(\"L modfificada:\", L)"
      ]
    },
    {
      "cell_type": "markdown",
      "metadata": {},
      "source": [
        "**Iterando sobre Listas**"
      ]
    },
    {
      "cell_type": "code",
      "execution_count": 20,
      "metadata": {},
      "outputs": [
        {
          "name": "stdout",
          "output_type": "stream",
          "text": [
            "total_impuestos:  400.0\n",
            "total impuestos:  400.0\n"
          ]
        }
      ],
      "source": [
        "impuestos_por_mes = [100.0, 200.0, 100.0]\n",
        "\n",
        "total_impuestos = 0.0\n",
        "\n",
        "for indice in range(len(impuestos_por_mes)):\n",
        "    total_impuestos+=impuestos_por_mes[indice]\n",
        "\n",
        "print(\"total_impuestos: \", total_impuestos)\n",
        "\n",
        "total_impuestos = 0.0\n",
        "for impuesto_mensual in impuestos_por_mes:\n",
        "    total_impuestos += impuesto_mensual\n",
        "\n",
        "print(\"total impuestos: \", total_impuestos)"
      ]
    },
    {
      "cell_type": "markdown",
      "metadata": {},
      "source": [
        "**Agregar Elementos**\n"
      ]
    },
    {
      "cell_type": "code",
      "execution_count": 21,
      "metadata": {},
      "outputs": [
        {
          "name": "stdout",
          "output_type": "stream",
          "text": [
            "impuestos_por_mes:  [100.0, 200.0, 100.0]\n",
            "impuestos_por_mes:  [100.0, 200.0, 100.0, 150.0]\n"
          ]
        }
      ],
      "source": [
        "impuestos_por_mes = [100.0, 200.0, 100.0]\n",
        "print(\"impuestos_por_mes: \", impuestos_por_mes)\n",
        "\n",
        "impuestos_por_mes.append(150.0)\n",
        "print(\"impuestos_por_mes: \", impuestos_por_mes)"
      ]
    },
    {
      "cell_type": "markdown",
      "metadata": {},
      "source": [
        "**Concatenar Listas**"
      ]
    },
    {
      "cell_type": "code",
      "execution_count": 22,
      "metadata": {},
      "outputs": [
        {
          "name": "stdout",
          "output_type": "stream",
          "text": [
            "lista_concatenada:  [2, 1, 3, 4, 5, 6]\n",
            "Antes de extend:  [2, 1, 3]\n",
            "Despues de extend:  [2, 1, 3, 0, 6]\n"
          ]
        }
      ],
      "source": [
        "una_lista = [2, 1, 3]\n",
        "otra_lista = [4, 5, 6]\n",
        "lista_concatenada = una_lista + otra_lista\n",
        "print(\"lista_concatenada: \",lista_concatenada)\n",
        "\n",
        "print(\"Antes de extend: \", una_lista)\n",
        "una_lista.extend([0, 6])\n",
        "print(\"Despues de extend: \", una_lista)\n"
      ]
    },
    {
      "cell_type": "markdown",
      "metadata": {},
      "source": [
        "**Eliminar Elementos**"
      ]
    },
    {
      "cell_type": "code",
      "execution_count": 23,
      "metadata": {},
      "outputs": [
        {
          "name": "stdout",
          "output_type": "stream",
          "text": [
            "una_lista:  [1, 3, 6, 3, 7, 0]\n",
            "una_lista:  [1, 6, 3, 7, 0]\n",
            "una_lista:  [1, 3, 7, 0]\n",
            "ultimo_elemento:  0\n",
            "una_lista:  [1, 3, 7]\n"
          ]
        }
      ],
      "source": [
        "una_lista = [2, 1, 3, 6, 3, 7, 0]\n",
        "una_lista.remove(2)\n",
        "print(\"una_lista: \", una_lista)\n",
        "\n",
        "una_lista.remove(3)\n",
        "print(\"una_lista: \", una_lista)\n",
        "\n",
        "del(una_lista[1])\n",
        "print(\"una_lista: \", una_lista)\n",
        "\n",
        "ultimo_elemento = una_lista.pop()\n",
        "print(\"ultimo_elemento: \",ultimo_elemento)\n",
        "print(\"una_lista: \",una_lista)"
      ]
    },
    {
      "cell_type": "markdown",
      "metadata": {},
      "source": [
        "**Listas y Cadenas**"
      ]
    },
    {
      "cell_type": "code",
      "execution_count": 24,
      "metadata": {},
      "outputs": [
        {
          "name": "stdout",
          "output_type": "stream",
          "text": [
            "['I', '<', '3', ' ', 'F', 'I', 'I', 'S']\n",
            "['I', '3 FIIS']\n",
            "abc\n",
            "a_b_c\n"
          ]
        }
      ],
      "source": [
        "una_cadena = \"I<3 FIIS\"\n",
        "\n",
        "print(list(una_cadena))\n",
        "print(una_cadena.split('<'))\n",
        "\n",
        "una_lista = ['a', 'b', 'c']\n",
        "print(''.join(una_lista))\n",
        "print('_'.join(una_lista))"
      ]
    },
    {
      "cell_type": "markdown",
      "metadata": {},
      "source": [
        "**Otras Operaciones en Listas**"
      ]
    },
    {
      "cell_type": "code",
      "execution_count": null,
      "metadata": {},
      "outputs": [],
      "source": [
        "una_lista=[9, 6, 0, 3]\n",
        "lista_ordenada = sorted(una_lista)\n",
        "\n",
        "print(\"una_lista: \",una_lista)\n",
        "print(\"lista_ordenada: \",lista_ordenada)\n",
        "\n",
        "una_lista.sort()\n",
        "print(\"una_lista: \",una_lista)\n",
        "\n",
        "una_lista.reverse()\n",
        "print(\"una_lista: \",una_lista)"
      ]
    },
    {
      "cell_type": "markdown",
      "metadata": {},
      "source": [
        "**Aliasing**"
      ]
    },
    {
      "cell_type": "code",
      "execution_count": 25,
      "metadata": {},
      "outputs": [
        {
          "name": "stdout",
          "output_type": "stream",
          "text": [
            "universidades:  ['UNI', 'PUCP', 'UNMSM', 'UNALM']\n",
            "casas_de_estudio:  ['UNI', 'PUCP', 'UNMSM', 'UNALM']\n"
          ]
        }
      ],
      "source": [
        "universidades = ['UNI', 'PUCP', 'UNMSM']\n",
        "casas_de_estudio = universidades\n",
        "casas_de_estudio.append('UNALM')\n",
        "\n",
        "print(\"universidades: \", universidades)\n",
        "print(\"casas_de_estudio: \", casas_de_estudio)"
      ]
    },
    {
      "cell_type": "markdown",
      "metadata": {},
      "source": [
        "**Cloning**"
      ]
    },
    {
      "cell_type": "code",
      "execution_count": 26,
      "metadata": {},
      "outputs": [
        {
          "name": "stdout",
          "output_type": "stream",
          "text": [
            "universidades_publicas:  ['UNI', 'UNMSM', 'UNALM']\n",
            "universidades:  ['UNI', 'UNMSM', 'UNALM', 'PUCP']\n"
          ]
        }
      ],
      "source": [
        "universidades_publicas = ['UNI', 'UNMSM', 'UNALM']\n",
        "universidades = universidades_publicas[:]\n",
        "universidades.append('PUCP')\n",
        "print(\"universidades_publicas: \", universidades_publicas)\n",
        "print(\"universidades: \",universidades)\n"
      ]
    },
    {
      "cell_type": "markdown",
      "metadata": {},
      "source": [
        "**Mutating**"
      ]
    },
    {
      "cell_type": "code",
      "execution_count": 27,
      "metadata": {},
      "outputs": [
        {
          "name": "stdout",
          "output_type": "stream",
          "text": [
            "[2, 3, 4]\n",
            "[3, 4]\n"
          ]
        }
      ],
      "source": [
        "def remover_duplicados(una_lista, otra_lista):\n",
        "    for un_elemento in una_lista:\n",
        "        if un_elemento in otra_lista:\n",
        "            una_lista.remove(un_elemento)\n",
        "\n",
        "\n",
        "def remover_duplicados_v2(una_lista, otra_lista):\n",
        "    copia_una_lista = una_lista[:]\n",
        "    for un_elemento in copia_una_lista:\n",
        "        if un_elemento in otra_lista:\n",
        "            una_lista.remove(un_elemento)\n",
        "\n",
        "\n",
        "lista1 = [1, 2, 3, 4]\n",
        "lista2 = [1, 2, 5, 6]\n",
        "remover_duplicados(lista1, lista2)\n",
        "print(lista1)\n",
        "\n",
        "lista1 = [1, 2, 3, 4]\n",
        "lista2 = [1, 2, 5, 6]\n",
        "remover_duplicados_v2(lista1, lista2)\n",
        "print(lista1)"
      ]
    },
    {
      "cell_type": "markdown",
      "metadata": {},
      "source": [
        "#### 6. RECURSIVIDAD"
      ]
    },
    {
      "cell_type": "markdown",
      "metadata": {},
      "source": [
        "**Solución Iterativa**\n"
      ]
    },
    {
      "cell_type": "code",
      "execution_count": 30,
      "metadata": {},
      "outputs": [
        {
          "name": "stdout",
          "output_type": "stream",
          "text": [
            "56\n"
          ]
        }
      ],
      "source": [
        "def multiplicar_iterativo(factor, otro_factor):\n",
        "    resultado = 0\n",
        "\n",
        "    while otro_factor > 0:\n",
        "        resultado += factor \n",
        "        otro_factor -= 1\n",
        "\n",
        "    return resultado\n",
        "\n",
        "print(multiplicar_iterativo(8, 7))\n"
      ]
    },
    {
      "cell_type": "markdown",
      "metadata": {},
      "source": [
        "**Solución Recursiva**\n"
      ]
    },
    {
      "cell_type": "code",
      "execution_count": 31,
      "metadata": {},
      "outputs": [
        {
          "name": "stdout",
          "output_type": "stream",
          "text": [
            "56\n"
          ]
        }
      ],
      "source": [
        "def multiplicacion(a, b):\n",
        "    # caso base\n",
        "    if b == 1:\n",
        "        return a\n",
        "    # llamada recurrente\n",
        "    else:\n",
        "        return a + multiplicacion(a, b - 1)\n",
        "\n",
        "print(multiplicacion(8,7))"
      ]
    },
    {
      "cell_type": "markdown",
      "metadata": {},
      "source": [
        "**Factorial**"
      ]
    },
    {
      "cell_type": "code",
      "execution_count": 33,
      "metadata": {},
      "outputs": [
        {
          "name": "stdout",
          "output_type": "stream",
          "text": [
            "24\n"
          ]
        }
      ],
      "source": [
        "# discos! = discos*(discos-1)*(discos-2)*(discos-3)* ... * 1\n",
        "def factorial(n):\n",
        "    if n == 1:\n",
        "        return 1\n",
        "    else:\n",
        "        return n * factorial(n - 1)\n",
        "\n",
        "print (factorial(4))\n"
      ]
    },
    {
      "cell_type": "markdown",
      "metadata": {},
      "source": [
        "**Iteración y Recursividad**\n"
      ]
    },
    {
      "cell_type": "code",
      "execution_count": 34,
      "metadata": {},
      "outputs": [
        {
          "name": "stdout",
          "output_type": "stream",
          "text": [
            "24\n",
            "24\n"
          ]
        }
      ],
      "source": [
        "# discos! = discos*(discos-1)*(discos-2)*(discos-3)* ... * 1\n",
        "def factorial_recursivo(n):\n",
        "    if n == 1:\n",
        "        return 1\n",
        "    else:\n",
        "        return n * factorial_recursivo(n - 1)\n",
        "\n",
        "def factorial_iterativo(n):\n",
        "    prod = 1\n",
        "    for i in range(1, n + 1):\n",
        "        prod *= i\n",
        "    return prod\n",
        "\n",
        "print (factorial_iterativo(4))\n",
        "print (factorial_recursivo(4))"
      ]
    },
    {
      "cell_type": "markdown",
      "metadata": {},
      "source": [
        "**Torres de Hanoi**"
      ]
    },
    {
      "cell_type": "code",
      "execution_count": 35,
      "metadata": {},
      "outputs": [
        {
          "name": "stdout",
          "output_type": "stream",
          "text": [
            "Mover discos desde IZQ hacia CENT\n",
            "Mover discos desde IZQ hacia DER\n",
            "Mover discos desde CENT hacia DER\n",
            "Mover discos desde IZQ hacia CENT\n",
            "Mover discos desde DER hacia IZQ\n",
            "Mover discos desde DER hacia CENT\n",
            "Mover discos desde IZQ hacia CENT\n",
            "Mover discos desde IZQ hacia DER\n",
            "Mover discos desde CENT hacia DER\n",
            "Mover discos desde CENT hacia IZQ\n",
            "Mover discos desde DER hacia IZQ\n",
            "Mover discos desde CENT hacia DER\n",
            "Mover discos desde IZQ hacia CENT\n",
            "Mover discos desde IZQ hacia DER\n",
            "Mover discos desde CENT hacia DER\n",
            "Mover discos desde IZQ hacia CENT\n",
            "Mover discos desde DER hacia IZQ\n",
            "Mover discos desde DER hacia CENT\n",
            "Mover discos desde IZQ hacia CENT\n",
            "Mover discos desde DER hacia IZQ\n",
            "Mover discos desde CENT hacia DER\n",
            "Mover discos desde CENT hacia IZQ\n",
            "Mover discos desde DER hacia IZQ\n",
            "Mover discos desde DER hacia CENT\n",
            "Mover discos desde IZQ hacia CENT\n",
            "Mover discos desde IZQ hacia DER\n",
            "Mover discos desde CENT hacia DER\n",
            "Mover discos desde IZQ hacia CENT\n",
            "Mover discos desde DER hacia IZQ\n",
            "Mover discos desde DER hacia CENT\n",
            "Mover discos desde IZQ hacia CENT\n",
            "None\n"
          ]
        }
      ],
      "source": [
        "def mostrar_movimientos(origen, destino):\n",
        "    print('Mover discos desde ' + str(origen) + ' hacia ' + str(destino))\n",
        "\n",
        "def mover_discos(discos, origen, destino, libre):\n",
        "    if discos == 1:\n",
        "        mostrar_movimientos(origen, destino)\n",
        "    else:\n",
        "        mover_discos(discos - 1, origen, libre, destino)\n",
        "        mover_discos(1, origen, destino, libre)\n",
        "        mover_discos(discos - 1, libre, destino, origen)\n",
        "\n",
        "print(mover_discos(5, \"IZQ\", \"CENT\",\"DER\"))"
      ]
    },
    {
      "cell_type": "markdown",
      "metadata": {},
      "source": [
        "**Secuencia de Fibonacci**\n"
      ]
    },
    {
      "cell_type": "code",
      "execution_count": 36,
      "metadata": {},
      "outputs": [
        {
          "name": "stdout",
          "output_type": "stream",
          "text": [
            "Fibonacci de 0: 1\n",
            "Fibonacci de 1: 1\n",
            "Fibonacci de 2: 2\n",
            "Fibonacci de 3: 3\n",
            "Fibonacci de 4: 5\n",
            "Fibonacci de 5: 8\n",
            "Fibonacci de 6: 13\n"
          ]
        }
      ],
      "source": [
        "def fibonacci(x):\n",
        "    \"\"\"\n",
        "        asume que x es un  int >= 0\n",
        "        returns Fibonacci de x\n",
        "    \"\"\"\n",
        "    if x == 0 or x == 1:\n",
        "        return 1\n",
        "    else:\n",
        "        return fibonacci(x - 1) + fibonacci(x - 2)\n",
        "\n",
        "for numero in range(7):\n",
        "    print(\"Fibonacci de \" + str(numero) + \": \" + str(fibonacci(numero)))"
      ]
    },
    {
      "cell_type": "markdown",
      "metadata": {},
      "source": [
        "**Identificar Palindromos**"
      ]
    },
    {
      "cell_type": "code",
      "execution_count": 37,
      "metadata": {},
      "outputs": [
        {
          "name": "stdout",
          "output_type": "stream",
          "text": [
            "True\n"
          ]
        }
      ],
      "source": [
        "def es_palindromo(frase):\n",
        "    \n",
        "    def pre_procesar(frase):\n",
        "        frase = frase.lower()\n",
        "        resultado = ''\n",
        "        for letra in frase:\n",
        "            if letra in 'abcdefghijklmnopqrstuvwxyz':\n",
        "                resultado = resultado + letra\n",
        "        return resultado\n",
        "\n",
        "    def evaluar(frase):\n",
        "        if len(frase) <= 1:\n",
        "            return True\n",
        "        else:\n",
        "            return frase[0] == frase[-1] and evaluar(frase[1:-1])\n",
        "\n",
        "    return evaluar(pre_procesar(frase))\n",
        "\n",
        "print(es_palindromo(\"Yo hago yoga hoy.\"))"
      ]
    },
    {
      "cell_type": "markdown",
      "metadata": {},
      "source": [
        "#### 6. RECURSIVIDAD Y DICCIONARIOS\n"
      ]
    },
    {
      "cell_type": "markdown",
      "metadata": {},
      "source": [
        "**Notas por Alumno**\n"
      ]
    },
    {
      "cell_type": "code",
      "execution_count": 39,
      "metadata": {},
      "outputs": [
        {
          "name": "stdout",
          "output_type": "stream",
          "text": [
            "('202402', 9.5)\n"
          ]
        }
      ],
      "source": [
        "def obtener_nota(codigo, lista_codigos, lista_nota):\n",
        "    indice = lista_codigos.index(codigo)\n",
        "    nota = lista_nota[indice]\n",
        "\n",
        "    return (codigo, nota)\n",
        "codigos = [\"202401\",\"202402\",\"202403\"]\n",
        "notas = [8.0, 9.5, 10.2]\n",
        "\n",
        "print(obtener_nota(\"202402\", codigos, notas))"
      ]
    },
    {
      "cell_type": "markdown",
      "metadata": {},
      "source": [
        "**Diccionarios en Python**\n"
      ]
    },
    {
      "cell_type": "code",
      "execution_count": 40,
      "metadata": {},
      "outputs": [
        {
          "name": "stdout",
          "output_type": "stream",
          "text": [
            "9.5\n"
          ]
        },
        {
          "ename": "KeyError",
          "evalue": "'202404'",
          "output_type": "error",
          "traceback": [
            "\u001b[1;31m---------------------------------------------------------------------------\u001b[0m",
            "\u001b[1;31mKeyError\u001b[0m                                  Traceback (most recent call last)",
            "Cell \u001b[1;32mIn[40], line 9\u001b[0m\n\u001b[0;32m      3\u001b[0m notas_por_codigo \u001b[38;5;241m=\u001b[39m {\u001b[38;5;124m\"\u001b[39m\u001b[38;5;124m202401\u001b[39m\u001b[38;5;124m\"\u001b[39m: \u001b[38;5;241m8.0\u001b[39m,\n\u001b[0;32m      4\u001b[0m                     \u001b[38;5;124m\"\u001b[39m\u001b[38;5;124m202402\u001b[39m\u001b[38;5;124m\"\u001b[39m: \u001b[38;5;241m9.5\u001b[39m,\n\u001b[0;32m      5\u001b[0m                     \u001b[38;5;124m\"\u001b[39m\u001b[38;5;124m202403\u001b[39m\u001b[38;5;124m\"\u001b[39m: \u001b[38;5;241m10.2\u001b[39m}\n\u001b[0;32m      8\u001b[0m \u001b[38;5;28mprint\u001b[39m(notas_por_codigo[\u001b[38;5;124m\"\u001b[39m\u001b[38;5;124m202402\u001b[39m\u001b[38;5;124m\"\u001b[39m])\n\u001b[1;32m----> 9\u001b[0m \u001b[38;5;28mprint\u001b[39m(\u001b[43mnotas_por_codigo\u001b[49m\u001b[43m[\u001b[49m\u001b[38;5;124;43m\"\u001b[39;49m\u001b[38;5;124;43m202404\u001b[39;49m\u001b[38;5;124;43m\"\u001b[39;49m\u001b[43m]\u001b[49m)\n",
            "\u001b[1;31mKeyError\u001b[0m: '202404'"
          ]
        }
      ],
      "source": [
        "diccionario_vacio = []\n",
        "\n",
        "notas_por_codigo = {\"202401\": 8.0,\n",
        "                    \"202402\": 9.5,\n",
        "                    \"202403\": 10.2}\n",
        "\n",
        "\n",
        "print(notas_por_codigo[\"202402\"])\n",
        "print(notas_por_codigo[\"202404\"])"
      ]
    },
    {
      "cell_type": "markdown",
      "metadata": {},
      "source": [
        "**Operaciones con Diccionarios**\n"
      ]
    },
    {
      "cell_type": "code",
      "execution_count": 41,
      "metadata": {},
      "outputs": [
        {
          "name": "stdout",
          "output_type": "stream",
          "text": [
            "False\n",
            "True\n",
            "18.0\n",
            "False\n"
          ]
        }
      ],
      "source": [
        "notas_por_codigo = {\"202401\": 8.0,\n",
        "                    \"202402\": 9.5,\n",
        "                    \"202403\": 10.2}\n",
        "\n",
        "print(\"202404\" in notas_por_codigo)\n",
        "notas_por_codigo[\"202404\"] = 18.0\n",
        "\n",
        "print(\"202404\" in notas_por_codigo)\n",
        "print(notas_por_codigo[\"202404\"])\n",
        "\n",
        "del(notas_por_codigo[\"202404\"])\n",
        "print(\"202404\" in notas_por_codigo)"
      ]
    },
    {
      "cell_type": "code",
      "execution_count": 42,
      "metadata": {},
      "outputs": [
        {
          "name": "stdout",
          "output_type": "stream",
          "text": [
            "dict_keys(['202401', '202402', '202403'])\n",
            "dict_values([8.0, 9.5, 10.2])\n"
          ]
        }
      ],
      "source": [
        "notas_por_codigo = {\"202401\": 8.0,\n",
        "                    \"202402\": 9.5,\n",
        "                    \"202403\": 10.2}\n",
        "\n",
        "print(notas_por_codigo.keys())\n",
        "print(notas_por_codigo.values())\n"
      ]
    },
    {
      "cell_type": "markdown",
      "metadata": {},
      "source": [
        "**Analizando Letras de Canciones**\n"
      ]
    },
    {
      "cell_type": "code",
      "execution_count": 43,
      "metadata": {},
      "outputs": [
        {
          "name": "stdout",
          "output_type": "stream",
          "text": [
            "{'si': 1, 'ellos': 1, 'están': 1, 'mintiendo,': 1, 'por': 2, 'favor': 2, 'defiéndete': 1, 'yo': 1, 'sé': 1, 'que': 2, 'no': 3, 'lo': 1, 'harás,': 1, 'pues': 1, 'dicen': 1, 'la': 1, 'verdad': 1, 'es': 1, 'una': 1, 'pena': 1, 'siempre': 2, 'seguirás': 1, 'doliéndome': 1, 'y': 1, 'culpable': 2, 'o': 2, '¿qué': 1, 'le': 1, 'puedo': 1, 'hacer': 1, 'ya?': 1, 'miénteme': 3, 'como': 1, 'necesito': 2, 'creerte': 1, 'convénceme': 1, 'con': 1, 'un': 1, 'beso': 1, 'parezca': 1, 'de': 1, 'amor': 1, 'quererte': 1}\n"
          ]
        }
      ],
      "source": [
        "def contar_palabras(lista_palabras):\n",
        "    frecuencias = {}\n",
        "    for palabra in lista_palabras:\n",
        "        if palabra in frecuencias:\n",
        "            frecuencias[palabra] += 1\n",
        "        else:\n",
        "            frecuencias[palabra] = 1\n",
        "\n",
        "    return frecuencias\n",
        "\n",
        "cancion = \"\"\"\n",
        "si ellos están mintiendo, por favor defiéndete\n",
        "yo sé que no lo harás, pues dicen la verdad\n",
        "es una pena siempre seguirás doliéndome\n",
        "y culpable o no\n",
        "¿qué le puedo hacer ya?\n",
        "miénteme como siempre\n",
        "por favor miénteme\n",
        "necesito creerte\n",
        "convénceme\n",
        "miénteme con un beso\n",
        "que parezca de amor\n",
        "necesito quererte\n",
        "culpable o no\n",
        "\"\"\"\n",
        "diccionario_frecuencias = contar_palabras(cancion.split())\n",
        "print(diccionario_frecuencias)"
      ]
    },
    {
      "cell_type": "markdown",
      "metadata": {},
      "source": [
        "**Palabra más frecuente**\n"
      ]
    },
    {
      "cell_type": "code",
      "execution_count": 45,
      "metadata": {},
      "outputs": [
        {
          "name": "stdout",
          "output_type": "stream",
          "text": [
            "(['no', 'miénteme'], 3)\n"
          ]
        }
      ],
      "source": [
        "diccionario_frecuencias = contar_palabras(cancion.split())\n",
        "\n",
        "def palabra_mas_comun(frecuencia_por_palabra):\n",
        "    frecuencias = frecuencia_por_palabra.values()\n",
        "    maxima_frecuencia = max(frecuencias)\n",
        "    palabras_comunes = []\n",
        "    for palabra in frecuencia_por_palabra:\n",
        "        if frecuencia_por_palabra[palabra] == maxima_frecuencia:\n",
        "            palabras_comunes.append(palabra)\n",
        "\n",
        "    return (palabras_comunes, maxima_frecuencia)\n",
        "\n",
        "palabras_comunes = palabra_mas_comun(diccionario_frecuencias)\n",
        "print(palabras_comunes)"
      ]
    },
    {
      "cell_type": "markdown",
      "metadata": {},
      "source": [
        "**Palabra que ocurren al menos n veces**\n"
      ]
    },
    {
      "cell_type": "code",
      "execution_count": 46,
      "metadata": {},
      "outputs": [
        {
          "name": "stdout",
          "output_type": "stream",
          "text": [
            "[(['no', 'miénteme'], 3), (['por', 'favor', 'que', 'siempre', 'culpable', 'o', 'necesito'], 2)]\n"
          ]
        }
      ],
      "source": [
        "def palabras_por_frecuencia(frecuencia_por_palabra, frecuencia_minima):\n",
        "    resultado = []\n",
        "    terminado = False\n",
        "    while not terminado:\n",
        "        palabra_frecuencia = palabra_mas_comun(frecuencia_por_palabra)\n",
        "        if palabra_frecuencia[1] >= frecuencia_minima:\n",
        "            resultado.append(palabra_frecuencia)\n",
        "            for palabra in palabra_frecuencia[0]:\n",
        "                del(frecuencia_por_palabra[palabra])\n",
        "        else:\n",
        "            terminado = True\n",
        "    return resultado\n",
        "\n",
        "al_menos_dos_veces = palabras_por_frecuencia(diccionario_frecuencias, 2)\n",
        "print(al_menos_dos_veces)"
      ]
    },
    {
      "cell_type": "markdown",
      "metadata": {},
      "source": [
        "**Fibonacci Mejorado**\n"
      ]
    },
    {
      "cell_type": "code",
      "execution_count": 47,
      "metadata": {},
      "outputs": [
        {
          "name": "stdout",
          "output_type": "stream",
          "text": [
            "13\n"
          ]
        }
      ],
      "source": [
        "def fibonacci_mejorado(numero, buffer):\n",
        "    if numero in buffer:\n",
        "        return buffer[numero]\n",
        "    else:\n",
        "        resultado = fibonacci_mejorado(numero - 1, buffer) \\\n",
        "                  + fibonacci_mejorado(numero - 2, buffer)\n",
        "        buffer[numero] = resultado\n",
        "        return resultado\n",
        "\n",
        "buffer = {0: 1,\n",
        "          1: 1}\n",
        "print(fibonacci_mejorado(6, buffer))"
      ]
    },
    {
      "cell_type": "markdown",
      "metadata": {},
      "source": [
        "#### 7. EXCEPCIONES"
      ]
    },
    {
      "cell_type": "code",
      "execution_count": 48,
      "metadata": {},
      "outputs": [
        {
          "ename": "ValueError",
          "evalue": "invalid literal for int() with base 10: 'cuatro'",
          "output_type": "error",
          "traceback": [
            "\u001b[1;31m---------------------------------------------------------------------------\u001b[0m",
            "\u001b[1;31mValueError\u001b[0m                                Traceback (most recent call last)",
            "Cell \u001b[1;32mIn[48], line 1\u001b[0m\n\u001b[1;32m----> 1\u001b[0m un_numero \u001b[38;5;241m=\u001b[39m \u001b[38;5;28;43mint\u001b[39;49m\u001b[43m(\u001b[49m\u001b[38;5;28;43minput\u001b[39;49m\u001b[43m(\u001b[49m\u001b[38;5;124;43m\"\u001b[39;49m\u001b[38;5;124;43mIngrese un numero:\u001b[39;49m\u001b[38;5;124;43m\"\u001b[39;49m\u001b[43m)\u001b[49m\u001b[43m)\u001b[49m\n\u001b[0;32m      2\u001b[0m otro_numero \u001b[38;5;241m=\u001b[39m \u001b[38;5;28mint\u001b[39m(\u001b[38;5;28minput\u001b[39m(\u001b[38;5;124m\"\u001b[39m\u001b[38;5;124mIngrese otro numero:\u001b[39m\u001b[38;5;124m\"\u001b[39m))\n\u001b[0;32m      3\u001b[0m \u001b[38;5;28mprint\u001b[39m(\u001b[38;5;124m\"\u001b[39m\u001b[38;5;124mEl conciente es: \u001b[39m\u001b[38;5;124m\"\u001b[39m,un_numero \u001b[38;5;241m/\u001b[39m otro_numero)\n",
            "\u001b[1;31mValueError\u001b[0m: invalid literal for int() with base 10: 'cuatro'"
          ]
        }
      ],
      "source": [
        "un_numero = int(input(\"Ingrese un numero:\"))\n",
        "otro_numero = int(input(\"Ingrese otro numero:\"))\n",
        "print(\"El conciente es: \",un_numero / otro_numero)\n",
        "\n",
        "print(\"Bug en la entrada de usuario.\")"
      ]
    },
    {
      "cell_type": "markdown",
      "metadata": {},
      "source": [
        "**Manejo de Excepciones**\n"
      ]
    },
    {
      "cell_type": "code",
      "execution_count": 49,
      "metadata": {},
      "outputs": [
        {
          "name": "stdout",
          "output_type": "stream",
          "text": [
            "Se ha producido un error\n",
            "Despues del la excepcion\n"
          ]
        }
      ],
      "source": [
        "try:\n",
        "    un_numero = int(input(\"Ingrese un numero:\"))\n",
        "    otro_numero = int(input(\"Ingrese otro numero:\"))\n",
        "    print(\"El conciente es: \",un_numero / otro_numero)\n",
        "except:\n",
        "    print(\"Se ha producido un error\")\n",
        "\n",
        "print(\"Despues de la excepcion\")"
      ]
    },
    {
      "cell_type": "code",
      "execution_count": 50,
      "metadata": {},
      "outputs": [
        {
          "name": "stdout",
          "output_type": "stream",
          "text": [
            "No es posible dividir entre cero\n"
          ]
        }
      ],
      "source": [
        "try:\n",
        "    un_numero = int(input(\"Ingrese un numero:\"))\n",
        "    otro_numero = int(input(\"Ingrese otro numero:\"))\n",
        "    print(\"El conciente es: \",un_numero / otro_numero)\n",
        "\n",
        "except ValueError:\n",
        "    print(\"No es posible convertir factor un numero\")\n",
        "except ZeroDivisionError:\n",
        "    print(\"No es posible dividir entre cero\")\n",
        "except:\n",
        "    print(\"Error inesperado\")\n"
      ]
    },
    {
      "cell_type": "markdown",
      "metadata": {},
      "source": [
        "**Lanzar Excepciones**\n"
      ]
    },
    {
      "cell_type": "code",
      "execution_count": 51,
      "metadata": {},
      "outputs": [
        {
          "ename": "TypeError",
          "evalue": "dividir_listas() missing 1 required positional argument: 'otra_lista'",
          "output_type": "error",
          "traceback": [
            "\u001b[1;31m---------------------------------------------------------------------------\u001b[0m",
            "\u001b[1;31mTypeError\u001b[0m                                 Traceback (most recent call last)",
            "Cell \u001b[1;32mIn[51], line 16\u001b[0m\n\u001b[0;32m     13\u001b[0m primera_lista \u001b[38;5;241m=\u001b[39m [\u001b[38;5;241m0\u001b[39m, \u001b[38;5;241m1\u001b[39m, \u001b[38;5;241m2\u001b[39m]\n\u001b[0;32m     14\u001b[0m segunda_lista \u001b[38;5;241m=\u001b[39m [\u001b[38;5;241m3\u001b[39m, \u001b[38;5;241m2\u001b[39m, \u001b[38;5;241m1\u001b[39m]\n\u001b[1;32m---> 16\u001b[0m \u001b[38;5;28mprint\u001b[39m(\u001b[43mdividir_listas\u001b[49m\u001b[43m(\u001b[49m\u001b[43msegunda_lista\u001b[49m\u001b[43m)\u001b[49m, primera_lista)\n\u001b[0;32m     17\u001b[0m \u001b[38;5;28mprint\u001b[39m(dividir_listas(segunda_lista), primera_lista[\u001b[38;5;241m1\u001b[39m:])\n",
            "\u001b[1;31mTypeError\u001b[0m: dividir_listas() missing 1 required positional argument: 'otra_lista'"
          ]
        }
      ],
      "source": [
        "def dividir_listas(una_lista, otra_lista):\n",
        "    resultado = []\n",
        "    for indice in range(len(una_lista)):\n",
        "        try:\n",
        "            resultado.append(una_lista[indice] / otra_lista[indice])\n",
        "        except ZeroDivisionError:\n",
        "            resultado.append(float('nan'))  # nan = Not factor Number\n",
        "        except:\n",
        "            raise ValueError('Error en dividir las listas')\n",
        "\n",
        "    return resultado\n",
        "\n",
        "primera_lista = [0, 1, 2]\n",
        "segunda_lista = [3, 2, 1]\n",
        "\n",
        "print(dividir_listas(segunda_lista), primera_lista)\n",
        "print(dividir_listas(segunda_lista), primera_lista[1:])"
      ]
    },
    {
      "cell_type": "markdown",
      "metadata": {},
      "source": [
        "**Promedio de Prácticas**\n"
      ]
    },
    {
      "cell_type": "code",
      "execution_count": 53,
      "metadata": {},
      "outputs": [
        {
          "ename": "ZeroDivisionError",
          "evalue": "division by zero",
          "output_type": "error",
          "traceback": [
            "\u001b[1;31m---------------------------------------------------------------------------\u001b[0m",
            "\u001b[1;31mZeroDivisionError\u001b[0m                         Traceback (most recent call last)",
            "Cell \u001b[1;32mIn[53], line 22\u001b[0m\n\u001b[0;32m     15\u001b[0m         \u001b[38;5;28;01mreturn\u001b[39;00m \u001b[38;5;28msum\u001b[39m(grades) \u001b[38;5;241m/\u001b[39m \u001b[38;5;28mlen\u001b[39m(grades)\n\u001b[0;32m     18\u001b[0m notas_algo \u001b[38;5;241m=\u001b[39m [[[\u001b[38;5;124m'\u001b[39m\u001b[38;5;124mPaolo\u001b[39m\u001b[38;5;124m'\u001b[39m, \u001b[38;5;124m'\u001b[39m\u001b[38;5;124mGuerrero\u001b[39m\u001b[38;5;124m'\u001b[39m], [\u001b[38;5;241m10\u001b[39m, \u001b[38;5;241m10\u001b[39m, \u001b[38;5;241m10\u001b[39m]],\n\u001b[0;32m     19\u001b[0m               [[\u001b[38;5;124m'\u001b[39m\u001b[38;5;124mAndres\u001b[39m\u001b[38;5;124m'\u001b[39m, \u001b[38;5;124m'\u001b[39m\u001b[38;5;124mHurtado\u001b[39m\u001b[38;5;124m'\u001b[39m], [\u001b[38;5;241m10\u001b[39m, \u001b[38;5;241m5\u001b[39m, \u001b[38;5;241m12\u001b[39m]],\n\u001b[0;32m     20\u001b[0m               [[\u001b[38;5;124m'\u001b[39m\u001b[38;5;124mWaldir\u001b[39m\u001b[38;5;124m'\u001b[39m, \u001b[38;5;124m'\u001b[39m\u001b[38;5;124mSaenz\u001b[39m\u001b[38;5;124m'\u001b[39m], []]]\n\u001b[1;32m---> 22\u001b[0m \u001b[38;5;28mprint\u001b[39m(\u001b[43mincluir_promedio\u001b[49m\u001b[43m(\u001b[49m\u001b[43mnotas_algo\u001b[49m\u001b[43m)\u001b[49m)\n",
            "Cell \u001b[1;32mIn[53], line 9\u001b[0m, in \u001b[0;36mincluir_promedio\u001b[1;34m(nota_practicas)\u001b[0m\n\u001b[0;32m      4\u001b[0m     alumno \u001b[38;5;241m=\u001b[39m alumno_notas[\u001b[38;5;241m0\u001b[39m]\n\u001b[0;32m      5\u001b[0m     notas \u001b[38;5;241m=\u001b[39m alumno_notas[\u001b[38;5;241m1\u001b[39m]\n\u001b[0;32m      6\u001b[0m     notas_promedio\u001b[38;5;241m.\u001b[39mappend([\n\u001b[0;32m      7\u001b[0m         alumno,\n\u001b[0;32m      8\u001b[0m         notas,\n\u001b[1;32m----> 9\u001b[0m         \u001b[43mcalcular_promedio\u001b[49m\u001b[43m(\u001b[49m\u001b[43mnotas\u001b[49m\u001b[43m)\u001b[49m]\n\u001b[0;32m     10\u001b[0m     )\n\u001b[0;32m     11\u001b[0m \u001b[38;5;28;01mreturn\u001b[39;00m notas_promedio\n",
            "Cell \u001b[1;32mIn[53], line 15\u001b[0m, in \u001b[0;36mcalcular_promedio\u001b[1;34m(grades)\u001b[0m\n\u001b[0;32m     14\u001b[0m \u001b[38;5;28;01mdef\u001b[39;00m \u001b[38;5;21mcalcular_promedio\u001b[39m(grades):\n\u001b[1;32m---> 15\u001b[0m         \u001b[38;5;28;01mreturn\u001b[39;00m \u001b[38;5;28;43msum\u001b[39;49m\u001b[43m(\u001b[49m\u001b[43mgrades\u001b[49m\u001b[43m)\u001b[49m\u001b[43m \u001b[49m\u001b[38;5;241;43m/\u001b[39;49m\u001b[43m \u001b[49m\u001b[38;5;28;43mlen\u001b[39;49m\u001b[43m(\u001b[49m\u001b[43mgrades\u001b[49m\u001b[43m)\u001b[49m\n",
            "\u001b[1;31mZeroDivisionError\u001b[0m: division by zero"
          ]
        }
      ],
      "source": [
        "def incluir_promedio(nota_practicas):\n",
        "    notas_promedio = []\n",
        "    for alumno_notas in nota_practicas:\n",
        "        alumno = alumno_notas[0]\n",
        "        notas = alumno_notas[1]\n",
        "        notas_promedio.append([\n",
        "            alumno,\n",
        "            notas,\n",
        "            calcular_promedio(notas)]\n",
        "        )\n",
        "    return notas_promedio\n",
        "\n",
        "\n",
        "def calcular_promedio(grades):\n",
        "        return sum(grades) / len(grades)\n",
        "\n",
        "\n",
        "notas_algo = [[['Paolo', 'Guerrero'], [10, 10, 10]],\n",
        "              [['Andres', 'Hurtado'], [10, 5, 12]],\n",
        "              [['Waldir', 'Saenz'], []]]\n",
        "\n",
        "print(incluir_promedio(notas_algo))\n"
      ]
    },
    {
      "cell_type": "code",
      "execution_count": 52,
      "metadata": {},
      "outputs": [
        {
          "name": "stdout",
          "output_type": "stream",
          "text": [
            "Alerta: no existen notas\n",
            "[[['Paolo', 'Guerrero'], [10, 10, 10], 10.0], [['Andres', 'Hurtado'], [10, 5, 12], 9.0], [['Waldir', 'Saenz'], [], 0.0]]\n"
          ]
        }
      ],
      "source": [
        "def incluir_promedio(nota_practicas):\n",
        "    notas_promedio = []\n",
        "    for alumno_notas in nota_practicas:\n",
        "        alumno = alumno_notas[0]\n",
        "        notas = alumno_notas[1]\n",
        "        notas_promedio.append([\n",
        "            alumno,\n",
        "            notas,\n",
        "            calcular_promedio(notas)]\n",
        "        )\n",
        "    return notas_promedio\n",
        "\n",
        "\n",
        "def calcular_promedio(notas):\n",
        "    try:\n",
        "        return sum(notas) / len(notas)\n",
        "    except ZeroDivisionError:\n",
        "        print('Alerta: no existen notas')\n",
        "        return 0.0\n",
        "\n",
        "notas_algo = [[['Paolo', 'Guerrero'], [10, 10, 10]],\n",
        "              [['Andres', 'Hurtado'], [10, 5, 12]],\n",
        "              [['Waldir', 'Saenz'], []]]\n",
        "\n",
        "print(incluir_promedio(notas_algo))\n"
      ]
    },
    {
      "cell_type": "markdown",
      "metadata": {},
      "source": [
        "**Aserciones**\n"
      ]
    },
    {
      "cell_type": "code",
      "execution_count": 54,
      "metadata": {},
      "outputs": [
        {
          "ename": "AssertionError",
          "evalue": "No existen notas",
          "output_type": "error",
          "traceback": [
            "\u001b[1;31m---------------------------------------------------------------------------\u001b[0m",
            "\u001b[1;31mAssertionError\u001b[0m                            Traceback (most recent call last)",
            "Cell \u001b[1;32mIn[54], line 22\u001b[0m\n\u001b[0;32m     16\u001b[0m     \u001b[38;5;28;01mreturn\u001b[39;00m \u001b[38;5;28msum\u001b[39m(notas) \u001b[38;5;241m/\u001b[39m \u001b[38;5;28mlen\u001b[39m(notas)\n\u001b[0;32m     18\u001b[0m notas_algo \u001b[38;5;241m=\u001b[39m [[[\u001b[38;5;124m'\u001b[39m\u001b[38;5;124mPaolo\u001b[39m\u001b[38;5;124m'\u001b[39m, \u001b[38;5;124m'\u001b[39m\u001b[38;5;124mGuerrero\u001b[39m\u001b[38;5;124m'\u001b[39m], [\u001b[38;5;241m10\u001b[39m, \u001b[38;5;241m10\u001b[39m, \u001b[38;5;241m10\u001b[39m]],\n\u001b[0;32m     19\u001b[0m               [[\u001b[38;5;124m'\u001b[39m\u001b[38;5;124mAndres\u001b[39m\u001b[38;5;124m'\u001b[39m, \u001b[38;5;124m'\u001b[39m\u001b[38;5;124mHurtado\u001b[39m\u001b[38;5;124m'\u001b[39m], [\u001b[38;5;241m10\u001b[39m, \u001b[38;5;241m5\u001b[39m, \u001b[38;5;241m12\u001b[39m]],\n\u001b[0;32m     20\u001b[0m               [[\u001b[38;5;124m'\u001b[39m\u001b[38;5;124mWaldir\u001b[39m\u001b[38;5;124m'\u001b[39m, \u001b[38;5;124m'\u001b[39m\u001b[38;5;124mSaenz\u001b[39m\u001b[38;5;124m'\u001b[39m], []]]\n\u001b[1;32m---> 22\u001b[0m \u001b[38;5;28mprint\u001b[39m(\u001b[43mincluir_promedio\u001b[49m\u001b[43m(\u001b[49m\u001b[43mnotas_algo\u001b[49m\u001b[43m)\u001b[49m)\n",
            "Cell \u001b[1;32mIn[54], line 9\u001b[0m, in \u001b[0;36mincluir_promedio\u001b[1;34m(nota_practicas)\u001b[0m\n\u001b[0;32m      4\u001b[0m     alumno \u001b[38;5;241m=\u001b[39m alumno_notas[\u001b[38;5;241m0\u001b[39m]\n\u001b[0;32m      5\u001b[0m     notas \u001b[38;5;241m=\u001b[39m alumno_notas[\u001b[38;5;241m1\u001b[39m]\n\u001b[0;32m      6\u001b[0m     notas_promedio\u001b[38;5;241m.\u001b[39mappend([\n\u001b[0;32m      7\u001b[0m         alumno,\n\u001b[0;32m      8\u001b[0m         notas,\n\u001b[1;32m----> 9\u001b[0m         \u001b[43mcalcular_promedio\u001b[49m\u001b[43m(\u001b[49m\u001b[43mnotas\u001b[49m\u001b[43m)\u001b[49m]\n\u001b[0;32m     10\u001b[0m     )\n\u001b[0;32m     11\u001b[0m \u001b[38;5;28;01mreturn\u001b[39;00m notas_promedio\n",
            "Cell \u001b[1;32mIn[54], line 15\u001b[0m, in \u001b[0;36mcalcular_promedio\u001b[1;34m(notas)\u001b[0m\n\u001b[0;32m     14\u001b[0m \u001b[38;5;28;01mdef\u001b[39;00m \u001b[38;5;21mcalcular_promedio\u001b[39m(notas):\n\u001b[1;32m---> 15\u001b[0m     \u001b[38;5;28;01massert\u001b[39;00m \u001b[38;5;28mlen\u001b[39m(notas) \u001b[38;5;241m!=\u001b[39m \u001b[38;5;241m0\u001b[39m, \u001b[38;5;124m'\u001b[39m\u001b[38;5;124mNo existen notas\u001b[39m\u001b[38;5;124m'\u001b[39m\n\u001b[0;32m     16\u001b[0m     \u001b[38;5;28;01mreturn\u001b[39;00m \u001b[38;5;28msum\u001b[39m(notas) \u001b[38;5;241m/\u001b[39m \u001b[38;5;28mlen\u001b[39m(notas)\n",
            "\u001b[1;31mAssertionError\u001b[0m: No existen notas"
          ]
        }
      ],
      "source": [
        "def incluir_promedio(nota_practicas):\n",
        "    notas_promedio = []\n",
        "    for alumno_notas in nota_practicas:\n",
        "        alumno = alumno_notas[0]\n",
        "        notas = alumno_notas[1]\n",
        "        notas_promedio.append([\n",
        "            alumno,\n",
        "            notas,\n",
        "            calcular_promedio(notas)]\n",
        "        )\n",
        "    return notas_promedio\n",
        "\n",
        "\n",
        "def calcular_promedio(notas):\n",
        "    assert len(notas) != 0, 'No existen notas'\n",
        "    return sum(notas) / len(notas)\n",
        "\n",
        "notas_algo = [[['Paolo', 'Guerrero'], [10, 10, 10]],\n",
        "              [['Andres', 'Hurtado'], [10, 5, 12]],\n",
        "              [['Waldir', 'Saenz'], []]]\n",
        "\n",
        "print(incluir_promedio(notas_algo))\n"
      ]
    }
  ],
  "metadata": {
    "anaconda-cloud": {},
    "celltoolbar": "Slideshow",
    "colab": {
      "provenance": []
    },
    "kernelspec": {
      "display_name": "Python 3 (ipykernel)",
      "language": "python",
      "name": "python3"
    },
    "language_info": {
      "codemirror_mode": {
        "name": "ipython",
        "version": 3
      },
      "file_extension": ".py",
      "mimetype": "text/x-python",
      "name": "python",
      "nbconvert_exporter": "python",
      "pygments_lexer": "ipython3",
      "version": "3.11.9"
    }
  },
  "nbformat": 4,
  "nbformat_minor": 0
}
