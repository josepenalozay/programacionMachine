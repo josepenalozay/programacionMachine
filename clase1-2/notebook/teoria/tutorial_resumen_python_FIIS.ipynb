{
  "cells": [
    {
      "cell_type": "markdown",
      "metadata": {
        "id": "7r8fanU-KLea"
      },
      "source": [
        "**Disclaimer**:\n",
        "Tomado de los cursos:\n",
        "- \"Machine Learning for Engineers\" by Joaquin Vanschoren of Eindhoven University of Technology (TU/e).\n",
        "- Computer Vision\" by Luis Baumela and Roberto Valle from Universidad Politécnica de Madrid."
      ]
    },
    {
      "cell_type": "markdown",
      "metadata": {
        "id": "mF14w1nBKccQ"
      },
      "source": [
        "### Introducción a Python\n",
        "\n",
        "Python es un lenguaje de programación potente y fácil de aprender.\n",
        "Tiene eficientes *estructuras de datos de alto nivel* y un enfoque simple pero efectivo de la *programación orientada a objetos*.\n",
        "\n",
        "La **elegante sintaxis** de Python y su **tipado dinámico**, junto con su **naturaleza interpretada**, lo convierten en un lenguaje ideal para el scripting y el desarrollo rápido de aplicaciones en muchas áreas y en la mayoría de las plataformas.\n",
        "\n",
        "- Creado por Guido van Rossum.\n",
        "- Debe su nombre al programa de la BBC «Monty Python's Flying Circus»."
      ]
    },
    {
      "cell_type": "markdown",
      "metadata": {
        "id": "ABboZH6eKzs1"
      },
      "source": [
        "#### Versiones\n",
        "- Enero de 1994 (1.0)\n",
        "- Octubre de 2000 (2.0)\n",
        "- Diciembre de 2008 (3.0)\n",
        "- **Julio de 2010 (2.7)**\n",
        "- **Junio de 2018 (3.7)**\n",
        "\n",
        "Python 3.0 rompió la compatibilidad con versiones anteriores y gran parte del código de Python 2 no funciona sin modificaciones en Python 3.\n",
        "El documento [What's New in Python 3.0](http://docs.python.org/py3k/whatsnew/3.0.html) proporciona una buena visión general de los principales cambios en el lenguaje y las posibles fuentes de incompatibilidad con el código Python 2.x existente."
      ]
    },
    {
      "cell_type": "markdown",
      "metadata": {
        "id": "U8KFZiIbHrMv"
      },
      "source": [
        "### Python packages\n",
        "\n",
        "* **IPython (advanced shell and working environment),**\n",
        "* **NumPy (mathematical arrays),**\n",
        "* **Matplotlib (graph plotting),**\n",
        "* SciPy (linear algebra, differential equations and signal processing),\n",
        "* SymPy (symbolic mathematics),\n",
        "* **Pandas (data analysis),**  \n",
        "* Cython (code optimization using C interface),\n",
        "* **OpenCV (computer vision),**\n",
        "* **Scikit-Learn (machine learning),**\n",
        "* Biopython (bioinformatics),\n",
        "* PsychoPy (psychology and neuroscience),\n",
        "* Astropy (astronomers).\n",
        "\n",
        "### Instalación\n",
        "\n",
        "* Si estás en *Linux*, deberías usar tu gestor de paquetes.\n",
        "```\n",
        "python‐numpy, python‐scipy, python‐matplotlib, ipython, python‐opencv\n",
        "```\n",
        "* Instalando paquetes con pip (*Mac OS X*).\n",
        "Pip Install Packages is Python’s official package manager.\n",
        "```\n",
        "pip3 install <package>\n",
        "```\n",
        "* Installing packages with Anaconda (*Windows*)."
      ]
    },
    {
      "cell_type": "markdown",
      "metadata": {},
      "source": [
        "## Python\n",
        "Disclaimer: Aquí sólo podemos cubrir algunos de los aspectos básicos. Si eres completamente nuevo en Python, te recomendamos tomar un curso introductorio online, como la [Definite Guide to Python](https://www.programiz.com/python-programming), o el [Whirlwind Tour of Python](https://github.com/jakevdp/WhirlwindTourOfPython). Si te gusta un enfoque paso a paso, prueba el [DataCamp Intro to Python for Data Science](https://www.datacamp.com/courses/intro-to-python-for-data-science).\n",
        "\n",
        "Para practicar tus habilidades, prueba los [Desafíos Hackerrank](https://www.hackerrank.com/domains/python)."
      ]
    },
    {
      "cell_type": "markdown",
      "metadata": {
        "id": "1BqmCG_sHqpE"
      },
      "source": [
        "### Hola mundo\n",
        "* La impresión se realiza con la función print().\n",
        "* Todo lo que sigue a # se considera un comentario.\n",
        "* No es necesario terminar los comandos con ';'.  "
      ]
    },
    {
      "cell_type": "code",
      "execution_count": 1,
      "metadata": {
        "id": "GUOCrPZIHqpH",
        "outputId": "f7859e29-52e5-4768-d455-1a12d5d7a582"
      },
      "outputs": [
        {
          "name": "stdout",
          "output_type": "stream",
          "text": [
            "Hello world\n",
            "0.625\n"
          ]
        },
        {
          "data": {
            "text/plain": [
              "0.625"
            ]
          },
          "execution_count": 1,
          "metadata": {},
          "output_type": "execute_result"
        }
      ],
      "source": [
        "#  Esto es un comentario\n",
        "print(\"Hello world\")\n",
        "print(5 / 8)\n",
        "5/8 # This only prints in IPython notebooks and shells."
      ]
    },
    {
      "cell_type": "markdown",
      "metadata": {},
      "source": [
        "_Nota: En estos notebooks usaremos Python de forma interactiva para evitar tener que escribir print() cada vez._"
      ]
    },
    {
      "cell_type": "markdown",
      "metadata": {},
      "source": [
        "### Tipos de datos básicos\n",
        "Python tiene todos los [tipos de datos y operaciones básicas](https://docs.python.org/3/library/stdtypes.htm): int, float, str, bool, None.  \n",
        "Las variables están __dinámicamente tipadas__: necesitas darles un valor al crearlas, y tendrán el tipo de datos de ese valor. Si vuelve a declarar la misma variable, tendrá el tipo de datos del nuevo valor.  \n",
        "Puedes usar type() para obtener el tipo de una variable."
      ]
    },
    {
      "cell_type": "code",
      "execution_count": 6,
      "metadata": {
        "id": "JvKsUa3aHqqb",
        "outputId": "88987dba-adf9-417d-dd1d-11b42b4cc471"
      },
      "outputs": [
        {
          "data": {
            "text/plain": [
              "str"
            ]
          },
          "execution_count": 6,
          "metadata": {},
          "output_type": "execute_result"
        }
      ],
      "source": [
        "s = 5\n",
        "type(s)\n",
        "s > 3 # Booleans: True o False\n",
        "s = \"The answer is \"\n",
        "type(s)"
      ]
    },
    {
      "cell_type": "markdown",
      "metadata": {},
      "source": [
        "Python es también __strongly typed__: no cambiará implícitamente un tipo de dato, sino que lanzará un TypeError en su lugar. Tendrás que convertir los tipos de datos explícitamente, por ejemplo usando str() o int().  \n",
        "Excepción: Las operaciones aritméticas se convertirán al tipo _más general_."
      ]
    },
    {
      "cell_type": "code",
      "execution_count": 4,
      "metadata": {
        "id": "DkEDpLYHHqqu",
        "outputId": "7ac64e22-423b-4de7-b8f5-258a2b6b9fca"
      },
      "outputs": [
        {
          "data": {
            "text/plain": [
              "'The answer is 42'"
            ]
          },
          "execution_count": 4,
          "metadata": {},
          "output_type": "execute_result"
        }
      ],
      "source": [
        "1.0 + 2     # float + int -> float\n",
        "s + str(42) # string + string\n",
        "# s + 42    # Bad: string + int"
      ]
    },
    {
      "cell_type": "markdown",
      "metadata": {
        "id": "VTEFO61iHqqz"
      },
      "source": [
        "### Tipos complejos\n",
        "Los principales tipos de datos complejos son las listas, las tuplas, los conjuntos y los diccionarios (dicts)."
      ]
    },
    {
      "cell_type": "code",
      "execution_count": 5,
      "metadata": {
        "id": "S3NkVIirHqq7",
        "outputId": "469762e3-2b12-4d35-da97-6feca22c6dcf"
      },
      "outputs": [
        {
          "data": {
            "text/plain": [
              "[1, 2, 3, 4, 5, 6]"
            ]
          },
          "execution_count": 5,
          "metadata": {},
          "output_type": "execute_result"
        }
      ],
      "source": [
        "l = [1,2,3,4,5,6]       # llista\n",
        "t = (1,2,3,4,5,6)       # tupla: como una lista, pero inmutable\n",
        "s = set((1,2,3,4,5,6,5,1))  # set: desordenado, necesitas usar add() para añadir nuevos elementos\n",
        "d = {2: \"a\",            # dict: tiene pares clave - valor (key - value pairs)\n",
        "     3: \"b\",\n",
        "     \"foo\": \"c\",\n",
        "     \"bar\": \"d\"}\n",
        "\n",
        "l  # Note how each of these is printed\n"
      ]
    },
    {
      "cell_type": "code",
      "execution_count": 2,
      "metadata": {},
      "outputs": [
        {
          "data": {
            "text/plain": [
              "(1, 2, 3, 4, 5, 6)"
            ]
          },
          "execution_count": 2,
          "metadata": {},
          "output_type": "execute_result"
        }
      ],
      "source": [
        "t\n"
      ]
    },
    {
      "cell_type": "code",
      "execution_count": 6,
      "metadata": {},
      "outputs": [
        {
          "data": {
            "text/plain": [
              "{1, 2, 3, 4, 5, 6}"
            ]
          },
          "execution_count": 6,
          "metadata": {},
          "output_type": "execute_result"
        }
      ],
      "source": [
        "s\n"
      ]
    },
    {
      "cell_type": "code",
      "execution_count": 4,
      "metadata": {},
      "outputs": [
        {
          "data": {
            "text/plain": [
              "{2: 'a', 3: 'b', 'foo': 'c', 'bar': 'd'}"
            ]
          },
          "execution_count": 4,
          "metadata": {},
          "output_type": "execute_result"
        }
      ],
      "source": [
        "d"
      ]
    },
    {
      "cell_type": "markdown",
      "metadata": {
        "id": "KqhAW3svHqq8"
      },
      "source": [
        "Puede utilizar índices para devolver un valor (excepto para los conjuntos, que no están ordenados)"
      ]
    },
    {
      "cell_type": "code",
      "execution_count": null,
      "metadata": {
        "id": "tkxH--QLHqq8",
        "outputId": "ba1db0bb-8077-44ff-a272-fe4e3045c221"
      },
      "outputs": [
        {
          "data": {
            "text/plain": [
              "'c'"
            ]
          },
          "execution_count": 6,
          "metadata": {},
          "output_type": "execute_result"
        }
      ],
      "source": [
        "l"
      ]
    },
    {
      "cell_type": "code",
      "execution_count": 7,
      "metadata": {},
      "outputs": [
        {
          "data": {
            "text/plain": [
              "3"
            ]
          },
          "execution_count": 7,
          "metadata": {},
          "output_type": "execute_result"
        }
      ],
      "source": [
        "l[2]"
      ]
    },
    {
      "cell_type": "code",
      "execution_count": 8,
      "metadata": {},
      "outputs": [
        {
          "data": {
            "text/plain": [
              "(1, 2, 3, 4, 5, 6)"
            ]
          },
          "execution_count": 8,
          "metadata": {},
          "output_type": "execute_result"
        }
      ],
      "source": [
        "t\n"
      ]
    },
    {
      "cell_type": "code",
      "execution_count": null,
      "metadata": {},
      "outputs": [],
      "source": [
        "t[2]\n"
      ]
    },
    {
      "cell_type": "code",
      "execution_count": 9,
      "metadata": {},
      "outputs": [
        {
          "data": {
            "text/plain": [
              "{2: 'a', 3: 'b', 'foo': 'c', 'bar': 'd'}"
            ]
          },
          "execution_count": 9,
          "metadata": {},
          "output_type": "execute_result"
        }
      ],
      "source": [
        "d\n"
      ]
    },
    {
      "cell_type": "code",
      "execution_count": 10,
      "metadata": {},
      "outputs": [
        {
          "data": {
            "text/plain": [
              "'a'"
            ]
          },
          "execution_count": 10,
          "metadata": {},
          "output_type": "execute_result"
        }
      ],
      "source": [
        "d[2]\n"
      ]
    },
    {
      "cell_type": "code",
      "execution_count": null,
      "metadata": {},
      "outputs": [],
      "source": [
        "d[\"foo\"]"
      ]
    },
    {
      "cell_type": "markdown",
      "metadata": {
        "id": "ABsLJ-1LHqq8"
      },
      "source": [
        "Puede asignar nuevos valores a los elementos, excepto a las tuplas"
      ]
    },
    {
      "cell_type": "code",
      "execution_count": 7,
      "metadata": {
        "id": "gfcsPdUUHqq8",
        "outputId": "5ad40165-3e1b-4f2a-8a57-24bfe96ce3ff"
      },
      "outputs": [
        {
          "data": {
            "text/plain": [
              "[1, 2, 7, 4, 5, 6]"
            ]
          },
          "execution_count": 7,
          "metadata": {},
          "output_type": "execute_result"
        }
      ],
      "source": [
        "l\n",
        "l[2] = 7 # Lists son mutables\n",
        "l\n",
        "# t[2] = 7 # Tuplas no lo son -> TypeError"
      ]
    },
    {
      "cell_type": "markdown",
      "metadata": {
        "id": "uQZ_AMFSHqq9"
      },
      "source": [
        "Python permite empaquetar y desempaquetar (packing / unpacking) cómodamente tuplas "
      ]
    },
    {
      "cell_type": "code",
      "execution_count": null,
      "metadata": {
        "id": "0KUPKjpfHqq-",
        "outputId": "22d42421-a255-4df8-c7da-8a6b1574d446"
      },
      "outputs": [
        {
          "data": {
            "text/plain": [
              "'CS'"
            ]
          },
          "execution_count": 7,
          "metadata": {},
          "output_type": "execute_result"
        }
      ],
      "source": [
        "b = (\"Bob\", 19, \"CS\")      # tuple packing\n",
        "(name, age, studies) = b   # tuple unpacking\n",
        "name\n",
        "age\n",
        "studies"
      ]
    },
    {
      "cell_type": "markdown",
      "metadata": {},
      "source": [
        "### Cadenas  (Strings)\n",
        "\n",
        "Las cadenas son [bastante potentes](https://www.tutorialspoint.com/python/python_strings.htm).   \n",
        "Pueden formatearse con el operador de formato (%), por ejemplo %s para cadenas, %d para enteros decimales, %f para flotantes (floats).\n",
        "\n",
        "Se pueden utilizar como listas, por ejemplo, recuperar un carácter por índice. "
      ]
    },
    {
      "cell_type": "code",
      "execution_count": null,
      "metadata": {
        "id": "wveAi-gPHqq_",
        "outputId": "9a580248-9c89-403d-8d8f-f019bdc590b7"
      },
      "outputs": [
        {
          "data": {
            "text/plain": [
              "'3.14'"
            ]
          },
          "execution_count": 8,
          "metadata": {},
          "output_type": "execute_result"
        }
      ],
      "source": [
        "s = \"The %s is %d\" % ('answer', 42)\n",
        "s\n",
        "s[0]\n",
        "s[4:10]\n",
        "'%.2f' % (3.14159265) # defines number of decimal places in a float"
      ]
    },
    {
      "cell_type": "markdown",
      "metadata": {
        "id": "B8BqlSFhHqrB"
      },
      "source": [
        "También disponen de una función format() para [formatos más complejos](https://pyformat.info/)"
      ]
    },
    {
      "cell_type": "code",
      "execution_count": 11,
      "metadata": {
        "id": "1zpXtgjpHqrB",
        "outputId": "771fb457-ddb9-45de-ef0d-fd79f738f00b"
      },
      "outputs": [
        {
          "data": {
            "text/plain": [
              "'Hodor Hodor!'"
            ]
          },
          "execution_count": 11,
          "metadata": {},
          "output_type": "execute_result"
        }
      ],
      "source": [
        "l = [1,2,3,4,5,6]\n",
        "\"{}\".format(l)\n",
        "\"%s\" % l       # This is identical\n",
        "\"{first} {last}\".format(**{'first': 'Hodor',\n",
        "                           'last': 'Hodor!'})"
      ]
    },
    {
      "cell_type": "markdown",
      "metadata": {},
      "source": [
        "### Sentencias de control de flujo\n",
        "\n",
        "* Las sentencias de control de flujo son *if*, *for* y *while*.\n",
        "* No hay *switch*; en su lugar, use *if*.\n",
        "* Use *for* para enumerar a través de los miembros de una lista.\n",
        "* Genere una nueva lista aplicando una función a cada miembro de una lista original."
      ]
    },
    {
      "cell_type": "markdown",
      "metadata": {
        "id": "tE3Wrxo2HqrC"
      },
      "source": [
        "### Bucles For, sentencias If\n",
        "Los bucles For y las sentencias if-then-else se escriben así.  \n",
        "La sangría define el ámbito, no los corchetes."
      ]
    },
    {
      "cell_type": "markdown",
      "metadata": {
        "id": "CIF8SAaQPpai"
      },
      "source": []
    },
    {
      "cell_type": "code",
      "execution_count": 12,
      "metadata": {
        "id": "fP5nCBAcHqrC",
        "outputId": "7db54632-b77d-4a73-9672-b797911bce1b"
      },
      "outputs": [
        {
          "name": "stdout",
          "output_type": "stream",
          "text": [
            "1\n",
            "2\n",
            "3\n",
            "foo : c\n",
            "bar : d\n",
            "Short list\n"
          ]
        }
      ],
      "source": [
        "l = [1,2,3]\n",
        "d = {\"foo\": \"c\", \"bar\": \"d\"}\n",
        "\n",
        "for i in l:\n",
        "    print(i)\n",
        "\n",
        "for k, v in d.items(): # Note how key-value pairs are extracted\n",
        "    print(\"%s : %s\" % (k,v))\n",
        "\n",
        "if len(l) > 3:\n",
        "    print('Long list')\n",
        "else:\n",
        "    print('Short list')"
      ]
    },
    {
      "cell_type": "markdown",
      "metadata": {
        "id": "KTLhvPsWHqrD"
      },
      "source": [
        "### Funciones\n",
        "Las funciones se definen y se llaman así:"
      ]
    },
    {
      "cell_type": "code",
      "execution_count": null,
      "metadata": {
        "id": "ul-PEoPCHqrE",
        "outputId": "a2e438e5-cbfe-4d89-d71f-12a89b340a88"
      },
      "outputs": [
        {
          "data": {
            "text/plain": [
              "5"
            ]
          },
          "execution_count": 11,
          "metadata": {},
          "output_type": "execute_result"
        }
      ],
      "source": [
        "def mi_funcion(a, b):\n",
        "    return a + b\n",
        "\n",
        "mi_funcion(2, 3)"
      ]
    },
    {
      "cell_type": "markdown",
      "metadata": {},
      "source": [
        "Los argumentos de función (parámetros) pueden ser:\n",
        "* de longitud variable (indicados con \\*)\n",
        "* un diccionario de argumentos de palabras clave (indicado con \\*\\*).\n",
        "* tener un valor por defecto, en cuyo caso no son necesarios (pero deben figurar en último lugar)"
      ]
    },
    {
      "cell_type": "code",
      "execution_count": 2,
      "metadata": {
        "id": "U5uwKshHHqrM",
        "outputId": "1c7ff85d-7a24-4cf4-c02c-a23033c0a536"
      },
      "outputs": [
        {
          "name": "stdout",
          "output_type": "stream",
          "text": [
            "func argv: (2, 3)\n",
            "func kwarg: {'a': 4, 'b': 5}\n",
            "9\n",
            "4\n"
          ]
        }
      ],
      "source": [
        "def mi_funcion(*argv, **kwarg):\n",
        "    print(\"func argv: %s\" % str(argv))\n",
        "    print(\"func kwarg: %s\" % str(kwarg))\n",
        "\n",
        "mi_funcion(2, 3, a=4, b=5)\n",
        "\n",
        "def mi_funcion(a=2):\n",
        "    print(a * a)\n",
        "\n",
        "mi_funcion(3)\n",
        "mi_funcion()"
      ]
    },
    {
      "cell_type": "markdown",
      "metadata": {
        "id": "5lScioYcHqrM"
      },
      "source": [
        "Las funciones pueden tener cualquier número de salidas."
      ]
    },
    {
      "cell_type": "code",
      "execution_count": 5,
      "metadata": {
        "id": "IAaLeN5kHqrN",
        "outputId": "47b5a498-93db-42d6-8893-ce71fdad0c75"
      },
      "outputs": [
        {
          "data": {
            "text/plain": [
              "(5, 9)"
            ]
          },
          "execution_count": 5,
          "metadata": {},
          "output_type": "execute_result"
        }
      ],
      "source": [
        "def mi_funcion(*argv):\n",
        "    return sum(argv[0:2]), sum(argv[2:4])\n",
        "\n",
        "sum1, sum2 = mi_funcion(2, 3, 4, 5)\n",
        "sum1, sum2\n",
        "\n"
      ]
    },
    {
      "cell_type": "code",
      "execution_count": 4,
      "metadata": {},
      "outputs": [
        {
          "name": "stdout",
          "output_type": "stream",
          "text": [
            "0\n",
            "1\n",
            "4\n",
            "9\n"
          ]
        }
      ],
      "source": [
        "def cuadrados(limit):\n",
        "    r = 0\n",
        "    ret = []\n",
        "\n",
        "    while r < limit:\n",
        "        ret.append(r**2)\n",
        "        r += 1\n",
        "\n",
        "    return ret\n",
        "\n",
        "for i in cuadrados(4):\n",
        "    print(i)"
      ]
    },
    {
      "cell_type": "markdown",
      "metadata": {
        "id": "vwZeizCzHqrN"
      },
      "source": [
        "Las funciones pueden pasarse como argumentos a otras funciones"
      ]
    },
    {
      "cell_type": "code",
      "execution_count": null,
      "metadata": {
        "id": "6a7S9NfcHqrN",
        "outputId": "e3012669-7aec-4eca-e56f-54fed842e630"
      },
      "outputs": [
        {
          "data": {
            "text/plain": [
              "'Hello John'"
            ]
          },
          "execution_count": 14,
          "metadata": {},
          "output_type": "execute_result"
        }
      ],
      "source": [
        "def greet(name):\n",
        "    return \"Hello \" + name\n",
        "\n",
        "def call_func(func):\n",
        "    other_name = \"John\"\n",
        "    return func(other_name)\n",
        "\n",
        "call_func(greet)"
      ]
    },
    {
      "cell_type": "markdown",
      "metadata": {
        "id": "_aB3okPaHqrN"
      },
      "source": [
        "Las funciones pueden devolver otras funciones"
      ]
    },
    {
      "cell_type": "code",
      "execution_count": null,
      "metadata": {
        "id": "LYqv3vnAHqrN",
        "outputId": "ebd29fe4-51e8-45b1-8235-87bbfdd7259e"
      },
      "outputs": [
        {
          "data": {
            "text/plain": [
              "'Hello there!'"
            ]
          },
          "execution_count": 15,
          "metadata": {},
          "output_type": "execute_result"
        }
      ],
      "source": [
        "def compose_greet_func():\n",
        "    def get_message():\n",
        "        return \"Hello there!\"\n",
        "\n",
        "    return get_message\n",
        "\n",
        "greet = compose_greet_func()\n",
        "greet()"
      ]
    },
    {
      "cell_type": "markdown",
      "metadata": {
        "id": "gxApF3DhHqrO"
      },
      "source": [
        "### Clases\n",
        "Las clases se definen así"
      ]
    },
    {
      "cell_type": "code",
      "execution_count": null,
      "metadata": {
        "id": "eULYEvY0HqrO",
        "outputId": "7eb6f4bb-4397-4086-95d1-d0d5a9c8e92f"
      },
      "outputs": [
        {
          "data": {
            "text/plain": [
              "'The new answer is 42'"
            ]
          },
          "execution_count": 16,
          "metadata": {},
          "output_type": "execute_result"
        }
      ],
      "source": [
        "class TestClass(object): # TestClass hereda de object.\n",
        "    myvar = \"\"\n",
        "\n",
        "    def __init__(self, myString): # constructor opcional, no devuelve nada\n",
        "        self.myvar = myString # 'self' se usa para almacenar propiedades de instancia\n",
        "\n",
        "    def say(self, what): # tienes que añadir self como primer argumento\n",
        "        return self.myvar + str(what)\n",
        "\n",
        "a = TestClass(\"The new answer is \")\n",
        "a.myvar # Puedes recuperar todas las propiedades de self\n",
        "a.say(42)"
      ]
    },
    {
      "cell_type": "markdown",
      "metadata": {
        "id": "iQ32DJOmHqrO"
      },
      "source": [
        "Las funciones estáticas necesitan el decorador @staticmethod"
      ]
    },
    {
      "cell_type": "code",
      "execution_count": null,
      "metadata": {
        "id": "rr1sJXFMHqrO",
        "outputId": "67c91915-dbe8-4915-e5de-0eb1f13686f2"
      },
      "outputs": [
        {
          "data": {
            "text/plain": [
              "'The answer is 42'"
            ]
          },
          "execution_count": 17,
          "metadata": {},
          "output_type": "execute_result"
        }
      ],
      "source": [
        "class TestClass(object):\n",
        "    myvar = \"\"\n",
        "\n",
        "    def __init__(self, myString):\n",
        "        self.myvar = myString\n",
        "\n",
        "    def say(self, what): # tienes que añadir self como primer argumento\n",
        "        return self.myvar + str(what)\n",
        "\n",
        "    @staticmethod\n",
        "    def sayStatic(what): # o declarar la función estática\n",
        "        return \"The answer is \" + str(what)\n",
        "\n",
        "a = TestClass(\"The new answer is \")\n",
        "a.say(42)\n",
        "a.sayStatic(42)"
      ]
    },
    {
      "cell_type": "markdown",
      "metadata": {},
      "source": [
        "### Excepciones\n",
        "\n",
        "\n",
        "* Las excepciones en Python se manejan con bloques *try-except*."
      ]
    },
    {
      "cell_type": "code",
      "execution_count": 8,
      "metadata": {
        "colab": {
          "base_uri": "https://localhost:8080/"
        },
        "id": "w6tSWJXUP85B",
        "outputId": "bf8254a5-e561-46b8-b46f-071ed55d399f"
      },
      "outputs": [
        {
          "name": "stdout",
          "output_type": "stream",
          "text": [
            "Oops, invalid.\n",
            "We're done with that.\n"
          ]
        }
      ],
      "source": [
        "def exception_function():\n",
        "    \"\"\"Division by zero function that raises an exception.\"\"\"\n",
        "    try:\n",
        "        10 / 0\n",
        "    except ZeroDivisionError:\n",
        "        print(\"Oops, invalid.\")\n",
        "    else:\n",
        "        pass # exception didn't occur, we're good.\n",
        "    finally:\n",
        "        print(\"We're done with that.\")\n",
        "        \n",
        "exception_function()"
      ]
    },
    {
      "cell_type": "markdown",
      "metadata": {},
      "source": [
        "### Módulos\n",
        "\n",
        "* ¿Cómo llevar mis clases a muchos muchos programas? Ponlas en un módulo en otro archivo.\n",
        "* Un módulo Python es un archivo con el mismo nombre (más la extensión .py).\n",
        "* Las bibliotecas externas se usan con la palabra clave *import*.\n",
        "```\n",
        "import [libname] ( as <str> )\n",
        "from [libname] import *\n",
        "from [libname] import [function]\n",
        "```"
      ]
    },
    {
      "cell_type": "markdown",
      "metadata": {},
      "source": [
        "### Python Funcional\n",
        "Puedes escribir procedimientos complejos en unas pocas y elegantes líneas de código usando [built-in functions](https://docs.python.org/2/library/functions.html#map) y librerías como functools, itertools, operator."
      ]
    },
    {
      "cell_type": "markdown",
      "metadata": {
        "id": "dFI4CORkPsuY"
      },
      "source": []
    },
    {
      "cell_type": "code",
      "execution_count": 13,
      "metadata": {
        "id": "RrOB6hfiHqrO",
        "outputId": "46fa94ee-a86b-4a74-fee6-e896d735318b"
      },
      "outputs": [
        {
          "data": {
            "text/plain": [
              "[1, 4, 9, 16]"
            ]
          },
          "execution_count": 13,
          "metadata": {},
          "output_type": "execute_result"
        }
      ],
      "source": [
        "def square(num):\n",
        "    return num ** 2\n",
        "\n",
        "# map(function, iterable) applies a given function to every element of a list\n",
        "list(map(square, [1,2,3,4]))\n",
        "\n",
        "\n",
        "\n"
      ]
    },
    {
      "cell_type": "code",
      "execution_count": 17,
      "metadata": {},
      "outputs": [
        {
          "name": "stdout",
          "output_type": "stream",
          "text": [
            "[1, 4, 9, 16]\n"
          ]
        },
        {
          "data": {
            "text/plain": [
              "[0, 0, 3, 4]"
            ]
          },
          "execution_count": 17,
          "metadata": {},
          "output_type": "execute_result"
        }
      ],
      "source": [
        "# a lambda function is an anonymous function created on the fly\n",
        "mydata1 = list(map(lambda x: x**2, [1,2,3,4]))\n",
        "print(mydata1)\n",
        "mydata = list(map(lambda x: x if x>2 else 0, [1,2,3,4]))\n",
        "mydata"
      ]
    },
    {
      "cell_type": "code",
      "execution_count": 15,
      "metadata": {},
      "outputs": [
        {
          "data": {
            "text/plain": [
              "[0, 0, 3, 4]"
            ]
          },
          "execution_count": 15,
          "metadata": {},
          "output_type": "execute_result"
        }
      ],
      "source": [
        "# reduce(function, iterable ) applies a function with two arguments cumulatively to every element of a list\n",
        "from functools import reduce\n",
        "reduce(lambda x,y: x+y, [1,2,3,4])\n",
        "mydata"
      ]
    },
    {
      "cell_type": "code",
      "execution_count": 16,
      "metadata": {
        "id": "leQsRMiwHqrW",
        "outputId": "6918b98e-f2cb-457f-cac1-7e05aa9a8582"
      },
      "outputs": [
        {
          "data": {
            "text/plain": [
              "[(1, 5), (2, 6), (3, 7), (4, 8)]"
            ]
          },
          "execution_count": 16,
          "metadata": {},
          "output_type": "execute_result"
        }
      ],
      "source": [
        "# filter(function, iterable)) extracts every element for which the function returns true\n",
        "list(filter(lambda x: x>2, [1,2,3,4]))\n",
        "\n",
        "# zip([iterable,...]) returns tuples of corresponding elements of multiple lists\n",
        "list(zip([1,2,3,4],[5,6,7,8,9]))"
      ]
    },
    {
      "cell_type": "markdown",
      "metadata": {
        "id": "O1aYxaSoHqrW"
      },
      "source": [
        "__list comprehensions__ pueden crear listas de la siguiente manera:  \n",
        "\n",
        "    [statement for var in iterable if condition]  \n",
        "    \n",
        "__generators__ hacen lo mismo, pero son perezosos (lazy): no crean la lista hasta que se necesita:  :  \n",
        "\n",
        "    (statement for var in list if condition)"
      ]
    },
    {
      "cell_type": "code",
      "execution_count": null,
      "metadata": {
        "id": "9KfY7kZOHqrW",
        "outputId": "7e88810d-1e14-4911-a809-37f5b362e338"
      },
      "outputs": [
        {
          "name": "stdout",
          "output_type": "stream",
          "text": [
            "4 5 \n",
            "\n",
            "4 5 6 7 8 9 "
          ]
        }
      ],
      "source": [
        "a = [2, 3, 4, 5]\n",
        "\n",
        "lc = [ x for x in a if x >= 4 ] # List comprehension. Square brackets\n",
        "lg = ( x for x in a if x >= 4 ) # Generator. Round brackets\n",
        "\n",
        "a.extend([6,7,8,9])\n",
        "\n",
        "for i in lc:\n",
        "    print(\"%i \" % i, end=\"\") # end tells the print function not to end with a newline\n",
        "print(\"\\n\")\n",
        "for i in lg:\n",
        "    print(\"%i \" % i, end=\"\")"
      ]
    },
    {
      "cell_type": "markdown",
      "metadata": {
        "id": "tb2EQF57HqrW"
      },
      "source": [
        "__dict comprehensions__ es posible en Python 3:  \n",
        "\n",
        "    {key:value for (key,value) in dict.items() if condition}  "
      ]
    },
    {
      "cell_type": "code",
      "execution_count": null,
      "metadata": {
        "id": "-59EcbNvHqrW",
        "outputId": "9d7327b7-7c17-43b2-fea9-b591c0e48776"
      },
      "outputs": [
        {
          "data": {
            "text/plain": [
              "{0: 0, 2: 4, 4: 16, 6: 36, 8: 64}"
            ]
          },
          "execution_count": 21,
          "metadata": {},
          "output_type": "execute_result"
        }
      ],
      "source": [
        "# Quick dictionary creation\n",
        "\n",
        "numbers = range(10)\n",
        "{n:n**2 for n in numbers if n%2 == 0}"
      ]
    },
    {
      "cell_type": "code",
      "execution_count": 18,
      "metadata": {
        "id": "dTIQ_hyNHqrX",
        "outputId": "fd2f5ff7-0c08-427e-acb3-c852452969d4"
      },
      "outputs": [
        {
          "data": {
            "text/plain": [
              "{'t1': -34.44444444444444,\n",
              " 't2': -17.77777777777778,\n",
              " 't3': 0.0,\n",
              " 't4': 37.77777777777778}"
            ]
          },
          "execution_count": 18,
          "metadata": {},
          "output_type": "execute_result"
        }
      ],
      "source": [
        "# Powerful alternative to replace lambda functions\n",
        "# Convert Fahrenheit to Celsius\n",
        "fahrenheit = {'t1': -30,'t2': 0,'t3': 32,'t4': 100}\n",
        "{k:(float(5)/9)*(v-32) for (k,v) in fahrenheit.items()}"
      ]
    },
    {
      "cell_type": "markdown",
      "metadata": {
        "id": "deBIDvJTQ6Ic"
      },
      "source": []
    },
    {
      "cell_type": "markdown",
      "metadata": {},
      "source": [
        "Jupyter notebook, antes conocido como IPython (o Interactive Python), es una herramienta de investigación de código abierto flexible y potente que puede ayudarte a mantener una narrativa de tu proceso de codificación. El nombre Jupyter es un acrónimo de los tres lenguajes principales para los que fue diseñado: **JU**lia, **PYT**hon y **R**.\n",
        "\n",
        "Jupyter Notebook App es una aplicación cliente-servidor que permite editar y ejecutar documentos del tipo notebook a través de un navegador web. Jupyter Notebook App puede ejecutarse en un escritorio local sin necesidad de acceso a Internet o puede instalarse en un servidor remoto y acceder a él a través de Internet.\n",
        "\n",
        "Pruebe Jupyter: https://try.jupyter.org/"
      ]
    },
    {
      "cell_type": "markdown",
      "metadata": {},
      "source": [
        "#### Arquitectura de Jupyter\n",
        "\n",
        "Jupyter consta de varios componentes, con algunos de los cuales el usuario no interactúa directamente, pero que al menos debería conocer.\n",
        "\n",
        "* **Browser:** Herramienta basada en navegador para el desarrollo interactivo de documentos de cuaderno.\n",
        "* **Notebook file::** Una representación de todo el contenido visible en la aplicación web. Estos documentos son archivos JSON y se guardan con la extensión .ipynb.\n",
        "* **Kernel:** Proceso responsable de ejecutar el código de usuario. Trabajaremos con kernels Python, aunque Jupyter también es capaz de interactuar con otros lenguajes de programación.\n",
        "* **Notebook server:** Se comunica con el kernel y enruta el lenguaje de programación Python al navegador web.\n",
        "\n",
        "![](notebook_components.png)"
      ]
    },
    {
      "cell_type": "markdown",
      "metadata": {},
      "source": []
    },
    {
      "cell_type": "markdown",
      "metadata": {},
      "source": [
        "### Prerrequisito\n",
        "Aunque Jupyter ejecuta código en muchos lenguajes de programación, Python es un requisito para instalar Jupyter Notebook.\n",
        "\n",
        "#### Instalación\n",
        "\n",
        "* Instalación de Jupyter con pip (*Linux*, *Mac OS X*)\n",
        "```\n",
        "pip3 install --upgrade pip\n",
        "pip3 install jupyter\n",
        "```\n",
        "* Instalación de Jupyter con Anaconda (*Windows*)\n",
        "\n",
        "#### Ejecutar el notebook\n",
        "```\n",
        "jupyter notebook\n",
        "```\n",
        "![](console.png)"
      ]
    },
    {
      "cell_type": "markdown",
      "metadata": {},
      "source": [
        "### ¿Para qué sirve Jupyter?\n",
        "\n",
        "Los Jupyter Notebooks son geniales porque facilitan:\n",
        "\n",
        "* **Documentación:** Combinando conceptos narrativos de texto enriquecido y código legible por máquina. El notebook en sí es una estructura de datos con metadatos que se pueden leer y analizar fácilmente.\n",
        "* **Exploración y desarrollo:** Los pasos intermedios se guardan en un formato limpio y bien documentado.\n",
        "* **Comunicación y colaboración:** Compartir la investigación con compañeros, colaboradores, revisores, público.\n",
        "* **Publicación:** Es sencillo y rápido pasar de la fase de desarrollo a la de publicación."
      ]
    }
  ],
  "metadata": {
    "anaconda-cloud": {},
    "celltoolbar": "Slideshow",
    "colab": {
      "provenance": []
    },
    "kernelspec": {
      "display_name": "Python 3 (ipykernel)",
      "language": "python",
      "name": "python3"
    },
    "language_info": {
      "codemirror_mode": {
        "name": "ipython",
        "version": 3
      },
      "file_extension": ".py",
      "mimetype": "text/x-python",
      "name": "python",
      "nbconvert_exporter": "python",
      "pygments_lexer": "ipython3",
      "version": "3.11.9"
    }
  },
  "nbformat": 4,
  "nbformat_minor": 0
}
