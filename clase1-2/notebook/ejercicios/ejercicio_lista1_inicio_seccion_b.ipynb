{
  "cells": [
    {
      "cell_type": "markdown",
      "metadata": {
        "id": "iA2rTAko1Ptk"
      },
      "source": [
        "## Ejercicio\n",
        "\n",
        "1. Escribir un programa que lea un entero positivo, $n$, introducido por el usuario y después muestre en pantalla la suma de todos los enteros desde 1 hasta $n$. La suma de los $n$ primeros enteros positivos puede ser calculada de la siguiente forma:\n",
        "\n",
        "$$ \\mbox{suma} = \\frac{n(n+1)}{2} $$"
      ]
    },
    {
      "cell_type": "code",
      "execution_count": null,
      "metadata": {
        "id": "mCKZSdwA1Siz",
        "colab": {
          "base_uri": "https://localhost:8080/"
        },
        "outputId": "0a298be4-71f1-494b-ae15-07baae862165"
      },
      "outputs": [
        {
          "output_type": "stream",
          "name": "stdout",
          "text": [
            "Ingrese un número entero positivo: 10\n",
            "La suma de los 10 primeros enteros positivos es 55.0\n"
          ]
        }
      ],
      "source": [
        "n = int(input(\"Ingrese un número entero positivo: \"))\n",
        "suma = n * (n + 1) / 2\n",
        "print(\"La suma de los\", n, \"primeros enteros positivos es\", suma)"
      ]
    },
    {
      "cell_type": "code",
      "source": [
        "n = input(\"Ingrese un número entero positivo: \")\n",
        "suma = n *10\n",
        "print(\"La suma de los\", n, \"primeros enteros positivos es\", suma)"
      ],
      "metadata": {
        "colab": {
          "base_uri": "https://localhost:8080/"
        },
        "id": "nizCgpf0_LXB",
        "outputId": "6a700c25-3851-4e6b-843f-25db80c6f4c4"
      },
      "execution_count": null,
      "outputs": [
        {
          "output_type": "stream",
          "name": "stdout",
          "text": [
            "Ingrese un número entero positivo: 8\n",
            "La suma de los 8 primeros enteros positivos es 8888888888\n"
          ]
        }
      ]
    },
    {
      "cell_type": "code",
      "source": [
        "type(n)"
      ],
      "metadata": {
        "colab": {
          "base_uri": "https://localhost:8080/"
        },
        "id": "tdqrV_ps-65X",
        "outputId": "dda7bd27-4a4d-4c1a-dc67-4c4ff75f7b16"
      },
      "execution_count": null,
      "outputs": [
        {
          "output_type": "execute_result",
          "data": {
            "text/plain": [
              "str"
            ]
          },
          "metadata": {},
          "execution_count": 2
        }
      ]
    },
    {
      "cell_type": "markdown",
      "metadata": {
        "id": "-CeKrzhG1wll"
      },
      "source": [
        "2. Dado el precio de un producto en soles (1 dólar = 3.7 soles), convierta este valor al equivalente en dólares. El programa debería leer el precio y la tasa de conversión a dólares"
      ]
    },
    {
      "cell_type": "code",
      "execution_count": null,
      "metadata": {
        "id": "GcCi5UxX1-Ve",
        "colab": {
          "base_uri": "https://localhost:8080/"
        },
        "outputId": "84c3de68-3b8e-4d4b-f2ec-95496822acad"
      },
      "outputs": [
        {
          "output_type": "stream",
          "name": "stdout",
          "text": [
            "Ingrese los soles: 37\n",
            "Ingrese el tipo de cambio: 3.7\n",
            "El equivalente en dólares es 10.0\n"
          ]
        }
      ],
      "source": [
        "soles = float(input(\"Ingrese los soles: \"))\n",
        "tc = float(input(\"Ingrese el tipo de cambio: \"))\n",
        "dolares = soles / tc\n",
        "print(\"El equivalente en dólares es\", dolares)"
      ]
    },
    {
      "cell_type": "markdown",
      "metadata": {
        "id": "gFlQXQFe1H7P"
      },
      "source": [
        "3.\tPara un conjunto de N números enteros positivos, se desea averiguar cuantos de ellos tiene un numero de cifras impar.\n",
        "\n",
        "Ejemplo:\n",
        "N = 6\n",
        "\n",
        "números: 24, 131, 4567, 12531, 45, 6\n",
        "Cantidad de datos con el # de cifras impar: 3"
      ]
    },
    {
      "cell_type": "markdown",
      "metadata": {
        "id": "bf5kwUrb1sc8"
      },
      "source": [
        "Sol 1:"
      ]
    },
    {
      "cell_type": "code",
      "execution_count": null,
      "metadata": {
        "id": "98kEryj41Gl_"
      },
      "outputs": [],
      "source": [
        "#len(str(a))"
      ]
    },
    {
      "cell_type": "code",
      "source": [
        "# contar el nro de cifras\n",
        "num = 4567\n",
        "contCifras = 0\n",
        "while num > 0:\n",
        "  num = num // 10\n",
        "  contCifras = contCifras + 1\n",
        "print(contCifras)"
      ],
      "metadata": {
        "colab": {
          "base_uri": "https://localhost:8080/"
        },
        "id": "4H19rMxeBOKK",
        "outputId": "6681a184-aa40-4c4a-e170-92829a23a4d0"
      },
      "execution_count": null,
      "outputs": [
        {
          "output_type": "stream",
          "name": "stdout",
          "text": [
            "4\n"
          ]
        }
      ]
    },
    {
      "cell_type": "code",
      "source": [
        "numeros = [24, 131, 4567, 12531, 45, 6]\n",
        "contCifrasImp = 0\n",
        "for num in numeros:\n",
        "\n",
        "  contCifras = 0\n",
        "  while num > 0:\n",
        "    num = num // 10\n",
        "    contCifras = contCifras + 1\n",
        "\n",
        "  if contCifras % 2 != 0:\n",
        "    contCifrasImp = contCifrasImp + 1\n",
        "print(contCifrasImp)\n"
      ],
      "metadata": {
        "colab": {
          "base_uri": "https://localhost:8080/"
        },
        "id": "M_-lZQxpC1DB",
        "outputId": "a519c680-33da-4b18-8136-903053ba2aa4"
      },
      "execution_count": null,
      "outputs": [
        {
          "output_type": "stream",
          "name": "stdout",
          "text": [
            "3\n"
          ]
        }
      ]
    },
    {
      "cell_type": "markdown",
      "metadata": {
        "id": "Iwr0uXeA1uuc"
      },
      "source": [
        "Sol 2:"
      ]
    },
    {
      "cell_type": "code",
      "execution_count": null,
      "metadata": {
        "id": "2LFOIcRK10BO"
      },
      "outputs": [],
      "source": []
    },
    {
      "cell_type": "markdown",
      "metadata": {
        "id": "FeSo-6v_2Dwp"
      },
      "source": [
        "4. Para un conjunto de N datos enteros positivos, se desea averiguar cuantos de ellos son capicúas con el número de cifras par.\n",
        "Ejemplo N=6\n",
        "\n",
        "Datos: 45, 131, 4114, 57175, 11, 567765\n",
        "\n",
        "Cantidad de números capicúas con # de cifras par: 3\n",
        "\n"
      ]
    },
    {
      "cell_type": "markdown",
      "metadata": {
        "id": "sYRZJD3f4SL4"
      },
      "source": [
        "Nota: invertir un número"
      ]
    },
    {
      "cell_type": "code",
      "execution_count": null,
      "metadata": {
        "id": "xBMusEFz4OXA"
      },
      "outputs": [],
      "source": []
    },
    {
      "cell_type": "markdown",
      "metadata": {
        "id": "QtfP-Jog4WR1"
      },
      "source": [
        "Solución"
      ]
    },
    {
      "cell_type": "code",
      "execution_count": null,
      "metadata": {
        "id": "D-0c5Cpq2Sli"
      },
      "outputs": [],
      "source": []
    },
    {
      "cell_type": "markdown",
      "metadata": {
        "id": "B60O6MR32a4W"
      },
      "source": [
        "5. Escriba un programa que calcule el menor número de billetes que se les debe dar cambio por un pago realizado. El programa debe leer el monto a pagar y el monto pagado. Supongamos que el cambio se da en 25, 10, 5, 1"
      ]
    },
    {
      "cell_type": "code",
      "execution_count": null,
      "metadata": {
        "id": "YM_w2B9A2eDZ"
      },
      "outputs": [],
      "source": [
        "# CONJUNTO1 = {1,5,10,25}\n",
        "\n",
        "# monto = 70 (25), divisible = 2\n",
        "# monto = 20 (10), divisible = 2\n",
        "# monto = 0.\n",
        "\n",
        "# CONJUNTO = {1,3,4,5}\n",
        "\n",
        "# una moneda 5 y dos 1.\n",
        "# monto = 7 (5), divisible =1\n",
        "# monto = 2 (4), divisible = 0\n",
        "# monto = 2 (3), divisible = 0\n",
        "# monto = 2 (1), divisible = 2\n",
        "# monto = 0\n",
        "\n",
        "# ALGORITMO GREEDY."
      ]
    },
    {
      "cell_type": "code",
      "execution_count": null,
      "metadata": {
        "id": "9m7sT_OK2m6n"
      },
      "outputs": [],
      "source": [
        "\n"
      ]
    },
    {
      "cell_type": "markdown",
      "metadata": {
        "id": "7AkeSdShKLxZ"
      },
      "source": [
        "6.\tDado un número de 3 cifras (n es un entero positivo), construye otro número de 4\n",
        "dígitos, según la siguiente regla: **a)** los tres primeros dígitos, contados a partir del de\n",
        "izquierda a derecha, son iguales al número dado; **b)** el cuarto dígito es un dígito de\n",
        "control calculado de la siguiente manera: primer dígito + segundo dígito × 3 + tercer\n",
        "dígito × 5; el dígito de control es igual al resto de dividir esa suma\n",
        "por 7\n",
        "\n",
        "\n",
        "**Límites**\n",
        "\n",
        "100 <= n <= 999\n",
        "\n",
        "**Entrada**\n",
        "\n",
        "342\n",
        "\n",
        "789\n",
        "\n",
        "**Salida**\n",
        "\n",
        "3424\n",
        "\n",
        "7896\n"
      ]
    },
    {
      "cell_type": "code",
      "execution_count": null,
      "metadata": {
        "colab": {
          "base_uri": "https://localhost:8080/"
        },
        "id": "eBh1sjnYQJnt",
        "outputId": "eb059176-f3d3-4375-dd33-4e796498d9f9"
      },
      "outputs": [
        {
          "name": "stdout",
          "output_type": "stream",
          "text": [
            "9\n",
            "131681894400\n"
          ]
        }
      ],
      "source": []
    },
    {
      "cell_type": "markdown",
      "metadata": {
        "id": "gjLaamwvK7HW"
      },
      "source": [
        "7.\tEscribe un programa en Python para leer los lados: AB, BC, CD, DA de un cuadrilátero y su diagonal AC = d (Trabajar los valores decimales redondeando a centésimas). Como se muestra en la figura. Luego, imprima un mensaje indicando la clasificación para el cuadrilátero entre las siguientes opciones: cuadrado, rectángulo, rombo,\n",
        "paralelogramo o ninguno."
      ]
    },
    {
      "cell_type": "markdown",
      "metadata": {
        "id": "Kk0f8iHpKpKL"
      },
      "source": [
        "\n",
        "\n",
        "\n",
        "![image.png](data:image/png;base64,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)\n",
        "\n",
        "\n"
      ]
    },
    {
      "cell_type": "markdown",
      "metadata": {
        "id": "o6xOM6gJK-R2"
      },
      "source": [
        "**Límites**\n",
        "0 < n <= 100\n",
        "\n",
        "**Entrada**\n",
        "\n",
        "3 4 3 4 5\n",
        "\n",
        "2 2 2 2 1.5\n",
        "\n",
        "5 2 5 2 4\n",
        "\n",
        "3 3 3 3 4.24\n",
        "\n",
        "8 2 5 2 4\n",
        "\n",
        "**Salida**\n",
        "\n",
        "Es un rectangulo\n",
        "\n",
        "Es un rombo\n",
        "\n",
        "Es un paralelogramo\n",
        "\n",
        "Es un cuadrado\n",
        "\n",
        "No existe"
      ]
    },
    {
      "cell_type": "code",
      "execution_count": null,
      "metadata": {
        "colab": {
          "base_uri": "https://localhost:8080/"
        },
        "id": "ETsGaLrOP3Wq",
        "outputId": "25565e8a-9364-4157-82ea-d4292940a4b5"
      },
      "outputs": [
        {
          "name": "stdout",
          "output_type": "stream",
          "text": [
            "3\n",
            "4\n",
            "3\n",
            "4\n",
            "5\n",
            "Es un rectangulo\n"
          ]
        }
      ],
      "source": []
    },
    {
      "cell_type": "markdown",
      "metadata": {
        "id": "bKeV3hczLPrJ"
      },
      "source": [
        "8.\tSe tiene un tablero de n×n, donde n es un número entero positivo. Alex quiere colocar\n",
        "torres de ajedrez de modo que estas no se ataquen entre si. Calcule el número total de combinaciones posibles dependiendo del tamaño del tablero.\n",
        "\n",
        "**Límites**\n",
        "1 <= n <= 30\n",
        "\n",
        "**Entrada**\n",
        "\n",
        "2\n",
        "\n",
        "4\n",
        "\n",
        "**Salida**\n",
        "\n",
        "4\n",
        "\n",
        "576\n"
      ]
    },
    {
      "cell_type": "code",
      "execution_count": null,
      "metadata": {
        "colab": {
          "base_uri": "https://localhost:8080/"
        },
        "id": "RKI3yDusQTZa",
        "outputId": "d61f4410-3a06-4ab5-9179-58b241c19cf5"
      },
      "outputs": [
        {
          "name": "stdout",
          "output_type": "stream",
          "text": [
            "2\n",
            "4\n"
          ]
        }
      ],
      "source": []
    },
    {
      "cell_type": "markdown",
      "metadata": {
        "id": "RWlQpt1OLsHZ"
      },
      "source": [
        "9.\tDado un arreglo (A) de tamaño n representando los precios de un determinado artículo\n",
        "y un numero C. Se requiere calcular las combinaciones de 2 artículos con exactamente\n",
        "C soles. Es decir que la suma de los dos artículos de exactamente C. Se garantiza que\n",
        "no se repiten los precios de los artículos.\n",
        "\n",
        "**Límites**\n",
        "1 ≤ n ≤ 106\n",
        "1 ≤ A[i] ≤ C ≤ 1018\n",
        "\n",
        "**Entrada**\n",
        "\n",
        "**caso 1**\n",
        "\n",
        "3\n",
        "\n",
        "40 40 40\n",
        "\n",
        "80\n",
        "\n",
        "**caso 2**\n",
        "\n",
        "5\n",
        "\n",
        "10 2 6 8 4\n",
        "\n",
        "10\n",
        "\n",
        "**Salida**\n",
        "\n",
        "**caso 1**\n",
        "\n",
        "3\n",
        "\n",
        "**caso 2**\n",
        "\n",
        "2\n"
      ]
    },
    {
      "cell_type": "code",
      "execution_count": null,
      "metadata": {
        "colab": {
          "base_uri": "https://localhost:8080/"
        },
        "id": "HmN23BRXQ3E-",
        "outputId": "80747038-47b2-4aef-d115-08f205d01285"
      },
      "outputs": [
        {
          "name": "stdout",
          "output_type": "stream",
          "text": [
            "3\n",
            "40 40 40\n",
            "80\n",
            "3\n"
          ]
        }
      ],
      "source": []
    },
    {
      "cell_type": "markdown",
      "metadata": {
        "id": "Mnftqc0CLxe_"
      },
      "source": [
        "10.\tDadas dos palabras (S1 y S2 ambas en minúsculas, conteniendo letras de ’a’ a la ’z’),\n",
        "comprueba si uno es la permutación del otro.\n",
        "\n",
        "**Límites**\n",
        "\n",
        "1 ≤ len(S1) ≤ 106\n",
        "\n",
        "1 ≤ len(S2) ≤ 106\n",
        "\n",
        "**Entrada**\n",
        "\n",
        "**caso 1**\n",
        "\n",
        "aroma\n",
        "\n",
        "romaa\n",
        "\n",
        "**caso 2**\n",
        "\n",
        "arroz\n",
        "\n",
        "lenteja\n",
        "\n",
        "**Salida**\n",
        "\n",
        "**caso 1**\n",
        "\n",
        "SI\n",
        "\n",
        "**caso 2**\n",
        "\n",
        "NO\n"
      ]
    },
    {
      "cell_type": "code",
      "execution_count": null,
      "metadata": {
        "colab": {
          "base_uri": "https://localhost:8080/"
        },
        "id": "Zdr5_INdRDon",
        "outputId": "d4e8fda0-6a74-4771-db12-86f002b7489d"
      },
      "outputs": [
        {
          "name": "stdout",
          "output_type": "stream",
          "text": [
            "aroma\n",
            "romaa\n",
            "SI\n"
          ]
        }
      ],
      "source": []
    },
    {
      "cell_type": "markdown",
      "metadata": {
        "id": "H9RXVpLIL0Th"
      },
      "source": [
        "11. Dados los coeficientes, el valor de la variable y el grado de un polinomio, determine su valor numérico: (sin usar arreglos ni funciones)\n",
        "\n",
        "\n"
      ]
    },
    {
      "cell_type": "markdown",
      "metadata": {
        "id": "PEY-OZYdOct2"
      },
      "source": [
        "![image.png](data:image/png;base64,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)"
      ]
    },
    {
      "cell_type": "code",
      "execution_count": null,
      "metadata": {
        "colab": {
          "base_uri": "https://localhost:8080/"
        },
        "id": "0JiwqFyjWDQO",
        "outputId": "c9bb6dde-e928-40d0-a2b4-1a4c6165ebf4"
      },
      "outputs": [
        {
          "name": "stdout",
          "output_type": "stream",
          "text": [
            "n?: 2\n",
            "x?: 2\n",
            "ingresa el coeficiente 2: 2\n",
            "ingresa el coeficiente 1: 3\n",
            "ingresa el coeficiente 0: 4\n",
            "Suma: 18\n"
          ]
        }
      ],
      "source": []
    },
    {
      "cell_type": "markdown",
      "metadata": {
        "id": "-YZgSF2MMCKe"
      },
      "source": [
        "\n",
        "12. Se tiene:"
      ]
    },
    {
      "cell_type": "markdown",
      "metadata": {
        "id": "6Wn9I-yQOjaS"
      },
      "source": [
        "![image.png](data:image/png;base64,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)"
      ]
    },
    {
      "cell_type": "markdown",
      "metadata": {
        "id": "N1rgiL0dOj8T"
      },
      "source": [
        "Para x y n dados, halle la suma (sin usar arreglos ni funciones)"
      ]
    },
    {
      "cell_type": "code",
      "execution_count": null,
      "metadata": {
        "colab": {
          "base_uri": "https://localhost:8080/"
        },
        "id": "fSg-HdBDWRwW",
        "outputId": "fc8eb9f9-4cd1-4f02-ea4b-403573f5a6ba"
      },
      "outputs": [
        {
          "name": "stdout",
          "output_type": "stream",
          "text": [
            "n?: 3\n",
            "x?: 1\n",
            "Suma: 0.5402777777777777\n"
          ]
        }
      ],
      "source": []
    }
  ],
  "metadata": {
    "colab": {
      "provenance": []
    },
    "kernelspec": {
      "display_name": "Python 3 (ipykernel)",
      "language": "python",
      "name": "python3"
    },
    "language_info": {
      "codemirror_mode": {
        "name": "ipython",
        "version": 3
      },
      "file_extension": ".py",
      "mimetype": "text/x-python",
      "name": "python",
      "nbconvert_exporter": "python",
      "pygments_lexer": "ipython3",
      "version": "3.12.4"
    }
  },
  "nbformat": 4,
  "nbformat_minor": 0
}