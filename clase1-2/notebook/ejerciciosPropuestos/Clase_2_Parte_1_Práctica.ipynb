{
  "cells": [
    {
      "cell_type": "markdown",
      "metadata": {
        "id": "7uaImoAUa5_d"
      },
      "source": [
        "# Ejercicio 1\n",
        "Cree un programa que muestre su nombre y dirección completa formateados de la manera en que normalmente se vería en el exterior de un sobre de carta. Su programa no necesita leer ninguna entrada del usuario."
      ]
    },
    {
      "cell_type": "code",
      "execution_count": null,
      "metadata": {
        "colab": {
          "base_uri": "https://localhost:8080/"
        },
        "id": "kGI0gVhHapMY",
        "outputId": "fb182b9f-4625-4b27-d85a-f826ea66cbf6"
      },
      "outputs": [],
      "source": []
    },
    {
      "cell_type": "markdown",
      "metadata": {
        "id": "rPVcF3gebLwT"
      },
      "source": [
        "# Ejercicio 2\n",
        "Escriba un programa que pida al usuario que introduzca su nombre. El programa debe responder con un mensaje que diga hola al usuario, usando su nombre."
      ]
    },
    {
      "cell_type": "code",
      "execution_count": null,
      "metadata": {
        "colab": {
          "base_uri": "https://localhost:8080/"
        },
        "id": "pxuK2XArbL4H",
        "outputId": "170a1538-aaaf-4e87-f22e-cee0d9c8fd2e"
      },
      "outputs": [],
      "source": []
    },
    {
      "cell_type": "markdown",
      "metadata": {
        "id": "Bny1NbThbL9-"
      },
      "source": [
        "# Ejercicio 3\n",
        "Escribe un programa que pida al usuario que introduzca la anchura y la longitud de una habitación. Una vez leídos los valores, el programa debe calcular y mostrar el área de la habitación. La longitud y la anchura se introducirán como números de coma flotante. Incluya unidades en su mensaje de aviso y de salida; pies o metros, dependiendo de la unidad con la que se sienta más cómodo trabajando."
      ]
    },
    {
      "cell_type": "code",
      "execution_count": null,
      "metadata": {
        "colab": {
          "base_uri": "https://localhost:8080/"
        },
        "id": "l5unvb46bMDl",
        "outputId": "f3a510f9-705c-43c3-9203-effb3ed01424"
      },
      "outputs": [],
      "source": [
        "\n"
      ]
    },
    {
      "cell_type": "markdown",
      "metadata": {
        "id": "Zu-pqoRgbMJj"
      },
      "source": [
        "# Ejercicio 4\n",
        "Cree un programa que lea del usuario la longitud y anchura del campo de un agricultor en pies. Muestra el área del campo en acres."
      ]
    },
    {
      "cell_type": "code",
      "execution_count": null,
      "metadata": {
        "colab": {
          "base_uri": "https://localhost:8080/"
        },
        "id": "8bihRJmYbMPi",
        "outputId": "506604af-6d56-4cce-a55f-c0ccae50c8ab"
      },
      "outputs": [],
      "source": []
    },
    {
      "cell_type": "markdown",
      "metadata": {
        "id": "s53BsOlvbMZB"
      },
      "source": [
        "# Ejercicio 5\n",
        "En muchas regiones se añade un pequeño reembolso por los envases de bebidas para animar a la gente a reciclarlos. En una región en particular, los envases de bebidas que contienen un litro o menos tienen un reeembolso de \\$0.10, y los envases de bebidas que contienen más de un litro tienen un reembolso de \\$0.25.\n",
        "\n",
        "Escribe un programa que lea el número de envases de cada tamaño del usuario. Su programa debe continuar calculando y mostrando el reembolso que se recibirá por devolver esos envases. Formatea la salida de forma que incluya un signo de dólar y muestre siempre exactamente dos decimales."
      ]
    },
    {
      "cell_type": "code",
      "execution_count": null,
      "metadata": {
        "colab": {
          "base_uri": "https://localhost:8080/"
        },
        "id": "ESmbeXuhbMeT",
        "outputId": "7e87d182-5767-41a6-a13a-cc89a5f4de2c"
      },
      "outputs": [],
      "source": []
    },
    {
      "cell_type": "code",
      "execution_count": null,
      "metadata": {
        "colab": {
          "base_uri": "https://localhost:8080/"
        },
        "id": "8fr0P2-ZWq7S",
        "outputId": "4882b4c1-34c3-4171-9b78-33ff6c0b45d8"
      },
      "outputs": [],
      "source": []
    },
    {
      "cell_type": "markdown",
      "metadata": {
        "id": "gbw7MoiTbMja"
      },
      "source": [
        "# Ejercicio 6\n",
        "El programa que crees para este ejercicio comenzará leyendo del usuario el costo de una comida pedida en un restaurante.\n",
        "\n",
        "A continuación, el programa calculará los impuestos y la propina de la comida. Utilice la tasa impositiva local (IGV) cuando calcule la cantidad de impuestos a pagar. Calcule la propina como el 18% del importe de la comida (sin impuestos).\n",
        "\n",
        "La salida de su programa debe incluir el monto del impuesto, el monto de la propina, y el total general de la comida incluyendo tanto el impuesto como la propina. Formatee la salida para que todos los valores se muestren con dos decimales."
      ]
    },
    {
      "cell_type": "code",
      "execution_count": null,
      "metadata": {
        "colab": {
          "base_uri": "https://localhost:8080/"
        },
        "id": "HzECk-18bMoY",
        "outputId": "b916f974-fb18-42c3-9f31-80f449a94e48"
      },
      "outputs": [],
      "source": []
    },
    {
      "cell_type": "markdown",
      "metadata": {
        "id": "bkjP14lGd8h3"
      },
      "source": [
        "# Ejercicio 7\n",
        "Escriba un programa que lea un número entero positivo, $n$, del usuario y luego muestre la suma de todos los números enteros de $1$ a $n$. La suma de los primeros $n$ números enteros positivos puede calcularse usando la fórmula:\n",
        "\n",
        "$$S= \\frac{n(n+1)}{2}$$"
      ]
    },
    {
      "cell_type": "code",
      "execution_count": null,
      "metadata": {
        "colab": {
          "base_uri": "https://localhost:8080/"
        },
        "id": "SmRZ_DgQd8oF",
        "outputId": "59927cbf-5cd8-4f32-e715-6cf170268da3"
      },
      "outputs": [],
      "source": []
    },
    {
      "cell_type": "markdown",
      "metadata": {
        "id": "eMSyau0Wd8ug"
      },
      "source": [
        "# Ejercicio 8\n",
        "Un minorista en línea vende dos productos: articulos electronicos y trastos. Cada articulo electronico pesa 75 gramos. Cada trasto pesa 112 gramos. Escribe un programa que lea el número de articulos electronicos y el número de trastos de un pedido del usuario.\n",
        "\n",
        "A continuación, tu programa debe calcular y mostrar el peso total del pedido."
      ]
    },
    {
      "cell_type": "code",
      "execution_count": null,
      "metadata": {
        "colab": {
          "base_uri": "https://localhost:8080/"
        },
        "id": "3JfgTEb_d8z3",
        "outputId": "737ab7d9-c004-47b7-f5ef-10b8ff2d7dd3"
      },
      "outputs": [],
      "source": []
    },
    {
      "cell_type": "markdown",
      "metadata": {
        "id": "WdDuqKt0d85u"
      },
      "source": [
        "# Ejercicio 9\n",
        "Imagina que acabas de abrir una nueva cuenta de ahorros que devenga un interés del 4 por ciento anual. El interés que gana se paga al final del año, y se añade al saldo de la cuenta de ahorros. Escriba un programa que comience leyendo del usuario la cantidad de dinero depositada en la cuenta. Luego tu programa debe calcular y mostrar la cantidad en la cuenta de ahorros después de 1, 2 y 3 años. Muestra cada cantidad redondeada a 2 decimales."
      ]
    },
    {
      "cell_type": "code",
      "execution_count": null,
      "metadata": {
        "colab": {
          "base_uri": "https://localhost:8080/"
        },
        "id": "vV4eU8HHd8_j",
        "outputId": "8d23ef6c-ce51-480c-c7e4-cc53f3abf757"
      },
      "outputs": [],
      "source": []
    },
    {
      "cell_type": "markdown",
      "metadata": {
        "id": "Hx34iN-Cd9Ex"
      },
      "source": [
        "# Ejercicio 10\n",
        "Crea un programa que lea dos enteros, $a$ y $b$, del usuario. Tu programa debe calcular y mostrar:\n",
        "\n",
        "- La suma de $a$ y $b$\n",
        "- La diferencia cuando $b$ se resta de $a$\n",
        "- El producto de $a$ y $b$\n",
        "- El cociente cuando $a$ se divide por $b$\n",
        "- El resto cuando $a$ se divide por $b$\n",
        "- El resultado de $\\log_{10} a$\n",
        "- El resultado de $a^b$"
      ]
    },
    {
      "cell_type": "code",
      "execution_count": null,
      "metadata": {
        "colab": {
          "base_uri": "https://localhost:8080/"
        },
        "id": "KkXTC5pFd9KC",
        "outputId": "63633863-d86a-4d41-ea09-d3f8e4be14c3"
      },
      "outputs": [],
      "source": []
    },
    {
      "cell_type": "markdown",
      "metadata": {
        "id": "38_vDUhAd9Ox"
      },
      "source": [
        "# Ejercicio 11\n",
        "La superficie de la Tierra es curva y la distancia entre grados de longitud varía con la latitud. Como resultado, calcular la distancia entre dos puntos en la superficie de la Tierra es más complicado que simplemente usar el teorema de Pitágoras.\n",
        "\n",
        "Sean $(t_1, g_1)$ y $(t_2, g_2)$ la latitud y la longitud de dos puntos de la superficie terrestre. La distancia entre estos puntos, siguiendo la superficie de la Tierra, en kilómetros es\n",
        "\n",
        "$$distancia = 6371,01 \\times \\arccos(\\sin(t_1) \\times\\sin(t_2) +\\cos(t_1) \\times\\cos(t_2) \\times\\cos(g_1 -g_2))$$\n",
        "\n",
        "Crea un programa que permita al usuario introducir la latitud y longitud de dos puntos de la Tierra en grados. Tu programa debe mostrar la distancia entre los puntos, siguiendo la superficie de la Tierra, en kilómetros."
      ]
    },
    {
      "cell_type": "code",
      "execution_count": null,
      "metadata": {
        "id": "SbHZTPMe0DrE"
      },
      "outputs": [],
      "source": [
        "# dir(math)"
      ]
    },
    {
      "cell_type": "code",
      "execution_count": null,
      "metadata": {
        "colab": {
          "base_uri": "https://localhost:8080/"
        },
        "id": "wT5SwZrPd9UB",
        "outputId": "ae3ae1c6-6251-4627-f6b2-d74942279f0c"
      },
      "outputs": [],
      "source": []
    },
    {
      "cell_type": "markdown",
      "metadata": {
        "id": "K5Q1ZlEDd9ZB"
      },
      "source": [
        "# Ejercicio 12\n",
        "Considere el software que se ejecuta en una máquina de auto-caja. Una de las tareas que debe ser capaz de realizar es determinar cuánto cambio proporcionar cuando el comprador paga una compra en efectivo.\n",
        "\n",
        "Escriba un programa que comience leyendo un número de céntimos del usuario como un número entero. A continuación, el programa debe calcular y mostrar las denominaciones de las monedas que se deben utilizar para dar esa cantidad de cambio al comprador. El cambio debe darse utilizando el menor número de monedas posible. Suponga que la máquina está cargada con monedas de un centavo, cinco centavos, diez centavos, veinticinco centavos, cien centavos y doscientos centavos."
      ]
    },
    {
      "cell_type": "code",
      "execution_count": null,
      "metadata": {
        "colab": {
          "base_uri": "https://localhost:8080/"
        },
        "id": "tDRF64e4d9du",
        "outputId": "d51736bb-063a-43d2-d111-b03bea48d9a3"
      },
      "outputs": [],
      "source": [
        "\n"
      ]
    },
    {
      "cell_type": "markdown",
      "metadata": {
        "id": "0PSKaNILd9id"
      },
      "source": [
        "# Ejercicio 13\n",
        "Mucha gente piensa en su estatura en pies y pulgadas, incluso en algunos países que utilizan principalmente el sistema métrico decimal.\n",
        "\n",
        "Escribe un programa que lea un número de pies del usuario, seguido de un número de pulgadas. Una vez leídos estos valores, tu programa debe calcular y mostrar el número equivalente de centímetros."
      ]
    },
    {
      "cell_type": "code",
      "execution_count": null,
      "metadata": {
        "colab": {
          "base_uri": "https://localhost:8080/"
        },
        "id": "CejNUeOOd9nT",
        "outputId": "13533120-3184-4b53-ddeb-a3bcc4288f8b"
      },
      "outputs": [],
      "source": []
    },
    {
      "cell_type": "markdown",
      "metadata": {
        "id": "3Ss80C7Xd9s8"
      },
      "source": [
        "# Ejercicio 14\n",
        "En este ejercicio, crearás un programa que comience leyendo una medida en pies del usuario. A continuación, tu programa deberá mostrar la medida equivalente en pulgadas, yardas y millas. Utiliza Internet para buscar los factores de conversión necesarios si no los tienes memorizados."
      ]
    },
    {
      "cell_type": "code",
      "execution_count": null,
      "metadata": {
        "colab": {
          "base_uri": "https://localhost:8080/"
        },
        "id": "AUyDNJzrd9xf",
        "outputId": "fb8d2e6c-02fc-418c-8f62-7c13a7360dfe"
      },
      "outputs": [],
      "source": []
    },
    {
      "cell_type": "markdown",
      "metadata": {
        "id": "lMsp0Px9eXI9"
      },
      "source": [
        "# Eercicio 15\n",
        "\n",
        "Escribe un programa que comience leyendo un radio, $r$, del usuario. El programa continuará calculando y mostrando el área de un círculo con radio $r$ y el volumen de una esfera con radio $r$. Utiliza la constante $\\pi$ del módulo ``math`` en tus cálculos."
      ]
    },
    {
      "cell_type": "code",
      "execution_count": null,
      "metadata": {
        "colab": {
          "base_uri": "https://localhost:8080/"
        },
        "id": "MvLqHN1teZfb",
        "outputId": "260b46cd-9c26-4525-e714-c8e6bc283d25"
      },
      "outputs": [],
      "source": []
    },
    {
      "cell_type": "markdown",
      "metadata": {
        "id": "HnIdZMoWiRi_"
      },
      "source": [
        "# Ejercicio 16\n",
        "El volumen de un cilindro puede calcularse multiplicando el área de su base circular por su altura. Escribe un programa que lea del usuario el radio del cilindro, junto con su altura, y calcule su volumen. Muestra el resultado redondeado a un decimal."
      ]
    },
    {
      "cell_type": "code",
      "execution_count": null,
      "metadata": {
        "colab": {
          "base_uri": "https://localhost:8080/"
        },
        "id": "iqIeuJ1Tk4T2",
        "outputId": "07a3090c-33f5-4797-8aca-52009d105f40"
      },
      "outputs": [],
      "source": []
    },
    {
      "cell_type": "markdown",
      "metadata": {
        "id": "-CdwXWBFiTX9"
      },
      "source": [
        "# Ejercicio 17\n",
        "Crea un programa que determine la velocidad a la que se desplaza un objeto cuando choca contra el suelo.\n",
        "\n",
        "El usuario introducirá la altura desde la que se deja caer el objeto en metros ($m$).\n",
        "\n",
        "Como el objeto se deja caer su velocidad inicial es $0$ m/s. Supongamos que la aceleración debida a la gravedad es de $9,8$ m/s$^2$. Puede usar la fórmula\n",
        "$$v_f = \\sqrt{v_i^2 +2ad}$$\n",
        "para calcular la velocidad final, $v_f$ , cuando se conocen la velocidad inicial, $v_i$ , la aceleración, $a$, y la distancia, $d$."
      ]
    },
    {
      "cell_type": "code",
      "execution_count": null,
      "metadata": {
        "colab": {
          "base_uri": "https://localhost:8080/"
        },
        "id": "qLAYKMYXk43s",
        "outputId": "1f030612-1d72-42a0-d678-9554bd54eff0"
      },
      "outputs": [],
      "source": []
    },
    {
      "cell_type": "markdown",
      "metadata": {
        "id": "UE0jEySViTdY"
      },
      "source": [
        "# Ejercicio 18\n",
        "Calcular el área de un triángulo cuando se conocen las longitudes de los tres lados.\n",
        "\n",
        "Sean $s_1$, $s_2$ y $s_3$ las longitudes de los lados. Sea $s = (s_1 +s_2 +s_3)/2$. Entonces el área del triángulo se puede calcular mediante la siguiente fórmula:\n",
        "$$area= \\sqrt{s\\times(s-s_1)\\times(s-s_2)\\times(s-s_3)}$$\n",
        "\n",
        "Desarrolla un programa que lea del usuario las longitudes de los lados de un triángulo y muestre su área."
      ]
    },
    {
      "cell_type": "code",
      "execution_count": null,
      "metadata": {
        "colab": {
          "base_uri": "https://localhost:8080/"
        },
        "id": "8szBbP4gk5dr",
        "outputId": "44118b90-6d1a-4a74-c71e-3f38de5c9754"
      },
      "outputs": [],
      "source": []
    },
    {
      "cell_type": "markdown",
      "metadata": {
        "id": "_mPJkYZhiTf5"
      },
      "source": [
        "# Ejercicio 19\n",
        "Python incluye una biblioteca de funciones para trabajar con el tiempo, incluyendo una función llamada ``asctime`` en el módulo ``time``.\n",
        "\n",
        "Lee la hora actual del reloj interno del ordenador y la devuelve en un formato legible por humanos. Escriba un programa que muestre la hora y la fecha actuales. Su programa no requerirá ninguna entrada del usuario."
      ]
    },
    {
      "cell_type": "code",
      "execution_count": 28,
      "metadata": {
        "id": "FWM_OLpSk588"
      },
      "outputs": [],
      "source": []
    },
    {
      "cell_type": "code",
      "execution_count": null,
      "metadata": {
        "id": "QBRjXPlED1LI"
      },
      "outputs": [],
      "source": []
    },
    {
      "cell_type": "code",
      "execution_count": null,
      "metadata": {
        "colab": {
          "base_uri": "https://localhost:8080/"
        },
        "id": "nL29OtmmD9Cv",
        "outputId": "cae42497-c8d6-4760-eed6-9f36a2d79f00"
      },
      "outputs": [],
      "source": []
    },
    {
      "cell_type": "markdown",
      "metadata": {
        "id": "LCyuSN3EiTij"
      },
      "source": [
        "# Ejercicio 20\n",
        "Crea un programa que lea tres enteros del usuario y los muestre ordenados (del menor al mayor).\n",
        "\n",
        "Utiliza las funciones ``min`` y ``max`` para encontrar los valores más pequeño y más grande. El valor medio se puede encontrar calculando la suma de los tres valores, y luego restando el valor mínimo y el valor máximo."
      ]
    },
    {
      "cell_type": "code",
      "execution_count": null,
      "metadata": {
        "colab": {
          "base_uri": "https://localhost:8080/"
        },
        "id": "CU9tvPhsk6d9",
        "outputId": "7a6311e8-8195-401b-9ebb-ea4b4a314053"
      },
      "outputs": [],
      "source": []
    }
  ],
  "metadata": {
    "colab": {
      "provenance": []
    },
    "kernelspec": {
      "display_name": "Python 3",
      "name": "python3"
    },
    "language_info": {
      "codemirror_mode": {
        "name": "ipython",
        "version": 3
      },
      "file_extension": ".py",
      "mimetype": "text/x-python",
      "name": "python",
      "nbconvert_exporter": "python",
      "pygments_lexer": "ipython3",
      "version": "3.11.9"
    }
  },
  "nbformat": 4,
  "nbformat_minor": 0
}
