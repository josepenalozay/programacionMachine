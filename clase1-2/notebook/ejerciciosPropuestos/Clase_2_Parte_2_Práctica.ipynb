{
 "cells": [
  {
   "cell_type": "markdown",
   "metadata": {
    "id": "7uaImoAUa5_d"
   },
   "source": [
    "# Ejercicio 1\n",
    "La duración de un mes varía de 28 a 31 días. En este ejercicio crearás un programa que lea el nombre de un mes del usuario como una cadena de texto. Luego, tu programa deberá mostrar el número de días en ese mes. Mostrará \"28 o 29 días\" para febrero para tener en cuenta los años bisiestos."
   ]
  },
  {
   "cell_type": "code",
   "execution_count": null,
   "metadata": {
    "id": "kGI0gVhHapMY"
   },
   "outputs": [],
   "source": [
    "# Solución"
   ]
  },
  {
   "cell_type": "markdown",
   "metadata": {
    "id": "rPVcF3gebLwT"
   },
   "source": [
    "# Ejercicio 2\n",
    "Un triángulo puede clasificarse según las longitudes de sus lados como equilátero, isósceles o escaleno. Todos los lados de un triángulo equilátero tienen la misma longitud. Un triángulo isósceles tiene dos lados de la misma longitud y un tercer lado de longitud diferente. Si todos los lados tienen longitudes diferentes, entonces el triángulo es escaleno. Escribe un programa que lea las longitudes de los 3 lados de un triángulo del usuario. Mostrará un mensaje indicando el tipo de triángulo."
   ]
  },
  {
   "cell_type": "code",
   "execution_count": null,
   "metadata": {
    "id": "pxuK2XArbL4H"
   },
   "outputs": [],
   "source": [
    "# Solución"
   ]
  },
  {
   "cell_type": "markdown",
   "metadata": {
    "id": "Bny1NbThbL9-"
   },
   "source": [
    "# Ejercicio 3\n",
    "Las posiciones en un tablero de ajedrez se identifican con una letra y un número. Escribe un programa que lea una posición del usuario. Utiliza una declaración if para determinar si la columna comienza con un cuadro negro o uno blanco. Luego, utiliza aritmética modular para determinar el color del cuadro en esa fila. Por ejemplo, si el usuario ingresa a1, tu programa debería informar que el cuadro es negro. Si el usuario ingresa d5, entonces tu programa debería informar que el cuadro es blanco. Tu programa puede suponer que siempre se ingresará una posición válida y no necesita realizar ninguna verificación de errores."
   ]
  },
  {
   "cell_type": "code",
   "execution_count": null,
   "metadata": {
    "id": "l5unvb46bMDl"
   },
   "outputs": [],
   "source": [
    "# Solución"
   ]
  },
  {
   "cell_type": "markdown",
   "metadata": {
    "id": "Zu-pqoRgbMJj"
   },
   "source": [
    "# Ejercicio 4\n",
    "La siguiente tabla enumera una octava de notas musicales, comenzando con el do central, junto con sus frecuencias.\n",
    "\n",
    "| Nota | Frecuencia (Hz) |\n",
    "|------|-----------------|\n",
    "| C4   | 261.63          |\n",
    "| D4   | 293.66          |\n",
    "| E4   | 329.63          |\n",
    "| F4   | 349.23          |\n",
    "| G4   | 392.00          |\n",
    "| A4   | 440.00          |\n",
    "| B4   | 493.88          |\n",
    "\n",
    "\n",
    "Empieza escribiendo un programa que lea el nombre de una nota del usuario y muestre la frecuencia de la nota. Tu programa debería admitir todas las notas enumeradas anteriormente.\n",
    "\n",
    "Una vez que tu programa funcione correctamente para las notas mencionadas anteriormente, deberías añadir soporte para todas las notas desde C0 hasta C8. Aunque esto se podría hacer agregando muchos casos adicionales a tu declaración if, tal solución es incómoda, poco elegante y no es aceptable para los propósitos de este ejercicio. En su lugar, deberías aprovechar la relación entre las notas en octavas adyacentes. En particular, la frecuencia de cualquier nota en la octava n es la mitad de la frecuencia de la nota correspondiente en la octava n+1. Utilizando esta relación, deberías ser capaz de añadir soporte para las notas adicionales sin agregar casos adicionales a tu declaración if.\n"
   ]
  },
  {
   "cell_type": "code",
   "execution_count": null,
   "metadata": {
    "id": "8bihRJmYbMPi"
   },
   "outputs": [],
   "source": [
    "# Solución"
   ]
  },
  {
   "cell_type": "markdown",
   "metadata": {
    "id": "s53BsOlvbMZB"
   },
   "source": [
    "# Ejercicio 5\n",
    "En la pregunta anterior convertiste de nombre de nota a frecuencia. En esta pregunta escribirás un programa que revierte ese proceso. Comienza leyendo una frecuencia del usuario. Si la frecuencia está dentro de un Hertzio de un valor enumerado en la tabla de la pregunta anterior, entonces informa el nombre de la nota. De lo contrario, indica que la frecuencia no corresponde a una nota conocida. En este ejercicio, solo necesitas considerar las notas enumeradas en la tabla. No es necesario considerar notas de otras octavas.\n"
   ]
  },
  {
   "cell_type": "code",
   "execution_count": null,
   "metadata": {
    "id": "ESmbeXuhbMeT"
   },
   "outputs": [],
   "source": [
    "# Solución"
   ]
  },
  {
   "cell_type": "markdown",
   "metadata": {
    "id": "gbw7MoiTbMja"
   },
   "source": [
    "# Ejercicio 6\n",
    "Los horóscopos comúnmente reportados en los periódicos utilizan la posición del sol en el momento del nacimiento para intentar predecir el futuro. Este sistema de astrología divide el año en doce signos del zodíaco, como se detalla en la siguiente tabla:\n",
    "\n",
    "| Signo del Zodíaco | Rango de Fechas                  |\n",
    "|-------------------|---------------------------------|\n",
    "| Capricornio       | 22 de diciembre a 19 de enero    |\n",
    "| Acuario           | 20 de enero a 18 de febrero      |\n",
    "| Piscis            | 19 de febrero a 20 de marzo      |\n",
    "| Aries             | 21 de marzo a 19 de abril        |\n",
    "| Tauro             | 20 de abril a 20 de mayo         |\n",
    "| Géminis           | 21 de mayo a 20 de junio         |\n",
    "| Cáncer            | 21 de junio a 22 de julio        |\n",
    "| Leo               | 23 de julio a 22 de agosto       |\n",
    "| Virgo             | 23 de agosto a 22 de septiembre  |\n",
    "| Libra             | 23 de septiembre a 22 de octubre |\n",
    "| Escorpio          | 23 de octubre a 21 de noviembre  |\n",
    "| Sagitario         | 22 de noviembre a 21 de diciembre |\n",
    "\n",
    "\n",
    "Escribe un programa que pida al usuario que ingrese su mes y día de nacimiento. Luego, tu programa deberá informar el signo del zodíaco del usuario como parte de un mensaje de salida apropiado.\n"
   ]
  },
  {
   "cell_type": "code",
   "execution_count": null,
   "metadata": {
    "id": "HzECk-18bMoY"
   },
   "outputs": [],
   "source": [
    "# Solución"
   ]
  },
  {
   "cell_type": "markdown",
   "metadata": {
    "id": "bkjP14lGd8h3"
   },
   "source": [
    "# Ejercicio 7\n",
    "El zodíaco chino asigna animales a los años en un ciclo de 12 años. Un ciclo de 12 años se muestra en la tabla a continuación. El patrón se repite a partir de ahí, con el año 2012 siendo otro año del dragón y el año 1999 siendo otro año de la liebre.\n",
    "\n",
    "Año  | Animal\n",
    "-----|--------\n",
    "2000 | Dragón\n",
    "2001 | Serpiente\n",
    "2002 | Caballo\n",
    "2003 | Oveja\n",
    "2004 | Mono\n",
    "2005 | Gallo\n",
    "2006 | Perro\n",
    "2007 | Cerdo\n",
    "2008 | Rata\n",
    "2009 | Buey\n",
    "2010 | Tigre\n",
    "2011 | Liebre\n",
    "\n",
    "Escribe un programa que lea un año del usuario y muestre el animal asociado con ese año. Tu programa debería funcionar correctamente para cualquier año mayor o igual a cero, no solo los que se enumeran en la tabla.\n"
   ]
  },
  {
   "cell_type": "code",
   "execution_count": null,
   "metadata": {
    "id": "SmRZ_DgQd8oF"
   },
   "outputs": [],
   "source": [
    "# Solución"
   ]
  },
  {
   "cell_type": "markdown",
   "metadata": {
    "id": "eMSyau0Wd8ug"
   },
   "source": [
    "# Ejercicio 8\n",
    "Una función cuadrática univariada tiene la forma $f (x) = ax^2 + bx + c$, donde a, b y c son constantes, y a es diferente de cero. Las raíces de una función cuadrática se pueden encontrar al hallar los valores de x que satisfacen la ecuación cuadrática ax2 + bx + c = 0. Una función cuadrática puede tener 0, 1 o 2 raíces reales. Estas raíces se pueden calcular utilizando la fórmula cuadrática, que se muestra a continuación:\n",
    "\n",
    "$raíz = \\frac{-b \\pm \\sqrt{b^2 - 4ac}}{2a}$\n",
    "\n",
    "La porción de la expresión bajo el signo de la raíz cuadrada se llama discriminante. Si el discriminante es negativo, entonces la ecuación cuadrática no tiene ninguna raíz real. Si el discriminante es 0, entonces la ecuación tiene una raíz real. De lo contrario, la ecuación tiene dos raíces reales, y la expresión debe evaluarse dos veces, una vez usando un signo más y otra vez usando un signo menos, al calcular el numerador.\n",
    "\n",
    "Escribe un programa que calcule las raíces reales de una función cuadrática. Tu programa debe comenzar solicitando al usuario los valores de a, b y c. Luego debería mostrar un mensaje indicando el número de raíces reales, junto con los valores de las raíces reales (si las hay).\n"
   ]
  },
  {
   "cell_type": "code",
   "execution_count": null,
   "metadata": {
    "id": "3JfgTEb_d8z3"
   },
   "outputs": [],
   "source": [
    "# Solución"
   ]
  },
  {
   "cell_type": "markdown",
   "metadata": {
    "id": "WdDuqKt0d85u"
   },
   "source": [
    "# Ejercicio 9\n",
    "En una universidad en particular, las calificaciones en letras se mapean a puntos de calificación de la siguiente manera:\n",
    "\n",
    "| Calificación en letra | Puntos de Calificación |\n",
    "|----------------------|----------------------|\n",
    "| A+                   | 4.0                   |\n",
    "| A                    | 4.0                   |\n",
    "| A−                   | 3.7                   |\n",
    "| B+                   | 3.3                   |\n",
    "| B                    | 3.0                   |\n",
    "| B−                   | 2.7                   |\n",
    "| C+                   | 2.3                   |\n",
    "| C                    | 2.0                   |\n",
    "| C−                   | 1.7                   |\n",
    "| D+                   | 1.3                   |\n",
    "| D                    | 1.0                   |\n",
    "| F                    | 0                     |\n",
    "\n",
    "Escribe un programa que comience leyendo una calificación en letra del usuario. Luego, tu programa deberá calcular y mostrar el número equivalente de puntos de calificación. Asegúrate de que tu programa genere un mensaje de error apropiado si el usuario ingresa una calificación en letra inválida.\n"
   ]
  },
  {
   "cell_type": "code",
   "execution_count": null,
   "metadata": {
    "id": "vV4eU8HHd8_j"
   },
   "outputs": [],
   "source": [
    "# Solución"
   ]
  },
  {
   "cell_type": "markdown",
   "metadata": {
    "id": "Hx34iN-Cd9Ex"
   },
   "source": [
    "# Ejercicio 10\n",
    "En el ejercicio anterior creaste un programa que convierte una calificación en letra en el equivalente número de puntos de calificación. En este ejercicio crearás un programa que revierte el proceso y convierte un valor de puntos de calificación ingresado por el usuario a una calificación en letra. Asegúrate de que tu programa maneje valores de puntos de calificación que caigan entre las calificaciones en letra. Estos deben redondearse a la calificación en letra más cercana. Tu programa debería informar A+ para un promedio de calificaciones de 4.0 (o superior).\n"
   ]
  },
  {
   "cell_type": "code",
   "execution_count": null,
   "metadata": {
    "id": "KkXTC5pFd9KC"
   },
   "outputs": [],
   "source": [
    "# Solución"
   ]
  },
  {
   "cell_type": "markdown",
   "metadata": {
    "id": "38_vDUhAd9Ox"
   },
   "source": [
    "# Ejercicio 11\n",
    "La mayoría de los años tienen 365 días. Sin embargo, el tiempo requerido para que la Tierra orbite alrededor del Sol es en realidad un poco más largo que eso. Como resultado, se incluye un día extra, el 29 de febrero, en algunos años para corregir esta diferencia. A estos años se les conoce como años bisiestos. Las reglas para determinar si un año es o no un año bisiesto son las siguientes:\n",
    "\n",
    "• Cualquier año divisible por 400 es un año bisiesto.\n",
    "\n",
    "• De los años restantes, cualquier año divisible por 100 no es un año bisiesto.\n",
    "\n",
    "• De los años restantes, cualquier año divisible por 4 es un año bisiesto.\n",
    "\n",
    "• Todos los demás años no son años bisiestos.\n",
    "\n",
    "Escribe un programa que lea un año del usuario y muestre un mensaje indicando si es o no un año bisiesto.\n"
   ]
  },
  {
   "cell_type": "code",
   "execution_count": null,
   "metadata": {
    "id": "wT5SwZrPd9UB"
   },
   "outputs": [],
   "source": [
    "# Solución"
   ]
  },
  {
   "cell_type": "markdown",
   "metadata": {
    "id": "K5Q1ZlEDd9ZB"
   },
   "source": [
    "# Ejercicio 12\n",
    "Escribe un programa que lea una fecha del usuario y calcule su sucesor inmediato. Por ejemplo, si el usuario ingresa valores que representan 2013-11-18, entonces tu programa debería mostrar un mensaje indicando que el día inmediatamente después de 2013-11-18 es 2013-11-19. Si el usuario ingresa valores que representan 2013-11-30, entonces el programa debería indicar que el siguiente día es 2013-12-01. Si el usuario ingresa valores que representan 2013-12-31, entonces el programa debería indicar que el siguiente día es 2014-01-01. La fecha se ingresará en forma numérica con tres declaraciones de entrada separadas; una para el año, una para el mes y una para el día. Asegúrate de que tu programa funcione correctamente para los años bisiestos."
   ]
  },
  {
   "cell_type": "code",
   "execution_count": null,
   "metadata": {
    "id": "tDRF64e4d9du"
   },
   "outputs": [],
   "source": [
    "# Solución"
   ]
  },
  {
   "cell_type": "markdown",
   "metadata": {
    "id": "0PSKaNILd9id"
   },
   "source": [
    "# Ejercicio 13\n",
    "En este ejercicio crearás un programa que lea una letra del alfabeto del usuario. Si el usuario ingresa a, e, i, o o u, entonces tu programa debería mostrar un mensaje indicando que la letra ingresada es una vocal. Si el usuario ingresa y, entonces tu programa debería mostrar un mensaje indicando que a veces y es una vocal, y a veces y es una consonante. De lo contrario, tu programa debería mostrar un mensaje indicando que la letra es una consonante.\n"
   ]
  },
  {
   "cell_type": "code",
   "execution_count": null,
   "metadata": {
    "id": "CejNUeOOd9nT"
   },
   "outputs": [],
   "source": [
    "# Solución"
   ]
  },
  {
   "cell_type": "markdown",
   "metadata": {
    "id": "3Ss80C7Xd9s8"
   },
   "source": [
    "# Ejercicio 14\n",
    "En una jurisdicción particular, las placas de matrícula antiguas consisten en tres letras mayúsculas seguidas de tres números. Cuando se habían utilizado todas las placas de matrícula que seguían ese patrón, el formato se cambió a cuatro números seguidos de tres letras mayúsculas.\n",
    "\n",
    "Escribe un programa que comience leyendo una cadena de caracteres del usuario. Luego, tu programa deberá mostrar un mensaje indicando si los caracteres son válidos para una placa de matrícula de estilo antiguo o de estilo más nuevo. Tu programa deberá mostrar un mensaje apropiado si la cadena ingresada por el usuario no es válida para ninguno de los dos estilos de placas de matrícula."
   ]
  },
  {
   "cell_type": "code",
   "execution_count": null,
   "metadata": {
    "id": "AUyDNJzrd9xf"
   },
   "outputs": [],
   "source": [
    "# Solución"
   ]
  },
  {
   "cell_type": "markdown",
   "metadata": {
    "id": "lMsp0Px9eXI9"
   },
   "source": [
    "# Ejercicio 15\n",
    "Una ruleta tiene 38 espacios. De estos espacios, 18 son negros, 18 son rojos y dos son verdes. Los espacios verdes están numerados como 0 y 00. Los espacios rojos están numerados como 1, 3, 5, 7, 9, 12, 14, 16, 18, 19, 21, 23, 25, 27, 30, 32, 34 y 36. Los restantes números entre 1 y 36 se utilizan para numerar los espacios negros. Hay varias apuestas que se pueden realizar en la ruleta, pero solo consideraremos el siguiente subconjunto en este ejercicio:\n",
    "\n",
    "- Número individual (1 al 36, 0 o 00)\n",
    "- Rojo versus Negro\n",
    "- Impar versus Par (nota que 0 y 00 no pagan por par)\n",
    "- 1 al 18 versus 19 al 36\n",
    "\n",
    "Escribe un programa que simule un giro de una ruleta utilizando el generador de números aleatorios de Python. Muestra el número seleccionado y todas las apuestas que deben pagarse. Por ejemplo, si se selecciona el número 13, entonces tu programa debería mostrar:\n",
    "\n",
    "\n",
    "El giro resultó en 13...\n",
    "\n",
    "Pagar 13\n",
    "\n",
    "Pagar Negro\n",
    "\n",
    "Pagar Impar\n",
    "\n",
    "Pagar 1 al 18\n",
    "\n",
    "\n",
    "Si la simulación resulta en 0 o 00, entonces tu programa debería mostrar \"Pagar 0\" o \"Pagar 00\" sin ningún otro mensaje adicional."
   ]
  },
  {
   "cell_type": "code",
   "execution_count": null,
   "metadata": {
    "id": "MvLqHN1teZfb"
   },
   "outputs": [],
   "source": [
    "# Solución"
   ]
  },
  {
   "cell_type": "markdown",
   "metadata": {
    "id": "HnIdZMoWiRi_"
   },
   "source": [
    "# Ejercicio 16\n",
    "Leer la edad de una persona y clasificarla en una de las siguientes categorías: bebé (0-2 años), niño (3-12 años), adolescente (13-17 años), adulto (18-64 años) o adulto mayor (65 años o más)."
   ]
  },
  {
   "cell_type": "code",
   "execution_count": null,
   "metadata": {
    "id": "iqIeuJ1Tk4T2"
   },
   "outputs": [],
   "source": [
    "# Solución"
   ]
  },
  {
   "cell_type": "markdown",
   "metadata": {
    "id": "-CdwXWBFiTX9"
   },
   "source": [
    "# Ejercicio 17\n",
    "Solicitar el peso (en kilogramos) y la altura (en metros) de una persona, y luego calcular su IMC. Clasificar el IMC en una de las siguientes categorías: bajo peso, peso normal, sobrepeso u obesidad.\n",
    "\n"
   ]
  },
  {
   "cell_type": "code",
   "execution_count": null,
   "metadata": {
    "id": "qLAYKMYXk43s"
   },
   "outputs": [],
   "source": [
    "# Solución"
   ]
  },
  {
   "cell_type": "markdown",
   "metadata": {
    "id": "UE0jEySViTdY"
   },
   "source": [
    "# Ejercicio 18\n",
    "Pedir al usuario que cree una contraseña. Luego, verificar si la contraseña cumple con ciertos criterios, como longitud mínima, uso de mayúsculas y minúsculas, y presencia de números y caracteres especiales."
   ]
  },
  {
   "cell_type": "code",
   "execution_count": null,
   "metadata": {
    "id": "8szBbP4gk5dr"
   },
   "outputs": [],
   "source": [
    "# Solución"
   ]
  },
  {
   "cell_type": "markdown",
   "metadata": {
    "id": "_mPJkYZhiTf5"
   },
   "source": [
    "# Ejercicio 19\n",
    "Solicitar la puntuación de un examen (por ejemplo, de 0 a 100) y asignar una calificación (A, B, C, D o F) según un conjunto de criterios predefinidos."
   ]
  },
  {
   "cell_type": "code",
   "execution_count": null,
   "metadata": {
    "id": "FWM_OLpSk588"
   },
   "outputs": [],
   "source": [
    "# Solución"
   ]
  },
  {
   "cell_type": "markdown",
   "metadata": {
    "id": "LCyuSN3EiTij"
   },
   "source": [
    "# Ejercicio 20\n",
    "Desarrollar un sistema de puntuación para un juego simple en el que los jugadores ganan puntos. Luego, determinar si un jugador obtuvo un puntaje suficiente para pasar de nivel o ganar el juego."
   ]
  },
  {
   "cell_type": "code",
   "execution_count": null,
   "metadata": {
    "id": "CU9tvPhsk6d9"
   },
   "outputs": [],
   "source": [
    "# Solución"
   ]
  }
 ],
 "metadata": {
  "colab": {
   "provenance": []
  },
  "kernelspec": {
   "display_name": "Python 3",
   "language": "python",
   "name": "python3"
  },
  "language_info": {
   "codemirror_mode": {
    "name": "ipython",
    "version": 3
   },
   "file_extension": ".py",
   "mimetype": "text/x-python",
   "name": "python",
   "nbconvert_exporter": "python",
   "pygments_lexer": "ipython3",
   "version": "3.8.8"
  }
 },
 "nbformat": 4,
 "nbformat_minor": 1
}
