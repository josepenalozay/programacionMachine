{
  "nbformat": 4,
  "nbformat_minor": 0,
  "metadata": {
    "colab": {
      "provenance": []
    },
    "kernelspec": {
      "name": "python3",
      "display_name": "Python 3"
    },
    "language_info": {
      "name": "python"
    }
  },
  "cells": [
    {
      "cell_type": "markdown",
      "source": [],
      "metadata": {
        "id": "u8XrscPsa4IO"
      }
    },
    {
      "cell_type": "markdown",
      "source": [
        "# Ejercicio 1\n",
        "Cree un programa que muestre su nombre y dirección completa formateados de la manera en que normalmente se vería en el exterior de un sobre de carta. Su programa no necesita leer ninguna entrada del usuario."
      ],
      "metadata": {
        "id": "7uaImoAUa5_d"
      }
    },
    {
      "cell_type": "code",
      "execution_count": null,
      "metadata": {
        "colab": {
          "base_uri": "https://localhost:8080/"
        },
        "id": "kGI0gVhHapMY",
        "outputId": "fb182b9f-4625-4b27-d85a-f826ea66cbf6"
      },
      "outputs": [
        {
          "output_type": "stream",
          "name": "stdout",
          "text": [
            "Nombre   :Clifford Torres\n",
            "Dirección:Calle Diamelas 142m Dpto. 201\n",
            "Ciudad   :Callao\n",
            "País     :Perú\n"
          ]
        }
      ],
      "source": [
        "# Solución\n",
        "print(\"Nombre   :Clifford Torres\")\n",
        "print(\"Dirección:Calle Diamelas 142m Dpto. 201\")\n",
        "print(\"Ciudad   :Callao\")\n",
        "print(\"País     :Perú\")"
      ]
    },
    {
      "cell_type": "markdown",
      "source": [
        "# Ejercicio 2\n",
        "Escriba un programa que pida al usuario que introduzca su nombre. El programa debe responder con un mensaje que diga hola al usuario, usando su nombre."
      ],
      "metadata": {
        "id": "rPVcF3gebLwT"
      }
    },
    {
      "cell_type": "code",
      "source": [
        "# Solución\n",
        "nombre =  input(\"Introduzca su nombre: \")\n",
        "print(\"Hola \", nombre)"
      ],
      "metadata": {
        "colab": {
          "base_uri": "https://localhost:8080/"
        },
        "id": "pxuK2XArbL4H",
        "outputId": "170a1538-aaaf-4e87-f22e-cee0d9c8fd2e"
      },
      "execution_count": null,
      "outputs": [
        {
          "output_type": "stream",
          "name": "stdout",
          "text": [
            "Introduzca su nombre: Orlando\n",
            "Hola  Orlando\n"
          ]
        }
      ]
    },
    {
      "cell_type": "markdown",
      "source": [
        "# Ejercicio 3\n",
        "Escribe un programa que pida al usuario que introduzca la anchura y la longitud de una habitación. Una vez leídos los valores, el programa debe calcular y mostrar el área de la habitación. La longitud y la anchura se introducirán como números de coma flotante. Incluya unidades en su mensaje de aviso y de salida; pies o metros, dependiendo de la unidad con la que se sienta más cómodo trabajando."
      ],
      "metadata": {
        "id": "Bny1NbThbL9-"
      }
    },
    {
      "cell_type": "code",
      "source": [
        "# Solución\n",
        "ancho = input(\"Ingrese el ancho de la habitación (en pies):\")\n",
        "longitud = input(\"Ingrese la longitud de la habitación (en pies):\")\n",
        "\n",
        "area = (float(ancho)*0.3048) * (float(longitud)*0.3048)\n",
        "print(\"el área de la habitación es \", area, \"pies cuadrados\")\n",
        "print(\"el área de la habitación es \", round(area,2), \"metros cuadrados\")\n",
        "# 1 pie = 0.3048\n"
      ],
      "metadata": {
        "colab": {
          "base_uri": "https://localhost:8080/"
        },
        "id": "l5unvb46bMDl",
        "outputId": "f3a510f9-705c-43c3-9203-effb3ed01424"
      },
      "execution_count": null,
      "outputs": [
        {
          "output_type": "stream",
          "name": "stdout",
          "text": [
            "Ingrese el ancho de la habitación (en pies):12.5\n",
            "Ingrese la longitud de la habitación (en pies):45\n",
            "el área de la habitación es  52.25796 pies cuadrados\n",
            "el área de la habitación es  52.26 metros cuadrados\n"
          ]
        }
      ]
    },
    {
      "cell_type": "markdown",
      "source": [
        "# Ejercicio 4\n",
        "Cree un programa que lea del usuario la longitud y anchura del campo de un agricultor en pies. Muestra el área del campo en acres."
      ],
      "metadata": {
        "id": "Zu-pqoRgbMJj"
      }
    },
    {
      "cell_type": "code",
      "source": [
        "# Solución\n",
        "ancho = input(\"Ingrese el ancho del terreno (en pies):\")\n",
        "longitud = input(\"Ingrese la longitud del terreno (en pies):\")\n",
        "\n",
        "area = float(ancho) * float(longitud)\n",
        "print(\"el área del terreno  es \", round(area*2.29568e-5,2), \"acres\")"
      ],
      "metadata": {
        "colab": {
          "base_uri": "https://localhost:8080/"
        },
        "id": "8bihRJmYbMPi",
        "outputId": "506604af-6d56-4cce-a55f-c0ccae50c8ab"
      },
      "execution_count": null,
      "outputs": [
        {
          "output_type": "stream",
          "name": "stdout",
          "text": [
            "Ingrese el ancho del terreno (en pies):125\n",
            "Ingrese la longitud del terreno (en pies):489\n",
            "el área del terreno  es  1.4 acres\n"
          ]
        }
      ]
    },
    {
      "cell_type": "markdown",
      "source": [
        "# Ejercicio 5\n",
        "En muchas regiones se añade un pequeño reembolso por los envases de bebidas para animar a la gente a reciclarlos. En una región en particular, los envases de bebidas que contienen un litro o menos tienen un reeembolso de \\$0.10, y los envases de bebidas que contienen más de un litro tienen un reembolso de \\$0.25.\n",
        "\n",
        "Escribe un programa que lea el número de envases de cada tamaño del usuario. Su programa debe continuar calculando y mostrando el reembolso que se recibirá por devolver esos envases. Formatea la salida de forma que incluya un signo de dólar y muestre siempre exactamente dos decimales."
      ],
      "metadata": {
        "id": "s53BsOlvbMZB"
      }
    },
    {
      "cell_type": "code",
      "source": [
        "# Solución\n",
        "\n",
        "# constantes\n",
        "reembolso_menos_1l = 0.10\n",
        "reembolso_mas_1l = 0.25\n",
        "\n",
        "# ingreso por teclado\n",
        "_menos_1l = int(input(\"Ingrese el numero de botella recicladas de 1L o menos:\"))\n",
        "_mas_1l = int(input(\"Ingrese el numero de botella recicladas mayor a 1L:\"))\n",
        "\n",
        "# reeembolso total\n",
        "reembolsoTotal = _menos_1l*reembolso_menos_1l + _mas_1l*reembolso_mas_1l\n",
        "\n",
        "# imprimir bajo el formato solictado\n",
        "print(\"El monto total retornado es $%.2f.\" %reembolsoTotal)\n",
        "\n",
        "# round(reembolsoTotal,2)"
      ],
      "metadata": {
        "colab": {
          "base_uri": "https://localhost:8080/"
        },
        "id": "ESmbeXuhbMeT",
        "outputId": "7e87d182-5767-41a6-a13a-cc89a5f4de2c"
      },
      "execution_count": null,
      "outputs": [
        {
          "output_type": "stream",
          "name": "stdout",
          "text": [
            "Ingrese el numero de botella recicladas de 1L o menos:12\n",
            "Ingrese el numero de botella recicladas mayor a 1L:23\n",
            "El monto total retornado es $6.95.\n"
          ]
        }
      ]
    },
    {
      "cell_type": "code",
      "source": [
        "print(\"Hola {0}, hoy es {1}\".format(\"Victor\", \"Sabado\"))"
      ],
      "metadata": {
        "colab": {
          "base_uri": "https://localhost:8080/"
        },
        "id": "8fr0P2-ZWq7S",
        "outputId": "4882b4c1-34c3-4171-9b78-33ff6c0b45d8"
      },
      "execution_count": null,
      "outputs": [
        {
          "output_type": "stream",
          "name": "stdout",
          "text": [
            "Hola Victor, hoy es Sabado\n"
          ]
        }
      ]
    },
    {
      "cell_type": "markdown",
      "source": [
        "# Ejercicio 6\n",
        "El programa que crees para este ejercicio comenzará leyendo del usuario el costo de una comida pedida en un restaurante.\n",
        "\n",
        "A continuación, el programa calculará los impuestos y la propina de la comida. Utilice la tasa impositiva local (IGV) cuando calcule la cantidad de impuestos a pagar. Calcule la propina como el 18% del importe de la comida (sin impuestos).\n",
        "\n",
        "La salida de su programa debe incluir el monto del impuesto, el monto de la propina, y el total general de la comida incluyendo tanto el impuesto como la propina. Formatee la salida para que todos los valores se muestren con dos decimales."
      ],
      "metadata": {
        "id": "gbw7MoiTbMja"
      }
    },
    {
      "cell_type": "code",
      "source": [
        "# Solución\n",
        "\n",
        "# ingreso el costo de la comida\n",
        "costoComida = float(input(\"Ingrese el costo de la comida:\"))\n",
        "\n",
        "# calculo de la propina\n",
        "propina = 0.18 * costoComida\n",
        "\n",
        "# calculo del igv\n",
        "impuesto = 0.18 * costoComida\n",
        "\n",
        "# costo total\n",
        "costoTotal = costoComida+impuesto+propina\n",
        "\n",
        "# impresion con formato\n",
        "print(\"Impuesto S/%.2f.\" %impuesto)\n",
        "print(\"Propina S/%.2f.\" %propina)\n",
        "print(\"El costo total del servicio es S/%.2f.\" %costoTotal)"
      ],
      "metadata": {
        "colab": {
          "base_uri": "https://localhost:8080/"
        },
        "id": "HzECk-18bMoY",
        "outputId": "b916f974-fb18-42c3-9f31-80f449a94e48"
      },
      "execution_count": null,
      "outputs": [
        {
          "output_type": "stream",
          "name": "stdout",
          "text": [
            "Ingrese el costo de la comida:23.5\n",
            "Impuesto S/4.23.\n",
            "Propina S/4.23.\n",
            "El costo total del servicio es S/31.96.\n"
          ]
        }
      ]
    },
    {
      "cell_type": "markdown",
      "source": [
        "# Ejercicio 7\n",
        "Escriba un programa que lea un número entero positivo, $n$, del usuario y luego muestre la suma de todos los números enteros de $1$ a $n$. La suma de los primeros $n$ números enteros positivos puede calcularse usando la fórmula:\n",
        "\n",
        "$$S= \\frac{n(n+1)}{2}$$"
      ],
      "metadata": {
        "id": "bkjP14lGd8h3"
      }
    },
    {
      "cell_type": "code",
      "source": [
        "# Solución\n",
        "\n",
        "n = int(input(\"n = \"))\n",
        "suma = (n*(n+1))/2\n",
        "\n",
        "print(\" la suma de los \", n, \" primeros numeros naturales es \", int(suma))"
      ],
      "metadata": {
        "colab": {
          "base_uri": "https://localhost:8080/"
        },
        "id": "SmRZ_DgQd8oF",
        "outputId": "59927cbf-5cd8-4f32-e715-6cf170268da3"
      },
      "execution_count": 1,
      "outputs": [
        {
          "output_type": "stream",
          "name": "stdout",
          "text": [
            "n = 5\n",
            " la suma de los  5  primeros numeros naturales es  15\n"
          ]
        }
      ]
    },
    {
      "cell_type": "markdown",
      "source": [
        "# Ejercicio 8\n",
        "Un minorista en línea vende dos productos: articulos electronicos y trastos. Cada articulo electronico pesa 75 gramos. Cada trasto pesa 112 gramos. Escribe un programa que lea el número de articulos electronicos y el número de trastos de un pedido del usuario.\n",
        "\n",
        "A continuación, tu programa debe calcular y mostrar el peso total del pedido."
      ],
      "metadata": {
        "id": "eMSyau0Wd8ug"
      }
    },
    {
      "cell_type": "code",
      "source": [
        "# Solución\n",
        "\n",
        "# contantes\n",
        "pesoElectronico = 75\n",
        "pesoTrasto = 112\n",
        "\n",
        "# leer el numero articulos electronicos y trasto\n",
        "numElectronicos = int(input(\"Ingresa el numero de articulos electronicos comprados:\"))\n",
        "numTrastos = int(input(\"Ingresa el numero de trastos comprados:\"))\n",
        "\n",
        "# calculo del peso total\n",
        "pesoTotal = pesoElectronico*numElectronicos + pesoTrasto*numTrastos\n",
        "# impresion\n",
        "print(\"El peso total de lo comprado es \", pesoTotal,\"gramos\")"
      ],
      "metadata": {
        "id": "3JfgTEb_d8z3",
        "colab": {
          "base_uri": "https://localhost:8080/"
        },
        "outputId": "737ab7d9-c004-47b7-f5ef-10b8ff2d7dd3"
      },
      "execution_count": 3,
      "outputs": [
        {
          "output_type": "stream",
          "name": "stdout",
          "text": [
            "Ingresa el numero de articulos electronicos comprados:45\n",
            "Ingresa el numero de trastos comprados:12\n",
            "El peso total de lo comprado es  4719 gramos\n"
          ]
        }
      ]
    },
    {
      "cell_type": "markdown",
      "source": [
        "# Ejercicio 9\n",
        "Imagina que acabas de abrir una nueva cuenta de ahorros que devenga un interés del 4 por ciento anual. El interés que gana se paga al final del año, y se añade al saldo de la cuenta de ahorros. Escriba un programa que comience leyendo del usuario la cantidad de dinero depositada en la cuenta. Luego tu programa debe calcular y mostrar la cantidad en la cuenta de ahorros después de 1, 2 y 3 años. Muestra cada cantidad redondeada a 2 decimales."
      ],
      "metadata": {
        "id": "WdDuqKt0d85u"
      }
    },
    {
      "cell_type": "code",
      "source": [
        "# Solución\n",
        "tasa = 0.04\n",
        "#  para el año 1\n",
        "capital = int(input(\"Ingrese el capital a depositar:\"))\n",
        "interes = capital*tasa*1\n",
        "monto = capital + interes\n",
        "print(\"Año =  {:}, capital = {:.2f}, interes anual = {:.2f}, Monto de la cuenta = {:.2f}\".format(1,capital,interes,monto))\n",
        "\n",
        "#  para el año 2\n",
        "capital = capital + interes # usar imput\n",
        "interes = capital*tasa*1\n",
        "monto = capital + interes\n",
        "print(\"Año =  {:}, capital = {:.2f}, interes anual = {:.2f}, Monto de la cuenta = {:.2f}\".format(2,capital,interes,monto))\n",
        "\n",
        "#  para el año 3\n",
        "capital = capital + interes # usar imput\n",
        "interes = capital*tasa*1\n",
        "monto = capital + interes\n",
        "print(\"Año =  {:}, capital = {:.2f}, interes anual = {:.2f}, Monto de la cuenta = {:.2f}\".format(3,capital,interes,monto))"
      ],
      "metadata": {
        "colab": {
          "base_uri": "https://localhost:8080/"
        },
        "id": "vV4eU8HHd8_j",
        "outputId": "8d23ef6c-ce51-480c-c7e4-cc53f3abf757"
      },
      "execution_count": 4,
      "outputs": [
        {
          "output_type": "stream",
          "name": "stdout",
          "text": [
            "Ingrese el capital a depositar:130\n",
            "Año =  1, capital = 130.00, interes anual = 5.20, Monto de la cuenta = 135.20\n",
            "Año =  2, capital = 135.20, interes anual = 5.41, Monto de la cuenta = 140.61\n",
            "Año =  3, capital = 140.61, interes anual = 5.62, Monto de la cuenta = 146.23\n"
          ]
        }
      ]
    },
    {
      "cell_type": "markdown",
      "source": [
        "# Ejercicio 10\n",
        "Crea un programa que lea dos enteros, $a$ y $b$, del usuario. Tu programa debe calcular y mostrar:\n",
        "\n",
        "- La suma de $a$ y $b$\n",
        "- La diferencia cuando $b$ se resta de $a$\n",
        "- El producto de $a$ y $b$\n",
        "- El cociente cuando $a$ se divide por $b$\n",
        "- El resto cuando $a$ se divide por $b$\n",
        "- El resultado de $\\log_{10} a$\n",
        "- El resultado de $a^b$"
      ],
      "metadata": {
        "id": "Hx34iN-Cd9Ex"
      }
    },
    {
      "cell_type": "code",
      "source": [
        "# Solución\n",
        "# importo el modulo de funciones matematicas\n",
        "import math\n",
        "a = float(input(\"ingresa un real positivo:\"))\n",
        "b = float(input(\"ingresa un real positivo:\"))\n",
        "print(a,\"+\",b,\" = \",a+b)\n",
        "print(a,\"-\",b,\" = \",a-b)\n",
        "print(a,\"*\",b,\" = \",a*b)\n",
        "print(a,\"/\",b,\" = \",a/b)\n",
        "print(a,\"%\",b,\" = \",a%b)\n",
        "# evaluo el log_10\n",
        "log_a = math.log10(a)\n",
        "print(\"log en base 10 de\",a,\" = \",log_a)\n",
        "print(a,\"^\",b,\" = \",a**b)"
      ],
      "metadata": {
        "colab": {
          "base_uri": "https://localhost:8080/"
        },
        "id": "KkXTC5pFd9KC",
        "outputId": "63633863-d86a-4d41-ea09-d3f8e4be14c3"
      },
      "execution_count": 8,
      "outputs": [
        {
          "output_type": "stream",
          "name": "stdout",
          "text": [
            "ingresa un real positivo:12\n",
            "ingresa un real positivo:3\n",
            "12.0 + 3.0  =  15.0\n",
            "12.0 - 3.0  =  9.0\n",
            "12.0 * 3.0  =  36.0\n",
            "12.0 / 3.0  =  4.0\n",
            "12.0 % 3.0  =  0.0\n",
            "log en base 10 de 12.0  =  1.0791812460476249\n",
            "12.0 ^ 3.0  =  1728.0\n"
          ]
        }
      ]
    },
    {
      "cell_type": "markdown",
      "source": [
        "# Ejercicio 11\n",
        "La superficie de la Tierra es curva y la distancia entre grados de longitud varía con la latitud. Como resultado, calcular la distancia entre dos puntos en la superficie de la Tierra es más complicado que simplemente usar el teorema de Pitágoras.\n",
        "\n",
        "Sean $(t_1, g_1)$ y $(t_2, g_2)$ la latitud y la longitud de dos puntos de la superficie terrestre. La distancia entre estos puntos, siguiendo la superficie de la Tierra, en kilómetros es\n",
        "\n",
        "$$distancia = 6371,01 \\times \\arccos(\\sin(t_1) \\times\\sin(t_2) +\\cos(t_1) \\times\\cos(t_2) \\times\\cos(g_1 -g_2))$$\n",
        "\n",
        "Crea un programa que permita al usuario introducir la latitud y longitud de dos puntos de la Tierra en grados. Tu programa debe mostrar la distancia entre los puntos, siguiendo la superficie de la Tierra, en kilómetros."
      ],
      "metadata": {
        "id": "38_vDUhAd9Ox"
      }
    },
    {
      "cell_type": "code",
      "source": [
        "# dir(math)"
      ],
      "metadata": {
        "id": "SbHZTPMe0DrE"
      },
      "execution_count": null,
      "outputs": []
    },
    {
      "cell_type": "code",
      "source": [
        "# Solución\n",
        "\n",
        "# importo el modulo de funciones matematicas\n",
        "import math\n",
        "\n",
        "# ingreso de datos\n",
        "print(\"Ingrese la latitud y longitud del punto 1\")\n",
        "lat1 = int(input(\"Ingresa la latitud en grados:\"))\n",
        "long1 = int(input(\"Ingresa la longitud en grados:\"))\n",
        "\n",
        "print(\"Ingrese la latitud y longitud del punto 2\")\n",
        "lat2 = int(input(\"Ingresa la latitud en grados:\"))\n",
        "long2 = int(input(\"Ingresa la longitud en grados:\"))\n",
        "\n",
        "# calculo de la distancia\n",
        "distancia1 = math.sin(math.radians(lat1)) * math.sin(math.radians(lat2))\n",
        "distancia2 = math.cos(math.radians(lat1)) * math.cos(math.radians(lat2)) * math.cos(math.radians(long1-long2))\n",
        "\n",
        "distancia = 6371.01*(math.acos(distancia1+distancia2))\n",
        "\n",
        "print(\"la distacia de los dos puntos es \", distancia, \"kilometros\")"
      ],
      "metadata": {
        "id": "wT5SwZrPd9UB",
        "colab": {
          "base_uri": "https://localhost:8080/"
        },
        "outputId": "ae3ae1c6-6251-4627-f6b2-d74942279f0c"
      },
      "execution_count": 12,
      "outputs": [
        {
          "output_type": "stream",
          "name": "stdout",
          "text": [
            "Ingrese la latitud y longitud del punto 1\n",
            "Ingresa la latitud:42\n",
            "Ingresa la longitud:25\n",
            "Ingrese la latitud y longitud del punto 2\n",
            "Ingresa la latitud:30\n",
            "Ingresa la longitud:50\n",
            "la distacia de los dos puntos es  2600.4517931728906\n"
          ]
        }
      ]
    },
    {
      "cell_type": "markdown",
      "source": [
        "# Ejercicio 12\n",
        "Considere el software que se ejecuta en una máquina de auto-caja. Una de las tareas que debe ser capaz de realizar es determinar cuánto cambio proporcionar cuando el comprador paga una compra en efectivo.\n",
        "\n",
        "Escriba un programa que comience leyendo un número de céntimos del usuario como un número entero. A continuación, el programa debe calcular y mostrar las denominaciones de las monedas que se deben utilizar para dar esa cantidad de cambio al comprador. El cambio debe darse utilizando el menor número de monedas posible. Suponga que la máquina está cargada con monedas de un centavo, cinco centavos, diez centavos, veinticinco centavos, cien centavos y doscientos centavos."
      ],
      "metadata": {
        "id": "K5Q1ZlEDd9ZB"
      }
    },
    {
      "cell_type": "code",
      "source": [
        "# Solución\n",
        "\n",
        "# constantes\n",
        "moneda5 = 5\n",
        "moneda10 = 10\n",
        "moneda25 = 25\n",
        "moneda100 = 100\n",
        "moneda200 = 200\n",
        "\n",
        "# lectura\n",
        "centavos = int(input(\"Ingrese el numero de centavos:\"))\n",
        "\n",
        "# inicia el proceso de cambio\n",
        "print(\"se entregaran \", centavos//moneda200, \"monedas de 200 centavos\")\n",
        "# calculo cuantos centavos quedan\n",
        "centavos = centavos%moneda200\n",
        "\n",
        "print(\"se entregaran \", centavos//moneda100, \"monedas de 100 centavos\")\n",
        "# calculo cuantos centavos quedan\n",
        "centavos = centavos%moneda100\n",
        "\n",
        "print(\"se entregaran \", centavos//moneda25, \"monedas de 25 centavos\")\n",
        "# calculo cuantos centavos quedan\n",
        "centavos = centavos%moneda25\n",
        "\n",
        "print(\"se entregaran \", centavos//moneda10, \"monedas de 10 centavos\")\n",
        "# calculo cuantos centavos quedan\n",
        "centavos = centavos%moneda10\n",
        "\n",
        "print(\"se entregaran \", centavos//moneda5, \"monedas de 5 centavos\")\n",
        "# calculo cuantos centavos quedan\n",
        "centavos = centavos%moneda5\n",
        "\n",
        "print(\"se entregaran \", centavos, \"monedas de 1 centavo\")\n"
      ],
      "metadata": {
        "id": "tDRF64e4d9du",
        "colab": {
          "base_uri": "https://localhost:8080/"
        },
        "outputId": "d51736bb-063a-43d2-d111-b03bea48d9a3"
      },
      "execution_count": 13,
      "outputs": [
        {
          "output_type": "stream",
          "name": "stdout",
          "text": [
            "Ingrese el numero de centavos:459\n",
            "se entregaran  2 monedas de 200 centavos\n",
            "se entregaran  0 monedas de 100 centavos\n",
            "se entregaran  2 monedas de 25 centavos\n",
            "se entregaran  0 monedas de 10 centavos\n",
            "se entregaran  1 monedas de 5 centavos\n",
            "se entregaran  4 monedas de 1 centavo\n"
          ]
        }
      ]
    },
    {
      "cell_type": "markdown",
      "source": [
        "# Ejercicio 13\n",
        "Mucha gente piensa en su estatura en pies y pulgadas, incluso en algunos países que utilizan principalmente el sistema métrico decimal.\n",
        "\n",
        "Escribe un programa que lea un número de pies del usuario, seguido de un número de pulgadas. Una vez leídos estos valores, tu programa debe calcular y mostrar el número equivalente de centímetros."
      ],
      "metadata": {
        "id": "0PSKaNILd9id"
      }
    },
    {
      "cell_type": "code",
      "source": [
        "# Solución\n",
        "\n",
        "# contantes\n",
        "pies_a_pulgadas = 12\n",
        "pulgadas_a_cm =  2.54\n",
        "\n",
        "# lectura\n",
        "pies = float(input(\"Ingrese su estatura en pies:\"))\n",
        "pulgadas = float(input(\"Ingrese su estatura en pulgadas:\"))\n",
        "\n",
        "# calculo\n",
        "cm = (pies*pies_a_pulgadas+pulgadas)*pulgadas_a_cm\n",
        "\n",
        "# impresion\n",
        "print(\"Tu estatura en centimetros es = \", cm)"
      ],
      "metadata": {
        "id": "CejNUeOOd9nT",
        "colab": {
          "base_uri": "https://localhost:8080/"
        },
        "outputId": "13533120-3184-4b53-ddeb-a3bcc4288f8b"
      },
      "execution_count": 15,
      "outputs": [
        {
          "output_type": "stream",
          "name": "stdout",
          "text": [
            "Ingrese su estatura en pies:2\n",
            "Ingrese su estatura en pulgadas:6\n",
            "Tu estatura en centimetros es =  76.2\n"
          ]
        }
      ]
    },
    {
      "cell_type": "markdown",
      "source": [
        "# Ejercicio 14\n",
        "En este ejercicio, crearás un programa que comience leyendo una medida en pies del usuario. A continuación, tu programa deberá mostrar la medida equivalente en pulgadas, yardas y millas. Utiliza Internet para buscar los factores de conversión necesarios si no los tienes memorizados."
      ],
      "metadata": {
        "id": "3Ss80C7Xd9s8"
      }
    },
    {
      "cell_type": "code",
      "source": [
        "# Solución\n",
        "\n",
        "# contantes\n",
        "pies_a_pulgadas = 12\n",
        "pies_a_yardas = 0.333333\n",
        "pies_a_millas = 0.00018939375\n",
        "\n",
        "# lectura\n",
        "pies = float(input(\"Ingrese la medida en pies:\"))\n",
        "\n",
        "# calculo\n",
        "pulgadas = pies*pies_a_pulgadas\n",
        "yardas = pies*pies_a_yardas\n",
        "millas = pies*pies_a_millas\n",
        "\n",
        "print(\"{:.2f} pies equivale a {:.2f} pulgadas, {:.2f} yardas y {:.2f} millas\".format(pies,pulgadas,yardas,millas))"
      ],
      "metadata": {
        "id": "AUyDNJzrd9xf",
        "colab": {
          "base_uri": "https://localhost:8080/"
        },
        "outputId": "fb8d2e6c-02fc-418c-8f62-7c13a7360dfe"
      },
      "execution_count": 37,
      "outputs": [
        {
          "output_type": "stream",
          "name": "stdout",
          "text": [
            "Ingrese la medida en pies:480\n",
            "480.00 pies equivale a 5760.00 pulgadas, 160.00 yardas y 0.09 millas\n"
          ]
        }
      ]
    },
    {
      "cell_type": "markdown",
      "source": [
        "# Eercicio 15\n",
        "\n",
        "Escribe un programa que comience leyendo un radio, $r$, del usuario. El programa continuará calculando y mostrando el área de un círculo con radio $r$ y el volumen de una esfera con radio $r$. Utiliza la constante $\\pi$ del módulo ``math`` en tus cálculos."
      ],
      "metadata": {
        "id": "lMsp0Px9eXI9"
      }
    },
    {
      "cell_type": "code",
      "source": [
        "# Solución\n",
        "\n",
        "# importamos math\n",
        "import math\n",
        "# lectura\n",
        "radio = float(input(\"ingrese el radio de un circulo:\"))\n",
        "\n",
        "# calculo\n",
        "area = math.pi*(radio**2)\n",
        "volumen = math.pi*(4/3)*(radio**3)\n",
        "\n",
        "# impresion\n",
        "print(\"El area y volumen de un circulo y una esferea con radio {:} es igual a {:.2f} y {:.2f}, respectivamente.\".format(radio,area,volumen))"
      ],
      "metadata": {
        "id": "MvLqHN1teZfb",
        "colab": {
          "base_uri": "https://localhost:8080/"
        },
        "outputId": "260b46cd-9c26-4525-e714-c8e6bc283d25"
      },
      "execution_count": 17,
      "outputs": [
        {
          "output_type": "stream",
          "name": "stdout",
          "text": [
            "ingrese eñ radio de un circulo:5\n",
            "El area y volumen de un circulo y una esferea con radio 5.0 es igual a 78.54 y 523.60, respectivamente\n"
          ]
        }
      ]
    },
    {
      "cell_type": "markdown",
      "source": [
        "# Ejercicio 16\n",
        "El volumen de un cilindro puede calcularse multiplicando el área de su base circular por su altura. Escribe un programa que lea del usuario el radio del cilindro, junto con su altura, y calcule su volumen. Muestra el resultado redondeado a un decimal."
      ],
      "metadata": {
        "id": "HnIdZMoWiRi_"
      }
    },
    {
      "cell_type": "code",
      "source": [
        "# Solución\n",
        "\n",
        "# importamos math\n",
        "import math\n",
        "# lectura\n",
        "radio = float(input(\"ingrese el radio de la base de un cilindro:\"))\n",
        "altura = float(input(\"ingrese la altura de un cilindro:\"))\n",
        "\n",
        "# calculo\n",
        "volumen = math.pi*(radio**2)*altura\n",
        "\n",
        "# impresion\n",
        "print(\"El volumen del cilindro es  {:.1f}.\".format(volumen))"
      ],
      "metadata": {
        "id": "iqIeuJ1Tk4T2",
        "colab": {
          "base_uri": "https://localhost:8080/"
        },
        "outputId": "07a3090c-33f5-4797-8aca-52009d105f40"
      },
      "execution_count": 18,
      "outputs": [
        {
          "output_type": "stream",
          "name": "stdout",
          "text": [
            "ingrese el radio de la base de un cilindro:23\n",
            "ingrese la altura de un cilindro:45\n",
            "El volumen del cilindro es  74785.6.\n"
          ]
        }
      ]
    },
    {
      "cell_type": "markdown",
      "source": [
        "# Ejercicio 17\n",
        "Crea un programa que determine la velocidad a la que se desplaza un objeto cuando choca contra el suelo.\n",
        "\n",
        "El usuario introducirá la altura desde la que se deja caer el objeto en metros ($m$).\n",
        "\n",
        "Como el objeto se deja caer su velocidad inicial es $0$ m/s. Supongamos que la aceleración debida a la gravedad es de $9,8$ m/s$^2$. Puede usar la fórmula\n",
        "$$v_f = \\sqrt{v_i^2 +2ad}$$\n",
        "para calcular la velocidad final, $v_f$ , cuando se conocen la velocidad inicial, $v_i$ , la aceleración, $a$, y la distancia, $d$."
      ],
      "metadata": {
        "id": "-CdwXWBFiTX9"
      }
    },
    {
      "cell_type": "code",
      "source": [
        "# Solución\n",
        "\n",
        "# importamos math\n",
        "import math\n",
        "\n",
        "# contantes\n",
        "a = 9.8     #gravedad\n",
        "\n",
        "# lectura\n",
        "altura = float(input(\"ingrese la altura:\"))\n",
        "\n",
        "# calculo\n",
        "v_f = math.sqrt(2*a*altura)\n",
        "\n",
        "# impresion\n",
        "print(\"La velocidad a la que choca con el suelo es  {:.2f}.\".format(v_f),\"m/s\")"
      ],
      "metadata": {
        "id": "qLAYKMYXk43s",
        "colab": {
          "base_uri": "https://localhost:8080/"
        },
        "outputId": "1f030612-1d72-42a0-d678-9554bd54eff0"
      },
      "execution_count": 21,
      "outputs": [
        {
          "output_type": "stream",
          "name": "stdout",
          "text": [
            "ingrese la altura:40\n",
            "La velocidad a la que choca con el suelo es  28.00. m/s\n"
          ]
        }
      ]
    },
    {
      "cell_type": "markdown",
      "source": [
        "# Ejercicio 18\n",
        "Calcular el área de un triángulo cuando se conocen las longitudes de los tres lados.\n",
        "\n",
        "Sean $s_1$, $s_2$ y $s_3$ las longitudes de los lados. Sea $s = (s_1 +s_2 +s_3)/2$. Entonces el área del triángulo se puede calcular mediante la siguiente fórmula:\n",
        "$$area= \\sqrt{s\\times(s-s_1)\\times(s-s_2)\\times(s-s_3)}$$\n",
        "\n",
        "Desarrolla un programa que lea del usuario las longitudes de los lados de un triángulo y muestre su área."
      ],
      "metadata": {
        "id": "UE0jEySViTdY"
      }
    },
    {
      "cell_type": "code",
      "source": [
        "# Solución\n",
        "\n",
        "# importamos math\n",
        "import math\n",
        "\n",
        "# lectura\n",
        "s1 = float(input(\"Ingrese la longitud del lado 1 de un triangulo:\"))\n",
        "s2 = float(input(\"Ingrese la longitud del lado 2 de un triangulo:\"))\n",
        "s3 = float(input(\"Ingrese la longitud del lado 3 de un triangulo:\"))\n",
        "\n",
        "# calculo\n",
        "s = (s1+s2+s3)/2\n",
        "area = math.sqrt(s*(s-s1)*(s-s3)*(s-s3))\n",
        "\n",
        "# impresion\n",
        "print(\"El area del triangulo es {:.2f}\".format(area) )"
      ],
      "metadata": {
        "id": "8szBbP4gk5dr",
        "colab": {
          "base_uri": "https://localhost:8080/"
        },
        "outputId": "44118b90-6d1a-4a74-c71e-3f38de5c9754"
      },
      "execution_count": 23,
      "outputs": [
        {
          "output_type": "stream",
          "name": "stdout",
          "text": [
            "Ingrese la longitud del lado 1 de un triangulo:4\n",
            "Ingrese la longitud del lado 2 de un triangulo:5\n",
            "Ingrese la longitud del lado 3 de un triangulo:3\n",
            "El area del triangulo es 10.39\n"
          ]
        }
      ]
    },
    {
      "cell_type": "markdown",
      "source": [
        "# Ejercicio 19\n",
        "Python incluye una biblioteca de funciones para trabajar con el tiempo, incluyendo una función llamada ``asctime`` en el módulo ``time``.\n",
        "\n",
        "Lee la hora actual del reloj interno del ordenador y la devuelve en un formato legible por humanos. Escriba un programa que muestre la hora y la fecha actuales. Su programa no requerirá ninguna entrada del usuario."
      ],
      "metadata": {
        "id": "_mPJkYZhiTf5"
      }
    },
    {
      "cell_type": "code",
      "source": [
        "# Solución\n",
        "import time"
      ],
      "metadata": {
        "id": "FWM_OLpSk588"
      },
      "execution_count": 28,
      "outputs": []
    },
    {
      "cell_type": "code",
      "source": [
        "dir(time)"
      ],
      "metadata": {
        "id": "QBRjXPlED1LI"
      },
      "execution_count": null,
      "outputs": []
    },
    {
      "cell_type": "code",
      "source": [
        "import time\n",
        "# lee la hora del reloj interno\n",
        "t = time.localtime()\n",
        "# transformar a hora legible\n",
        "tt = time.asctime(t)\n",
        "# imprimir\n",
        "print(\"La hora y fecha del reloj del ordenador es \", tt)"
      ],
      "metadata": {
        "colab": {
          "base_uri": "https://localhost:8080/"
        },
        "id": "nL29OtmmD9Cv",
        "outputId": "cae42497-c8d6-4760-eed6-9f36a2d79f00"
      },
      "execution_count": 35,
      "outputs": [
        {
          "output_type": "stream",
          "name": "stdout",
          "text": [
            "La hora y fecha del reloj del ordenador es  Sun Sep 17 21:36:02 2023\n"
          ]
        }
      ]
    },
    {
      "cell_type": "markdown",
      "source": [
        "# Ejercicio 20\n",
        "Crea un programa que lea tres enteros del usuario y los muestre ordenados (del menor al mayor).\n",
        "\n",
        "Utiliza las funciones ``min`` y ``max`` para encontrar los valores más pequeño y más grande. El valor medio se puede encontrar calculando la suma de los tres valores, y luego restando el valor mínimo y el valor máximo."
      ],
      "metadata": {
        "id": "LCyuSN3EiTij"
      }
    },
    {
      "cell_type": "code",
      "source": [
        "# Solución\n",
        "# lectura\n",
        "s1 = int(input(\"Ingrese un entero:\"))\n",
        "s2 = int(input(\"Ingrese un entero:\"))\n",
        "s3 = int(input(\"Ingrese un entero:\"))\n",
        "\n",
        "minimo = min(s1,s2,s3)\n",
        "maximo = max(s1,s2,s3)\n",
        "medio = (s1+s2+s3) - (minimo+maximo)\n",
        "\n",
        "print(\"los numeros ingresados, ordenados, son: {:} < {:} < {:}\".format(minimo,medio,maximo))"
      ],
      "metadata": {
        "id": "CU9tvPhsk6d9",
        "colab": {
          "base_uri": "https://localhost:8080/"
        },
        "outputId": "7a6311e8-8195-401b-9ebb-ea4b4a314053"
      },
      "execution_count": 27,
      "outputs": [
        {
          "output_type": "stream",
          "name": "stdout",
          "text": [
            "Ingrese un entero:45\n",
            "Ingrese un entero:5\n",
            "Ingrese un entero:0\n",
            "los numeros ingresados, ordenados, son: 0 < 5 < 45\n"
          ]
        }
      ]
    }
  ]
}