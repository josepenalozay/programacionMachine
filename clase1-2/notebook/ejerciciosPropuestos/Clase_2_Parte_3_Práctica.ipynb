{
 "cells": [
  {
   "cell_type": "markdown",
   "id": "b2f28837",
   "metadata": {},
   "source": [
    "# Ejercicio 1\n",
    "En este ejercicio, crearás un programa que calcule el promedio de una colección de valores ingresados por el usuario. El usuario ingresará 0 como un valor centinela para indicar que no se proporcionarán más valores. Tu programa debe mostrar un mensaje de error apropiado si el primer valor ingresado por el usuario es 0."
   ]
  },
  {
   "cell_type": "markdown",
   "id": "4c453aeb",
   "metadata": {},
   "source": [
    "# Ejercicio 2\n",
    "\n",
    "Un minorista en particular está teniendo una venta del 60 por ciento de descuento en una variedad de productos descontinuados. El minorista desea ayudar a sus clientes a determinar el precio reducido de la mercancía mediante una tabla de descuentos impresa en el estante que muestre los precios originales y los precios después de aplicar el descuento. Escribe un programa que utilice un bucle para generar esta tabla, mostrando el precio original, la cantidad de descuento y el nuevo precio para compras de $4.95, $9.95, $14.95, $19.95 y $24.95. Asegúrate de que las cantidades de descuento y los nuevos precios se redondeen a 2 decimales cuando se muestren.\n"
   ]
  },
  {
   "cell_type": "markdown",
   "id": "ba24ed08",
   "metadata": {},
   "source": [
    "# Ejercicio 3\n",
    "Escribe un programa que muestre una tabla de conversión de temperatura para grados Celsius y grados Fahrenheit. La tabla debe incluir filas para todas las temperaturas entre 0 y 100 grados Celsius que sean múltiplos de 10 grados Celsius. Incluye encabezados apropiados en tus columnas. La fórmula para convertir entre grados Celsius y grados Fahrenheit se puede encontrar en Internet."
   ]
  },
  {
   "cell_type": "markdown",
   "id": "776c4a6d",
   "metadata": {},
   "source": [
    "# Ejercicio 4\n",
    "\n",
    "El 4 de febrero de 2013 fue el último día en que se distribuyeron centavos por la Real Casa de la Moneda de Canadá. Ahora que los centavos han sido eliminados gradualmente, los minoristas deben ajustar los totales para que sean múltiplos de 5 centavos cuando se paguen en efectivo (las transacciones con tarjeta de crédito y débito continúan cobrándose al centavo). Mientras que los minoristas tienen cierta libertad en cómo lo hacen, la mayoría opta por redondear al níquel más cercano.\n",
    "Escribe un programa que lea los precios del usuario hasta que se ingrese una línea en blanco. Muestra el costo total de todos los elementos ingresados en una línea y, a continuación, muestra la cantidad debida si el cliente paga en efectivo en una segunda línea. La cantidad debida por un pago en efectivo debe redondearse al níquel más cercano. Puedes calcular la cantidad de pago en efectivo comenzando por determinar cuántos centavos se necesitarían para pagar el total. Luego, calcula el residuo cuando se divide ese número de centavos por 5. Finalmente, ajusta el total hacia abajo si el residuo es menor de 2.5, de lo contrario, ajústalo hacia arriba."
   ]
  },
  {
   "cell_type": "markdown",
   "id": "005d04df",
   "metadata": {},
   "source": [
    "# Ejercicio 5\n",
    "\n",
    "Escribe un programa que calcule el perímetro de un polígono. Comienza leyendo los valores de x e y para el primer punto en el perímetro del polígono del usuario. Luego, continúa leyendo pares de valores de x e y hasta que el usuario ingrese una línea en blanco para la coordenada x. Cada vez que leas una coordenada adicional, debes calcular la distancia al punto anterior y sumarla al perímetro. Cuando se ingrese una línea en blanco para la coordenada x, el programa debe sumar la distancia desde el último punto de regreso al primer punto al perímetro y luego mostrar el perímetro total."
   ]
  },
  {
   "cell_type": "markdown",
   "id": "5e7279a5",
   "metadata": {},
   "source": [
    "# Ejercicio 6\n",
    "\n",
    "En este ejercicio, calcularás el promedio de calificaciones ingresadas por el usuario. El usuario ingresará las calificaciones en forma de letras (A, B, C, D, F), y el programa calculará el promedio de las calificaciones. El usuario indicará el final de la entrada ingresando una línea en blanco.\n"
   ]
  },
  {
   "cell_type": "markdown",
   "id": "4ace182d",
   "metadata": {},
   "source": [
    "# Ejercicio 7\n",
    "\n",
    "Un zoológico determinado establece el precio de la entrada en función de la edad del visitante. Los visitantes de 2 años o menos entran sin cargo. Los niños entre 3 y 12 años cuestan $14.00. Los adultos mayores de 65 años cuestan $18.00. La entrada para todos los demás visitantes cuesta $23.00.\n",
    "Crea un programa que comience leyendo las edades de todos los visitantes en un grupo del usuario, con una edad ingresada en cada línea. El usuario ingresará\n",
    "\n",
    " una línea en blanco para indicar que no hay más visitantes en el grupo. Luego, tu programa debe mostrar el costo de la entrada para el grupo con un mensaje apropiado. El costo debe mostrarse con dos decimales.\n"
   ]
  },
  {
   "cell_type": "markdown",
   "id": "59a633a6",
   "metadata": {},
   "source": [
    "# Ejercicio 8\n",
    "\n",
    "Un bit de paridad es un mecanismo simple para detectar errores en datos transmitidos por una conexión no confiable, como una línea telefónica. La idea básica es que se transmite un bit adicional después de cada grupo de 8 bits para que se pueda detectar un error de un solo bit en la transmisión. Los bits de paridad se pueden calcular para la paridad par o la paridad impar. Si se selecciona la paridad par, entonces el bit de paridad que se transmite se elige de manera que el número total de unos transmitidos (8 bits de datos más el bit de paridad) sea par. Cuando se selecciona la paridad impar, el bit de paridad se elige de manera que el número total de unos transmitidos sea impar. Escribe un programa que calcule el bit de paridad para grupos de 8 bits ingresados por el usuario utilizando paridad par. Tu programa debe leer cadenas que contienen 8 bits hasta que el usuario ingrese una línea en blanco. Después de que el usuario ingrese cada cadena, tu programa debe mostrar un mensaje claro indicando si el bit de paridad debe ser 0 o 1. Debe mostrar un mensaje de error apropiado si el usuario ingresa algo que no sea una cadena de 8 bits."
   ]
  },
  {
   "cell_type": "markdown",
   "id": "46a55b5b",
   "metadata": {},
   "source": [
    "# Ejercicio 9\n",
    "\n",
    "El valor de π se puede aproximar mediante la siguiente serie infinita:\n",
    "$ π ≈ 3 + \\left(\\frac{4}{2 × 3 × 4}\\right) - \\left(\\frac{4}{4 × 5 × 6}\\right) + \\left(\\frac{4}{6 × 7 × 8}\\right) - \\left(\\frac{4}{8 × 9 × 10}\\right) + \\left(\\frac{4}{10 × 11 × 12}\\right) - ... $\n",
    "\n",
    "Escribe un programa que muestre 15 aproximaciones de π. La primera aproximación debe utilizar solo el primer término de la serie. Cada aproximación adicional que muestre tu programa debe incluir un término más en la serie, lo que la hace una mejor aproximación de π que cualquiera de las aproximaciones mostradas anteriormente.\n"
   ]
  },
  {
   "cell_type": "markdown",
   "id": "c2c6a836",
   "metadata": {},
   "source": [
    "# Ejercicio 10\n",
    "\n",
    "Uno de los primeros ejemplos conocidos de cifrado fue utilizado por Julio César. Julio César necesitaba proporcionar instrucciones escritas a sus generales, pero no quería que sus enemigos conocieran sus planes si el mensaje caía en sus manos. Como resultado, desarrolló lo que más tarde se conoció como el cifrado César. La idea detrás de este cifrado es simple: cada letra en el mensaje original se desplaza 3 lugares. Así, A se convierte en D, B en E, C en F, D en G, etc. Las últimas tres letras del alfabeto se envuelven al principio: X se convierte en A, Y en B y Z en C. Los caracteres que no son letras no se modifican en el cifrado. Escribe un programa que implemente un cifrado César. Permite que el usuario proporcione el mensaje y la cantidad de desplazamiento, y luego muestra el mensaje cifrado. Asegúrate de que tu programa admita tanto letras mayúsculas como minúsculas y permita valores de desplazamiento negativos para que pueda ser utilizado tanto para cifrar como para descifrar mensajes."
   ]
  },
  {
   "cell_type": "markdown",
   "id": "6627c4b0",
   "metadata": {},
   "source": [
    "# Ejercicio 11\n",
    "\n",
    "Escribe un programa que implemente el método de Newton para calcular y mostrar la raíz cuadrada de un número ingresado por el usuario. El algoritmo para el método de Newton es el siguiente:\n",
    "\n",
    "1. Leer x del usuario.\n",
    "2. Inicializar guess en x/2.\n",
    "3. Mientras guess no sea lo suficientemente bueno:\n",
    "   a. Actualizar guess para que sea el promedio entre guess y x/guess.\n",
    "4. Cuando este algoritmo se complete, guess contendrá una aproximación de la raíz cuadrada. La calidad de la aproximación depende de cómo definas \"lo suficientemente bueno\". Puedes considerar que guess es lo suficientemente bueno cuando el valor absoluto de la diferencia entre guess * guess y x sea menor o igual a 10^-12.\n"
   ]
  },
  {
   "cell_type": "markdown",
   "id": "490c6654",
   "metadata": {},
   "source": [
    "# Ejercicio 12\n",
    "\n",
    "Una cadena es un palíndromo si es idéntica en sentido inverso y directo. Por ejemplo, \"anna\", \"civic\", \"level\" y \"hannah\" son ejemplos de palabras palindrómicas. Escribe un programa que lea una cadena del usuario y use un bucle para determinar si es un palíndromo. Muestra el resultado, incluyendo un mensaje de salida significativo.\n"
   ]
  },
  {
   "cell_type": "markdown",
   "id": "3304d31b",
   "metadata": {},
   "source": [
    "# Ejercicio 13\n",
    "\n",
    "Existen numerosas frases que son palíndromos cuando se ignora el espacio. Ejemplos incluyen \"go dog\", \"flee to me remote elf\" y \"some men interpret nine memos\", entre muchos otros. Extiende tu solución al Ejercicio 72 para que ignore el espacio al determinar si una cadena es un palíndromo. Como un desafío adicional, extiende tu solución para que también ignore signos de puntuación y trate las letras mayúsc\n",
    "\n",
    "ulas y minúsculas como equivalentes."
   ]
  },
  {
   "cell_type": "markdown",
   "id": "620766b6",
   "metadata": {},
   "source": [
    "# Ejercicio 14\n",
    "\n",
    "En este ejercicio, crearás un programa que muestra una tabla de multiplicación que muestra los productos de todas las combinaciones de enteros desde 1 por 1 hasta 10 por 10. Tu tabla de multiplicación debe incluir una fila de etiquetas en la parte superior que contenga los números del 1 al 10. También debe incluir etiquetas en el lado izquierdo con los números del 1 al 10. La salida esperada del programa se muestra a continuación:\n",
    "\n",
    "|      |  1   |  2   |  3   |  4   |  5   |  6   |  7   |  8   |  9   |  10  |\n",
    "|------|------|------|------|------|------|------|------|------|------|------|\n",
    "| 1    | 1    | 2    | 3    | 4    | 5    | 6    | 7    | 8    | 9    | 10   |\n",
    "| 2    | 2    | 4    | 6    | 8    | 10   | 12   | 14   | 16   | 18   | 20   |\n",
    "| 3    | 3    | 6    | 9    | 12   | 15   | 18   | 21   | 24   | 27   | 30   |\n",
    "| 4    | 4    | 8    | 12   | 16   | 20   | 24   | 28   | 32   | 36   | 40   |\n",
    "| 5    | 5    | 10   | 15   | 20   | 25   | 30   | 35   | 40   | 45   | 50   |\n",
    "| 6    | 6    | 12   | 18   | 24   | 30   | 36   | 42   | 48   | 54   | 60   |\n",
    "| 7    | 7    | 14   | 21   | 28   | 35   | 42   | 49   | 56   | 63   | 70   |\n",
    "| 8    | 8    | 16   | 24   | 32   | 40   | 48   | 56   | 64   | 72   | 80   |\n",
    "| 9    | 9    | 18   | 27   | 36   | 45   | 54   | 63   | 72   | 81   | 90   |\n",
    "| 10   | 10   | 20   | 30   | 40   | 50   | 60   | 70   | 80   | 90   | 100  |\n",
    "\n",
    "Cuando completes este ejercicio, es posible que encuentres útil la posibilidad de imprimir un valor sin pasar a la siguiente línea. Esto se puede lograr agregando `end=\"\"` como el último parámetro en tu declaración `print`. Por ejemplo, `print(\"A\")` mostrará la letra A y luego pasará a la siguiente línea. La declaración `print(\"A\", end=\"\")` mostrará la letra A sin pasar a la siguiente línea, lo que hará que la próxima declaración `print` muestre su resultado en la misma línea que la letra A."
   ]
  },
  {
   "cell_type": "markdown",
   "id": "cd5460e8",
   "metadata": {},
   "source": [
    "# Ejercicio 15\n",
    "\n",
    "El máximo común divisor de dos enteros positivos, n y m, es el número más grande, d, que divide exactamente tanto a n como a m. Hay varios algoritmos que se pueden usar para resolver este problema, incluido el siguiente:\n",
    "\n",
    "1. Inicializa d con el valor más pequeño de m y n.\n",
    "2. Mientras d no divida exactamente a m o d no divida exactamente a n:\n",
    "   a. Disminuye el valor de d en uno.\n",
    "3. Informa d como el máximo común divisor de n y m.\n",
    "\n",
    "Escribe un programa que lea dos enteros positivos del usuario y use este algoritmo para determinar y mostrar su máximo común divisor.\n"
   ]
  },
  {
   "cell_type": "markdown",
   "id": "6c0471ed",
   "metadata": {},
   "source": [
    "# Ejercicio 16\n",
    "\n",
    "La factorización en números primos de un número entero, n, se puede determinar mediante los siguientes pasos:\n",
    "\n",
    "1. Inicializa factor en dos.\n",
    "2. Mientras factor sea menor o igual a n:\n",
    "   a. Si n es exactamente divisible por factor, entonces:\n",
    "      i. Concluye que factor es un factor de n.\n",
    "      ii. Divide n por factor utilizando división entera.\n",
    "   b. En caso contrario, incrementa factor en uno.\n",
    "\n",
    "Escribe un programa que lea un entero del usuario. Si el valor ingresado por el usuario es menor que 2, el programa debe mostrar un mensaje de error apropiado. De lo contrario, el programa debe mostrar los números primos que se pueden multiplicar para calcular n, con un factor en cada línea."
   ]
  },
  {
   "cell_type": "markdown",
   "id": "e90f5cb7",
   "metadata": {},
   "source": [
    "# Ejercicio 17\n",
    "\n",
    "\n",
    "Escribe un programa que convierta un número binario (base 2) en decimal (base 10). El programa debe comenzar leyendo el número binario del usuario como una cadena. Luego debe calcular el número decimal equivalente procesando cada dígito en el número binario. Finalmente, el programa debe mostrar el número decimal equivalente con un mensaje apropiado."
   ]
  },
  {
   "cell_type": "markdown",
   "id": "a71cd30b",
   "metadata": {},
   "source": [
    "# Ejercicio 18\n",
    "\n",
    "Escribe un programa que convierta un número decimal (base 10) en binario (base 2). Lee el número decimal del usuario como un entero y luego usa el algoritmo de división para realizar la conversión. Cuando el algoritmo se complete, el resultado contendrá la representación binaria del número. Muestra el resultado, junto con un mensaje apropiado."
   ]
  },
  {
   "cell_type": "markdown",
   "id": "8e269a77",
   "metadata": {},
   "source": [
    "# Ejercicio 19\n",
    "\n",
    "Este ejercicio examina el proceso de identificar el valor máximo en una colección de enteros. Cada uno de los enteros se seleccionará al azar de los números entre 1 y 100. La colección de enteros puede contener valores duplicados, y algunos de los enteros entre 1 y 100 pueden no estar presentes.\n",
    "\n",
    "Crea un programa que comience seleccionando un entero aleatorio entre 1 y 100. Guarda este entero como el número máximo encontrado hasta el momento. Después de seleccionar el entero inicial, genera 99 enteros adicionales al azar entre 1 y 100. Comprueba cada entero a medida que se genera para ver si es mayor que el número máximo encontrado hasta el momento. Si lo es, tu programa debe actualizar el número máximo encontrado y contar que realizaste una actualización. Muestra cada entero después de generarlo. Incluye una notación con esos enteros que representen un nuevo\n",
    "\n",
    " máximo en el formato (nuevo) o (igual) si el entero es mayor o igual que el máximo encontrado hasta el momento. Si no es mayor que el máximo encontrado hasta el momento, muestra el entero utilizando el formato (igual). Después de mostrar todos los enteros, muestra el número máximo encontrado, junto con el número de veces que se actualizó el número máximo. La cantidad de veces que actualizas el número máximo indica cuán a menudo se modificó el número máximo mientras el programa se ejecutaba, lo que da una indicación de cuán efectivo fue el algoritmo para identificar el número máximo."
   ]
  },
  {
   "cell_type": "markdown",
   "id": "645a90f4",
   "metadata": {},
   "source": [
    "# Ejercicio 20\n",
    "\n",
    "\n",
    "Escribe un programa que determine si un número entero ingresado por el usuario es primo. Un número primo es un entero positivo mayor que 1 que es divisible solo por 1 y por sí mismo. Si el número es primo, tu programa debe indicarlo. Si el número no es primo, debe indicar que no es primo y mostrar los factores primos del número."
   ]
  }
 ],
 "metadata": {
  "kernelspec": {
   "display_name": "Python 3",
   "language": "python",
   "name": "python3"
  },
  "language_info": {
   "codemirror_mode": {
    "name": "ipython",
    "version": 3
   },
   "file_extension": ".py",
   "mimetype": "text/x-python",
   "name": "python",
   "nbconvert_exporter": "python",
   "pygments_lexer": "ipython3",
   "version": "3.8.8"
  }
 },
 "nbformat": 4,
 "nbformat_minor": 5
}
