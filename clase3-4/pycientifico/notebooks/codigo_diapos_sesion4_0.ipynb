{
  "cells": [
    {
      "cell_type": "markdown",
      "metadata": {
        "id": "db4vGAYelG66"
      },
      "source": [
        "# Numpy\n"
      ]
    },
    {
      "cell_type": "code",
      "execution_count": 245,
      "metadata": {
        "colab": {
          "base_uri": "https://localhost:8080/"
        },
        "id": "h2FyvnN6lEJS",
        "outputId": "1b5d86c8-c692-4172-9f66-52c5ad1a056f"
      },
      "outputs": [
        {
          "name": "stdout",
          "output_type": "stream",
          "text": [
            "Requirement already satisfied: numpy in /usr/local/lib/python3.10/dist-packages (1.23.5)\n"
          ]
        }
      ],
      "source": [
        "# instalando numpy\n",
        "# !pip install numpy\n",
        "# cuando se instala un modulo o biblioteca, solo se hace una vez"
      ]
    },
    {
      "cell_type": "code",
      "execution_count": 31,
      "metadata": {},
      "outputs": [
        {
          "name": "stdout",
          "output_type": "stream",
          "text": [
            "Requirement already satisfied: numpy in c:\\users\\nestor\\appdata\\local\\packages\\pythonsoftwarefoundation.python.3.11_qbz5n2kfra8p0\\localcache\\local-packages\\python311\\site-packages (1.24.3)\n"
          ]
        },
        {
          "name": "stderr",
          "output_type": "stream",
          "text": [
            "\n",
            "[notice] A new release of pip is available: 23.1.2 -> 24.0\n",
            "[notice] To update, run: C:\\Users\\NESTOR\\AppData\\Local\\Microsoft\\WindowsApps\\PythonSoftwareFoundation.Python.3.11_qbz5n2kfra8p0\\python.exe -m pip install --upgrade pip\n"
          ]
        }
      ],
      "source": [
        "!pip install numpy"
      ]
    },
    {
      "cell_type": "markdown",
      "metadata": {
        "id": "z5-czflaYIhN"
      },
      "source": [
        "## ejemplo básico"
      ]
    },
    {
      "cell_type": "code",
      "execution_count": 4,
      "metadata": {},
      "outputs": [],
      "source": [
        "import numpy as np"
      ]
    },
    {
      "cell_type": "code",
      "execution_count": 32,
      "metadata": {
        "colab": {
          "base_uri": "https://localhost:8080/"
        },
        "id": "Clk0v1xWCjo1",
        "outputId": "b97224d3-7adb-4a55-db47-aa701f2ed93a"
      },
      "outputs": [
        {
          "name": "stdout",
          "output_type": "stream",
          "text": [
            "[ 0  1  2  3  4  5  6  7  8  9 10 11 12 13 14]\n"
          ]
        },
        {
          "data": {
            "text/plain": [
              "array([ 2,  2,  2,  3,  4,  5,  6,  7,  8,  9, 10, 10, 10, 10, 10])"
            ]
          },
          "execution_count": 32,
          "metadata": {},
          "output_type": "execute_result"
        }
      ],
      "source": [
        "# ejemplo1\n",
        "arr = np.arange(15)\n",
        "print(arr)\n",
        "arr1 = np.clip(arr, 2, 10)\n",
        "arr1"
      ]
    },
    {
      "cell_type": "code",
      "execution_count": 33,
      "metadata": {
        "colab": {
          "base_uri": "https://localhost:8080/"
        },
        "id": "Sug1wiZICubH",
        "outputId": "6b8256ca-23c1-494f-b404-d2c523fb75ca"
      },
      "outputs": [
        {
          "data": {
            "text/plain": [
              "array([0, 0, 0, 0, 0, 0, 0, 0, 0, 0, 0, 0, 0, 0, 0])"
            ]
          },
          "execution_count": 33,
          "metadata": {},
          "output_type": "execute_result"
        }
      ],
      "source": [
        "# ejemplo2\n",
        "arr1 = np.zeros_like(arr)\n",
        "arr1"
      ]
    },
    {
      "cell_type": "code",
      "execution_count": 7,
      "metadata": {
        "colab": {
          "base_uri": "https://localhost:8080/"
        },
        "id": "Z2omfdf6CzfT",
        "outputId": "2413f2ed-e8fc-452a-cccf-a5a9f616b4ab"
      },
      "outputs": [
        {
          "data": {
            "text/plain": [
              "array([ 7,  7,  7,  7,  7,  7,  7,  7,  8,  9, 10, 11, 12, 13, 14])"
            ]
          },
          "execution_count": 7,
          "metadata": {},
          "output_type": "execute_result"
        }
      ],
      "source": [
        "# arr2 = np.clip(arr, 7, 37,out = arr1)\n",
        "# arr2\n",
        "np.clip(arr, 7, 37,out = arr1)"
      ]
    },
    {
      "cell_type": "code",
      "execution_count": 8,
      "metadata": {
        "colab": {
          "base_uri": "https://localhost:8080/"
        },
        "id": "_yynbcuNC0p6",
        "outputId": "70dcc14b-2370-40da-f3f7-2d606815654a"
      },
      "outputs": [
        {
          "data": {
            "text/plain": [
              "array([ 7,  7,  7,  7,  7,  7,  7,  7,  8,  9, 10, 11, 12, 13, 14])"
            ]
          },
          "execution_count": 8,
          "metadata": {},
          "output_type": "execute_result"
        }
      ],
      "source": [
        "arr1"
      ]
    },
    {
      "cell_type": "markdown",
      "metadata": {
        "id": "TpIfswoDR7-d"
      },
      "source": [
        "## Matrices multidimensionales"
      ]
    },
    {
      "cell_type": "code",
      "execution_count": 34,
      "metadata": {
        "colab": {
          "base_uri": "https://localhost:8080/"
        },
        "id": "73Kv6Ah4R8Hj",
        "outputId": "03e080c4-34b6-4a07-dcc0-24f1a89a52d5"
      },
      "outputs": [
        {
          "name": "stdout",
          "output_type": "stream",
          "text": [
            "(12,)\n"
          ]
        },
        {
          "data": {
            "text/plain": [
              "array([29.3, 42.1, 18.8, 16.1, 38. , 12.5, 12.6, 49.9, 38.6, 31.3,  9.2,\n",
              "       22.2])"
            ]
          },
          "execution_count": 34,
          "metadata": {},
          "output_type": "execute_result"
        }
      ],
      "source": [
        "import numpy as np\n",
        "\n",
        "gradosCelcius = np.array([\n",
        "   29.3, 42.1, 18.8, 16.1, 38.0, 12.5,\n",
        "   12.6, 49.9, 38.6, 31.3, 9.2, 22.2])\n",
        "print(gradosCelcius.shape)\n",
        "gradosCelcius"
      ]
    },
    {
      "cell_type": "code",
      "execution_count": 35,
      "metadata": {
        "colab": {
          "base_uri": "https://localhost:8080/"
        },
        "id": "R6urMLqXSYl-",
        "outputId": "5bf439b9-003d-4be2-a3a1-d4742f25bbbe"
      },
      "outputs": [
        {
          "data": {
            "text/plain": [
              "array([[[29.3, 42.1, 18.8],\n",
              "        [16.1, 38. , 12.5]],\n",
              "\n",
              "       [[12.6, 49.9, 38.6],\n",
              "        [31.3,  9.2, 22.2]]])"
            ]
          },
          "execution_count": 35,
          "metadata": {},
          "output_type": "execute_result"
        }
      ],
      "source": [
        "# reshape => redimensiona el array\n",
        "gradosCelcius = gradosCelcius.reshape(2, 2, 3)  # 2 capas, cada cada de 2 filas y 3 columnas\n",
        "# 2 x 2 x 3 = 12\n",
        "gradosCelcius"
      ]
    },
    {
      "cell_type": "code",
      "execution_count": 36,
      "metadata": {
        "colab": {
          "base_uri": "https://localhost:8080/"
        },
        "id": "8Sam2YiPSYov",
        "outputId": "cd1604f5-6be1-4adb-bb07-94668e159e45"
      },
      "outputs": [
        {
          "data": {
            "text/plain": [
              "array([[[29.3, 16.1],\n",
              "        [42.1, 38. ],\n",
              "        [18.8, 12.5]],\n",
              "\n",
              "       [[12.6, 31.3],\n",
              "        [49.9,  9.2],\n",
              "        [38.6, 22.2]]])"
            ]
          },
          "execution_count": 36,
          "metadata": {},
          "output_type": "execute_result"
        }
      ],
      "source": [
        "# voy a intercambiar ejes\n",
        "# shape = (2 , 2 , 3)\n",
        "# ejes  =  0   1   2\n",
        "np.swapaxes(gradosCelcius, 1, 2)"
      ]
    },
    {
      "cell_type": "code",
      "execution_count": 270,
      "metadata": {
        "colab": {
          "base_uri": "https://localhost:8080/"
        },
        "id": "aS0li8PhUog-",
        "outputId": "fe3edb75-c85b-4478-a06a-84845659835e"
      },
      "outputs": [
        {
          "data": {
            "text/plain": [
              "array([[5, 3, 7, 1],\n",
              "       [2, 6, 7, 9],\n",
              "       [1, 1, 1, 1],\n",
              "       [4, 3, 2, 0]])"
            ]
          },
          "execution_count": 270,
          "metadata": {},
          "output_type": "execute_result"
        }
      ],
      "source": [
        "# otro ejemplo\n",
        "tabla = np.array([\n",
        "        [5, 3, 7, 1],\n",
        "        [2, 6, 7 ,9],\n",
        "        [1, 1, 1, 1],\n",
        "        [4, 3, 2, 0],\n",
        "    ])\n",
        "\n",
        "tabla"
      ]
    },
    {
      "cell_type": "code",
      "execution_count": 271,
      "metadata": {
        "colab": {
          "base_uri": "https://localhost:8080/"
        },
        "id": "xcXSPubSVIHX",
        "outputId": "e1c563ef-a312-4939-fdcb-e6937df726eb"
      },
      "outputs": [
        {
          "data": {
            "text/plain": [
              "(4, 4)"
            ]
          },
          "execution_count": 271,
          "metadata": {},
          "output_type": "execute_result"
        }
      ],
      "source": [
        "tabla.shape"
      ]
    },
    {
      "cell_type": "code",
      "execution_count": 37,
      "metadata": {
        "colab": {
          "base_uri": "https://localhost:8080/"
        },
        "id": "F52Ubb2rUojf",
        "outputId": "e2a5fdea-df8a-4100-e41b-51e5c6fa364f"
      },
      "outputs": [
        {
          "data": {
            "text/plain": [
              "99999"
            ]
          },
          "execution_count": 37,
          "metadata": {},
          "output_type": "execute_result"
        }
      ],
      "source": [
        "tabla.max()"
      ]
    },
    {
      "cell_type": "code",
      "execution_count": 273,
      "metadata": {
        "colab": {
          "base_uri": "https://localhost:8080/"
        },
        "id": "mup4EPDhUol7",
        "outputId": "43d1329d-2991-4abd-b806-1e23da5f7b95"
      },
      "outputs": [
        {
          "data": {
            "text/plain": [
              "array([5, 6, 7, 9])"
            ]
          },
          "execution_count": 273,
          "metadata": {},
          "output_type": "execute_result"
        }
      ],
      "source": [
        "tabla.max(axis=0)  # eje = 0 hace referencia al eje vertical"
      ]
    },
    {
      "cell_type": "code",
      "execution_count": 274,
      "metadata": {
        "colab": {
          "base_uri": "https://localhost:8080/"
        },
        "id": "5kzSVHp_Uooi",
        "outputId": "a07297c1-f0d3-4ff2-f5a7-1b36f8f8c76d"
      },
      "outputs": [
        {
          "data": {
            "text/plain": [
              "array([7, 9, 1, 4])"
            ]
          },
          "execution_count": 274,
          "metadata": {},
          "output_type": "execute_result"
        }
      ],
      "source": [
        "tabla.max(axis=1) # eje = 0 hace referencia al eje horizontal"
      ]
    },
    {
      "cell_type": "code",
      "execution_count": 275,
      "metadata": {
        "colab": {
          "base_uri": "https://localhost:8080/"
        },
        "id": "vuomkoQHUoqn",
        "outputId": "81a948d4-2867-4c3d-8ab7-313ce4bb85f5"
      },
      "outputs": [
        {
          "data": {
            "text/plain": [
              "array([[[ 0,  1,  2,  3,  4,  5,  6,  7]],\n",
              "\n",
              "       [[ 8,  9, 10, 11, 12, 13, 14, 15]],\n",
              "\n",
              "       [[16, 17, 18, 19, 20, 21, 22, 23]],\n",
              "\n",
              "       [[24, 25, 26, 27, 28, 29, 30, 31]]])"
            ]
          },
          "execution_count": 275,
          "metadata": {},
          "output_type": "execute_result"
        }
      ],
      "source": [
        "# otro ejuemplo\n",
        "A = np.arange(32).reshape(4, 1, 8)  # 4x1x8 =32\n",
        "A"
      ]
    },
    {
      "cell_type": "code",
      "execution_count": 276,
      "metadata": {
        "colab": {
          "base_uri": "https://localhost:8080/"
        },
        "id": "IMwwmI-XVjn9",
        "outputId": "5174e76f-0998-4aa1-ac97-48dfc369e3e0"
      },
      "outputs": [
        {
          "data": {
            "text/plain": [
              "(4, 1, 8)"
            ]
          },
          "execution_count": 276,
          "metadata": {},
          "output_type": "execute_result"
        }
      ],
      "source": [
        "A.shape"
      ]
    },
    {
      "cell_type": "code",
      "execution_count": 277,
      "metadata": {
        "colab": {
          "base_uri": "https://localhost:8080/"
        },
        "id": "Fvyo8LinVgoh",
        "outputId": "3cde283d-2560-486f-a688-12731d333ac5"
      },
      "outputs": [
        {
          "data": {
            "text/plain": [
              "array([[[ 0,  1,  2,  3,  4,  5,  6,  7],\n",
              "        [ 8,  9, 10, 11, 12, 13, 14, 15],\n",
              "        [16, 17, 18, 19, 20, 21, 22, 23],\n",
              "        [24, 25, 26, 27, 28, 29, 30, 31],\n",
              "        [32, 33, 34, 35, 36, 37, 38, 39],\n",
              "        [40, 41, 42, 43, 44, 45, 46, 47]]])"
            ]
          },
          "execution_count": 277,
          "metadata": {},
          "output_type": "execute_result"
        }
      ],
      "source": [
        "B = np.arange(48).reshape(1, 6, 8)\n",
        "B"
      ]
    },
    {
      "cell_type": "code",
      "execution_count": 278,
      "metadata": {
        "colab": {
          "base_uri": "https://localhost:8080/"
        },
        "id": "J8SbyD-oVgq8",
        "outputId": "1f52708c-b4ba-4f6a-a84d-8caffeed018d"
      },
      "outputs": [
        {
          "data": {
            "text/plain": [
              "(1, 6, 8)"
            ]
          },
          "execution_count": 278,
          "metadata": {},
          "output_type": "execute_result"
        }
      ],
      "source": [
        "B.shape"
      ]
    },
    {
      "cell_type": "code",
      "execution_count": 280,
      "metadata": {
        "colab": {
          "base_uri": "https://localhost:8080/"
        },
        "id": "UdStPDiHVgtd",
        "outputId": "87b6c2fb-3830-4511-f42c-66ca2088dea1"
      },
      "outputs": [
        {
          "data": {
            "text/plain": [
              "array([[[ 0,  2,  4,  6,  8, 10, 12, 14],\n",
              "        [ 8, 10, 12, 14, 16, 18, 20, 22],\n",
              "        [16, 18, 20, 22, 24, 26, 28, 30],\n",
              "        [24, 26, 28, 30, 32, 34, 36, 38],\n",
              "        [32, 34, 36, 38, 40, 42, 44, 46],\n",
              "        [40, 42, 44, 46, 48, 50, 52, 54]],\n",
              "\n",
              "       [[ 8, 10, 12, 14, 16, 18, 20, 22],\n",
              "        [16, 18, 20, 22, 24, 26, 28, 30],\n",
              "        [24, 26, 28, 30, 32, 34, 36, 38],\n",
              "        [32, 34, 36, 38, 40, 42, 44, 46],\n",
              "        [40, 42, 44, 46, 48, 50, 52, 54],\n",
              "        [48, 50, 52, 54, 56, 58, 60, 62]],\n",
              "\n",
              "       [[16, 18, 20, 22, 24, 26, 28, 30],\n",
              "        [24, 26, 28, 30, 32, 34, 36, 38],\n",
              "        [32, 34, 36, 38, 40, 42, 44, 46],\n",
              "        [40, 42, 44, 46, 48, 50, 52, 54],\n",
              "        [48, 50, 52, 54, 56, 58, 60, 62],\n",
              "        [56, 58, 60, 62, 64, 66, 68, 70]],\n",
              "\n",
              "       [[24, 26, 28, 30, 32, 34, 36, 38],\n",
              "        [32, 34, 36, 38, 40, 42, 44, 46],\n",
              "        [40, 42, 44, 46, 48, 50, 52, 54],\n",
              "        [48, 50, 52, 54, 56, 58, 60, 62],\n",
              "        [56, 58, 60, 62, 64, 66, 68, 70],\n",
              "        [64, 66, 68, 70, 72, 74, 76, 78]]])"
            ]
          },
          "execution_count": 280,
          "metadata": {},
          "output_type": "execute_result"
        }
      ],
      "source": [
        "# bradcasting\n",
        "C = A + B\n",
        "C"
      ]
    },
    {
      "cell_type": "code",
      "execution_count": 281,
      "metadata": {
        "colab": {
          "base_uri": "https://localhost:8080/"
        },
        "id": "NGM4JRvTVvft",
        "outputId": "d8e207a9-0b16-4586-8f12-6d586c50ae4a"
      },
      "outputs": [
        {
          "name": "stdout",
          "output_type": "stream",
          "text": [
            "A= (4, 1, 8)\n",
            "B= (1, 6, 8)\n",
            "C= (4, 6, 8)\n"
          ]
        }
      ],
      "source": [
        "print(\"A=\",A.shape)\n",
        "print(\"B=\",B.shape)\n",
        "print(\"C=\",C.shape)"
      ]
    },
    {
      "cell_type": "markdown",
      "metadata": {
        "id": "sqNCbFHpV6xo"
      },
      "source": [
        "## Operaciones para ciencia de datos"
      ]
    },
    {
      "cell_type": "code",
      "execution_count": 38,
      "metadata": {
        "id": "Z0-kKFn5k7PR"
      },
      "outputs": [],
      "source": [
        "from math import e, factorial"
      ]
    },
    {
      "cell_type": "code",
      "execution_count": 39,
      "metadata": {
        "colab": {
          "base_uri": "https://localhost:8080/"
        },
        "id": "Ssr3lW4LmJex",
        "outputId": "4ff528ce-8dbd-40ac-a4fc-245454e5edc1"
      },
      "outputs": [
        {
          "data": {
            "text/plain": [
              "2.718281828459045"
            ]
          },
          "execution_count": 39,
          "metadata": {},
          "output_type": "execute_result"
        }
      ],
      "source": [
        "e"
      ]
    },
    {
      "cell_type": "code",
      "execution_count": 40,
      "metadata": {
        "colab": {
          "base_uri": "https://localhost:8080/"
        },
        "id": "4_Gi7AVLmKn2",
        "outputId": "f8e0a934-58a1-4097-f743-34352f8cc1e7"
      },
      "outputs": [
        {
          "data": {
            "text/plain": [
              "24"
            ]
          },
          "execution_count": 40,
          "metadata": {},
          "output_type": "execute_result"
        }
      ],
      "source": [
        "factorial(4)"
      ]
    },
    {
      "cell_type": "code",
      "execution_count": 44,
      "metadata": {
        "colab": {
          "base_uri": "https://localhost:8080/"
        },
        "id": "kYN-n2_TmNv0",
        "outputId": "4144fb5d-67dc-44c6-b297-a39b6af474e4"
      },
      "outputs": [
        {
          "data": {
            "text/plain": [
              "array(120)"
            ]
          },
          "execution_count": 44,
          "metadata": {},
          "output_type": "execute_result"
        }
      ],
      "source": [
        "import numpy as np\n",
        "\n",
        "fac = np.vectorize(factorial)\n",
        "# factorial es una funcion con un solo argumento\n",
        "# fac se convierta en una funcion que reciba un vector y calcula el factorial\n",
        "# de cada componente del vector\n",
        "fac(5)"
      ]
    },
    {
      "cell_type": "code",
      "execution_count": 46,
      "metadata": {
        "colab": {
          "base_uri": "https://localhost:8080/"
        },
        "id": "fpBgc1Y5msmw",
        "outputId": "b3c2e95c-c0ce-4118-f8c3-cdf085d67b6b"
      },
      "outputs": [
        {
          "data": {
            "text/plain": [
              "array([1, 2])"
            ]
          },
          "execution_count": 46,
          "metadata": {},
          "output_type": "execute_result"
        }
      ],
      "source": [
        "fac([1,2])"
      ]
    },
    {
      "cell_type": "code",
      "execution_count": 48,
      "metadata": {
        "colab": {
          "base_uri": "https://localhost:8080/"
        },
        "id": "C22y5qQ8mst6",
        "outputId": "ed3d0b2a-7970-4920-e433-6f51f3787fb8"
      },
      "outputs": [
        {
          "data": {
            "text/plain": [
              "array([   6,  120, 5040])"
            ]
          },
          "execution_count": 48,
          "metadata": {},
          "output_type": "execute_result"
        }
      ],
      "source": [
        "fac([3,5,7])"
      ]
    },
    {
      "cell_type": "markdown",
      "metadata": {
        "id": "PB81uhjDtaCK"
      },
      "source": [
        "## Detalles finales\n",
        "\n",
        "* En general, las matrices de NumPy son más rápidas que las listas de Python.\n",
        "* Sin embargo, dado que sólo es posible almacenar datos del mismo tipo en cada columna, las listas de Python son más flexibles."
      ]
    },
    {
      "cell_type": "code",
      "execution_count": 24,
      "metadata": {
        "id": "b9Bc-1tcs92f"
      },
      "outputs": [],
      "source": [
        "from numpy import arange\n",
        "from timeit import Timer\n",
        "\n",
        "Nombre_elementos = 100000\n",
        "Nombre_iteracion = 1000\n",
        "\n",
        "tabla = arange(Nombre_elementos)\n",
        "lista = range(Nombre_elementos)"
      ]
    },
    {
      "cell_type": "code",
      "execution_count": 25,
      "metadata": {
        "colab": {
          "base_uri": "https://localhost:8080/"
        },
        "id": "E-4VIEOEtySc",
        "outputId": "27539c4b-d21e-40f2-af0e-bd05b3eb9fad"
      },
      "outputs": [
        {
          "data": {
            "text/plain": [
              "array([    0,     1,     2, ..., 99997, 99998, 99999])"
            ]
          },
          "execution_count": 25,
          "metadata": {},
          "output_type": "execute_result"
        }
      ],
      "source": [
        "tabla"
      ]
    },
    {
      "cell_type": "code",
      "execution_count": 26,
      "metadata": {
        "colab": {
          "base_uri": "https://localhost:8080/"
        },
        "id": "kU_40S_EtyXP",
        "outputId": "ceec8174-e112-48a0-d4c5-71f2eb5e1e69"
      },
      "outputs": [
        {
          "data": {
            "text/plain": [
              "range(0, 100000)"
            ]
          },
          "execution_count": 26,
          "metadata": {},
          "output_type": "execute_result"
        }
      ],
      "source": [
        "lista"
      ]
    },
    {
      "cell_type": "code",
      "execution_count": 27,
      "metadata": {
        "colab": {
          "base_uri": "https://localhost:8080/"
        },
        "id": "BuU9WQo8t28R",
        "outputId": "1295761c-c4a7-49e6-aa31-858e1202e965"
      },
      "outputs": [
        {
          "name": "stdout",
          "output_type": "stream",
          "text": [
            "tiempo medio en numpy en segundos: 1.463e-05\n",
            "tiempo medio en listas en segundos:  9.412e-04\n"
          ]
        }
      ],
      "source": [
        "time_numpy = Timer(\"tabla.sum()\", \"from __main__ import tabla\")\n",
        "time_list = Timer(\"sum(lista)\", \"from __main__ import lista\")\n",
        "print(\"tiempo medio en numpy en segundos: %.3e\" % (time_numpy.timeit(Nombre_iteracion)/Nombre_iteracion,))\n",
        "print(\"tiempo medio en listas en segundos:  %.3e\" % (time_list.timeit(Nombre_iteracion)/Nombre_iteracion,))"
      ]
    },
    {
      "cell_type": "code",
      "execution_count": 28,
      "metadata": {
        "colab": {
          "base_uri": "https://localhost:8080/"
        },
        "id": "1ILqcaWpv_bl",
        "outputId": "aae9c515-333a-4c77-c7aa-423bdff1e85b"
      },
      "outputs": [
        {
          "data": {
            "text/plain": [
              "False"
            ]
          },
          "execution_count": 28,
          "metadata": {},
          "output_type": "execute_result"
        }
      ],
      "source": [
        "1.463e-05 > 9.412e-04"
      ]
    },
    {
      "cell_type": "code",
      "execution_count": 29,
      "metadata": {
        "colab": {
          "base_uri": "https://localhost:8080/"
        },
        "id": "hKqv3VWQvlCt",
        "outputId": "79f65447-e610-419e-8deb-2eb01ee20f4b"
      },
      "outputs": [
        {
          "name": "stdout",
          "output_type": "stream",
          "text": [
            "CPU times: total: 0 ns\n",
            "Wall time: 0 ns\n"
          ]
        },
        {
          "data": {
            "text/plain": [
              "704982704"
            ]
          },
          "execution_count": 29,
          "metadata": {},
          "output_type": "execute_result"
        }
      ],
      "source": [
        "%%time\n",
        "tabla.sum()"
      ]
    },
    {
      "cell_type": "code",
      "execution_count": 30,
      "metadata": {
        "colab": {
          "base_uri": "https://localhost:8080/"
        },
        "id": "HH6xq6LTv6PZ",
        "outputId": "a9b10466-6167-4c55-ef38-4f77374de255"
      },
      "outputs": [
        {
          "name": "stdout",
          "output_type": "stream",
          "text": [
            "CPU times: total: 0 ns\n",
            "Wall time: 1 ms\n"
          ]
        },
        {
          "data": {
            "text/plain": [
              "4999950000"
            ]
          },
          "execution_count": 30,
          "metadata": {},
          "output_type": "execute_result"
        }
      ],
      "source": [
        "%%time\n",
        "sum(lista)"
      ]
    }
  ],
  "metadata": {
    "colab": {
      "provenance": []
    },
    "kernelspec": {
      "display_name": "Python 3",
      "name": "python3"
    },
    "language_info": {
      "codemirror_mode": {
        "name": "ipython",
        "version": 3
      },
      "file_extension": ".py",
      "mimetype": "text/x-python",
      "name": "python",
      "nbconvert_exporter": "python",
      "pygments_lexer": "ipython3",
      "version": "3.11.9"
    }
  },
  "nbformat": 4,
  "nbformat_minor": 0
}
