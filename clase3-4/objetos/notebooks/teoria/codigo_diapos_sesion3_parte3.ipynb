{
  "cells": [
    {
      "cell_type": "markdown",
      "source": [
        "## **POO en Machine Learning**"
      ],
      "metadata": {
        "id": "Dlbl5lZkRm_2"
      }
    },
    {
      "cell_type": "markdown",
      "source": [
        "La programación orientada a objetos (POO) en Python es una de las características clave que permite estructurar el código de manera modular y reutilizable, lo cual es especialmente útil en machine learning (ML). La POO ayuda a organizar el código en clases y objetos, lo que facilita la construcción de modelos complejos y el manejo de datos en ML."
      ],
      "metadata": {
        "id": "kQn4AUxnVqLC"
      }
    },
    {
      "cell_type": "markdown",
      "source": [
        "La POO es fundamental en bibliotecas de ML como scikit-learn, TensorFlow y PyTorch, ya que facilita la creación de clases de modelos y clases para gestionar datos, preprocesamiento y evaluación. Aquí algunos ejemplos clave de cómo se usa:"
      ],
      "metadata": {
        "id": "i-o_SIvPVucK"
      }
    },
    {
      "cell_type": "markdown",
      "source": [
        "1. Definición de Modelos como Clases:\n",
        "\n",
        "- Los modelos de ML suelen definirse como clases, cada una con métodos como fit, predict, y evaluate. Por ejemplo, en scikit-learn, cada modelo (como LinearRegression, KNeighborsClassifier) es una clase que sigue esta estructura, lo que permite un flujo de trabajo consistente entre diferentes modelos.\n",
        "\n",
        "2. Herencia para Extender Funcionalidades:\n",
        "\n",
        "- Puedes crear una clase base para un modelo, y luego construir modelos personalizados que hereden esta clase, implementando métodos específicos. Esto es común en TensorFlow y PyTorch, donde puedes definir redes neuronales personalizadas derivadas de una clase básica de red.\n",
        "3. Encapsulamiento en Preprocesamiento y Evaluación:\n",
        "\n",
        "- Al usar clases para manejar el preprocesamiento (por ejemplo, StandardScaler de scikit-learn), encapsulamos la lógica de transformación de datos dentro de la clase, asegurando que la transformación y su inversa se apliquen consistentemente.\n",
        "4. Pipelines para Modularidad:\n",
        "\n",
        "- scikit-learn permite construir Pipelines, que encapsulan una serie de transformaciones y un modelo en una sola estructura. Cada paso del pipeline es un objeto de una clase, permitiendo un flujo modular y organizado."
      ],
      "metadata": {
        "id": "8iOUNGnPVxnD"
      }
    },
    {
      "cell_type": "markdown",
      "source": [
        "Ejemplo Simple: Modelo con POO"
      ],
      "metadata": {
        "id": "X9DZinkfXC2q"
      }
    },
    {
      "cell_type": "code",
      "source": [
        "import numpy as np\n",
        "\n",
        "class SimpleLinearModel:\n",
        "    def __init__(self):\n",
        "        self.coefficient = None\n",
        "        self.intercept = None\n",
        "\n",
        "    def fit(self, X, y):\n",
        "        # Método para ajustar el modelo\n",
        "        X_mean = np.mean(X)\n",
        "        y_mean = np.mean(y)\n",
        "        self.coefficient = np.sum((X - X_mean) * (y - y_mean)) / np.sum((X - X_mean) ** 2)\n",
        "        self.intercept = y_mean - self.coefficient * X_mean\n",
        "\n",
        "    def predict(self, X):\n",
        "        # Método para hacer predicciones\n",
        "        return self.coefficient * X + self.intercept\n",
        "\n",
        "# Uso del modelo\n",
        "X = np.array([1, 2, 3, 4, 5])\n",
        "y = np.array([2, 4, 5, 4, 5])\n",
        "model = SimpleLinearModel()\n",
        "model.fit(X, y)\n",
        "predictions = model.predict(X)\n",
        "print(predictions)\n"
      ],
      "metadata": {
        "colab": {
          "base_uri": "https://localhost:8080/"
        },
        "id": "TgBzDYE0XEKz",
        "outputId": "54490448-b597-4ddd-cf62-91e4cbb022e3"
      },
      "execution_count": 2,
      "outputs": [
        {
          "output_type": "stream",
          "name": "stdout",
          "text": [
            "[2.8 3.4 4.  4.6 5.2]\n"
          ]
        }
      ]
    },
    {
      "cell_type": "markdown",
      "source": [
        "1. Creación de Modelos como Objetos"
      ],
      "metadata": {
        "id": "7FdsuplFXR67"
      }
    },
    {
      "cell_type": "code",
      "source": [
        "from sklearn.linear_model import LinearRegression\n",
        "\n",
        "# Creamos un objeto del modelo\n",
        "model = LinearRegression()\n",
        "\n",
        "# Datos de ejemplo\n",
        "X = [[1], [2], [3], [4]]\n",
        "y = [2, 3, 3.5, 5]\n",
        "\n",
        "# Entrenamiento del modelo\n",
        "model.fit(X, y)\n",
        "\n",
        "# Haciendo predicciones\n",
        "predictions = model.predict([[5], [6]])\n",
        "print(\"Predicciones:\", predictions)\n"
      ],
      "metadata": {
        "colab": {
          "base_uri": "https://localhost:8080/"
        },
        "id": "I4mFySQfXRSK",
        "outputId": "bf8267cc-2179-4db9-9843-636d2c253149"
      },
      "execution_count": 3,
      "outputs": [
        {
          "output_type": "stream",
          "name": "stdout",
          "text": [
            "Predicciones: [5.75 6.7 ]\n"
          ]
        }
      ]
    },
    {
      "cell_type": "markdown",
      "source": [
        "2. Uso de Transformadores para Preprocesamiento"
      ],
      "metadata": {
        "id": "8IlW8sRiXoHX"
      }
    },
    {
      "cell_type": "code",
      "source": [
        "from sklearn.preprocessing import StandardScaler\n",
        "\n",
        "# Creamos un objeto del transformador\n",
        "scaler = StandardScaler()\n",
        "\n",
        "# Ajustamos el scaler y transformamos los datos\n",
        "X_train = [[1, 2], [2, 3], [3, 4], [4, 5]]\n",
        "scaler.fit(X_train)\n",
        "X_train_scaled = scaler.transform(X_train)\n",
        "\n",
        "# Transformamos nuevos datos (usando los mismos parámetros de ajuste)\n",
        "X_test = [[6, 7]]\n",
        "X_test_scaled = scaler.transform(X_test)\n",
        "\n",
        "print(\"Datos escalados:\", X_train_scaled)\n",
        "print(\"Datos de prueba escalados:\", X_test_scaled)\n"
      ],
      "metadata": {
        "colab": {
          "base_uri": "https://localhost:8080/"
        },
        "id": "JLs9tDfKXo6f",
        "outputId": "9f7355b8-4fb5-404d-c587-d59da82ee7c6"
      },
      "execution_count": 4,
      "outputs": [
        {
          "output_type": "stream",
          "name": "stdout",
          "text": [
            "Datos escalados: [[-1.34164079 -1.34164079]\n",
            " [-0.4472136  -0.4472136 ]\n",
            " [ 0.4472136   0.4472136 ]\n",
            " [ 1.34164079  1.34164079]]\n",
            "Datos de prueba escalados: [[3.13049517 3.13049517]]\n"
          ]
        }
      ]
    },
    {
      "cell_type": "markdown",
      "source": [
        "3. Pipelines para Encapsular Flujos de Trabajo"
      ],
      "metadata": {
        "id": "W9wakw8GXsaq"
      }
    },
    {
      "cell_type": "code",
      "source": [
        "from sklearn.pipeline import Pipeline\n",
        "from sklearn.linear_model import LinearRegression\n",
        "from sklearn.preprocessing import StandardScaler\n",
        "\n",
        "# Creamos un pipeline con escalado y un modelo de regresión\n",
        "pipeline = Pipeline([\n",
        "    ('scaler', StandardScaler()),\n",
        "    ('regression', LinearRegression())\n",
        "])\n",
        "\n",
        "# Entrenamos el pipeline como un todo\n",
        "pipeline.fit(X_train, y)\n",
        "\n",
        "# Hacemos predicciones usando el pipeline completo\n",
        "predictions = pipeline.predict(X_test)\n",
        "\n",
        "print(\"Predicciones usando Pipeline:\", predictions)\n"
      ],
      "metadata": {
        "colab": {
          "base_uri": "https://localhost:8080/"
        },
        "id": "diJAxnZ5XuID",
        "outputId": "0fff69bc-8345-46c4-cf1e-d661d440364b"
      },
      "execution_count": 6,
      "outputs": [
        {
          "output_type": "stream",
          "name": "stdout",
          "text": [
            "Predicciones usando Pipeline: [6.7]\n"
          ]
        }
      ]
    },
    {
      "cell_type": "markdown",
      "source": [
        "4. Herencia para Crear Modelos Personalizados"
      ],
      "metadata": {
        "id": "Qca9QjNfX2rB"
      }
    },
    {
      "cell_type": "code",
      "source": [
        "from sklearn.base import BaseEstimator, ClassifierMixin\n",
        "import numpy as np\n",
        "\n",
        "class CustomClassifier(BaseEstimator, ClassifierMixin):\n",
        "    def __init__(self, threshold=0.5):\n",
        "        self.threshold = threshold\n",
        "\n",
        "    def fit(self, X, y):\n",
        "        # Entrena el modelo con los datos (aquí solo guardamos la media)\n",
        "        self.mean = np.mean(X, axis=0)\n",
        "        return self\n",
        "\n",
        "    def predict(self, X):\n",
        "        # Clasifica según la distancia a la media\n",
        "        return (np.linalg.norm(X - self.mean, axis=1) < self.threshold).astype(int)\n",
        "\n",
        "# Datos de ejemplo\n",
        "X = np.array([[0, 0], [1, 1], [2, 2], [3, 3]])\n",
        "y = np.array([0, 0, 1, 1])\n",
        "\n",
        "# Creamos y entrenamos el clasificador personalizado\n",
        "custom_clf = CustomClassifier(threshold=2.5)\n",
        "custom_clf.fit(X, y)\n",
        "\n",
        "# Hacemos predicciones\n",
        "predictions = custom_clf.predict(X)\n",
        "print(\"Predicciones del clasificador personalizado:\", predictions)\n"
      ],
      "metadata": {
        "colab": {
          "base_uri": "https://localhost:8080/"
        },
        "id": "AKlpWovWX3jo",
        "outputId": "caa50800-3fdc-4955-f2fd-712755042e14"
      },
      "execution_count": 7,
      "outputs": [
        {
          "output_type": "stream",
          "name": "stdout",
          "text": [
            "Predicciones del clasificador personalizado: [1 1 1 1]\n"
          ]
        }
      ]
    },
    {
      "cell_type": "markdown",
      "source": [
        "5. Cross-Validation y Grid Search usando Objetos"
      ],
      "metadata": {
        "id": "-oaWPgtvX7Wa"
      }
    },
    {
      "cell_type": "code",
      "source": [
        "from sklearn.model_selection import GridSearchCV\n",
        "from sklearn.svm import SVC\n",
        "\n",
        "# Creamos un clasificador SVM\n",
        "svm = SVC()\n",
        "\n",
        "# Definimos una cuadrícula de parámetros para buscar\n",
        "param_grid = {'C': [0.1, 1, 10], 'kernel': ['linear', 'rbf']}\n",
        "\n",
        "# Configuramos la búsqueda en cuadrícula\n",
        "grid_search = GridSearchCV(svm, param_grid, cv=2)\n",
        "grid_search.fit(X, y)\n",
        "\n",
        "# Mejor conjunto de parámetros encontrados\n",
        "print(\"Mejores parámetros:\", grid_search.best_params_)\n",
        "print(\"Mejor puntuación:\", grid_search.best_score_)\n"
      ],
      "metadata": {
        "colab": {
          "base_uri": "https://localhost:8080/"
        },
        "id": "iYu-4pV3X6yC",
        "outputId": "51a57762-335c-4507-de0b-1e0ac327acae"
      },
      "execution_count": 9,
      "outputs": [
        {
          "output_type": "stream",
          "name": "stdout",
          "text": [
            "Mejores parámetros: {'C': 0.1, 'kernel': 'linear'}\n",
            "Mejor puntuación: 0.75\n"
          ]
        }
      ]
    }
  ],
  "metadata": {
    "anaconda-cloud": {},
    "celltoolbar": "Slideshow",
    "colab": {
      "provenance": []
    },
    "kernelspec": {
      "display_name": "Python 3 (ipykernel)",
      "language": "python",
      "name": "python3"
    },
    "language_info": {
      "codemirror_mode": {
        "name": "ipython",
        "version": 3
      },
      "file_extension": ".py",
      "mimetype": "text/x-python",
      "name": "python",
      "nbconvert_exporter": "python",
      "pygments_lexer": "ipython3",
      "version": "3.12.4"
    }
  },
  "nbformat": 4,
  "nbformat_minor": 0
}