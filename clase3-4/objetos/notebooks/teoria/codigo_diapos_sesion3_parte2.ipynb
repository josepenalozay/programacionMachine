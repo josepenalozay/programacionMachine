{
 "cells": [
  {
   "cell_type": "markdown",
   "metadata": {
    "id": "pu-_-DoxP6I9"
   },
   "source": [
    "### Módulos\n",
    "\n",
    "* ¿Cómo llevar mis clases a muchos muchos programas? Ponlas en un módulo en otro archivo.\n",
    "* Un módulo Python es un archivo con el mismo nombre (más la extensión .py).\n",
    "* Las bibliotecas externas se usan con la palabra clave *import*.\n",
    "```\n",
    "import [libname] ( as <str> )\n",
    "from [libname] import *\n",
    "from [libname] import [function]\n",
    "```"
   ]
  },
  {
   "cell_type": "markdown",
   "metadata": {
    "id": "Dlbl5lZkRm_2"
   },
   "source": [
    "## **Pythonic Way**"
   ]
  },
  {
   "cell_type": "markdown",
   "metadata": {
    "id": "lvA3UG_oRm_2"
   },
   "source": [
    "La \"Pythonic way\" (o \"manera pitónica\") se refiere a escribir código que sigue las convenciones, el estilo y las filosofías de Python, aprovechando al máximo sus características y sintaxis. El código Pythonic es simple, claro y directo, y suele parecerse al lenguaje natural en su legibilidad.\n",
    "\n",
    "**Principios de la Pythonic Way**\n",
    "\n",
    "La idea general es escribir código que sea:\n",
    "\n",
    "- **Explícito y claro:** Lo que hace el código debe ser claro sin necesidad de comentarios extensos.\n",
    "- **Conciso, pero no demasiado compacto:** Utiliza características y funciones propias de Python que simplifican el código sin comprometer la legibilidad.\n",
    "-**Aprovechar las herramientas propias del lenguaje:** Python ofrece muchas herramientas y funciones integradas, como comprensión de listas y funciones lambda, para hacer el código más simple y directo.\n",
    "La filosofía Pythonic está resumida en el Zen of Python, que puedes ver ejecutando import this en el intérprete de Python. Aquí van algunas de las frases clave:\n",
    "\n",
    "\"Explícito es mejor que implícito.\"\n",
    "\n",
    "\"Sencillo es mejor que complejo.\"\n",
    "\n",
    "\"La legibilidad es importante.\"\n"
   ]
  },
  {
   "cell_type": "code",
   "execution_count": null,
   "metadata": {
    "colab": {
     "base_uri": "https://localhost:8080/"
    },
    "id": "UsoUX0gJRm_3",
    "outputId": "7d7e7887-e0d0-4283-ed39-5298fe611c6e"
   },
   "outputs": [
    {
     "name": "stdout",
     "output_type": "stream",
     "text": [
      "The Zen of Python, by Tim Peters\n",
      "\n",
      "Beautiful is better than ugly.\n",
      "Explicit is better than implicit.\n",
      "Simple is better than complex.\n",
      "Complex is better than complicated.\n",
      "Flat is better than nested.\n",
      "Sparse is better than dense.\n",
      "Readability counts.\n",
      "Special cases aren't special enough to break the rules.\n",
      "Although practicality beats purity.\n",
      "Errors should never pass silently.\n",
      "Unless explicitly silenced.\n",
      "In the face of ambiguity, refuse the temptation to guess.\n",
      "There should be one-- and preferably only one --obvious way to do it.\n",
      "Although that way may not be obvious at first unless you're Dutch.\n",
      "Now is better than never.\n",
      "Although never is often better than *right* now.\n",
      "If the implementation is hard to explain, it's a bad idea.\n",
      "If the implementation is easy to explain, it may be a good idea.\n",
      "Namespaces are one honking great idea -- let's do more of those!\n"
     ]
    }
   ],
   "source": [
    "import this"
   ]
  },
  {
   "cell_type": "markdown",
   "metadata": {
    "id": "I1Q284kQR3K8"
   },
   "source": [
    "**Ejemplos de la Pythonic Way**"
   ]
  },
  {
   "cell_type": "markdown",
   "metadata": {
    "id": "YZ3EBMv0R6u2"
   },
   "source": [
    "**1. Uso de Comprensiones de Lista**\n",
    "\n",
    "Las comprensiones de lista son Pythonic porque simplifican la creación y manipulación de listas en una sola línea, de forma clara."
   ]
  },
  {
   "cell_type": "markdown",
   "metadata": {
    "id": "4IIdn295R_ph"
   },
   "source": [
    "No Pythonic:"
   ]
  },
  {
   "cell_type": "code",
   "execution_count": null,
   "metadata": {
    "id": "CZ3U-z9AR1Ez"
   },
   "outputs": [],
   "source": [
    "numeros = [1, 2, 3, 4, 5]\n",
    "cuadrados = []\n",
    "for numero in numeros:\n",
    "    cuadrados.append(numero ** 2)\n",
    "print(cuadrados)  # [1, 4, 9, 16, 25]\n"
   ]
  },
  {
   "cell_type": "markdown",
   "metadata": {
    "id": "fe2_AivdSAaZ"
   },
   "source": [
    "Pythonic:"
   ]
  },
  {
   "cell_type": "code",
   "execution_count": null,
   "metadata": {
    "id": "FMZnQMNgR9_o"
   },
   "outputs": [],
   "source": [
    "numeros = [1, 2, 3, 4, 5]\n",
    "cuadrados = [numero ** 2 for numero in numeros]\n",
    "print(cuadrados)  # [1, 4, 9, 16, 25]\n"
   ]
  },
  {
   "cell_type": "markdown",
   "metadata": {
    "id": "-Mb1nf3WSHg-"
   },
   "source": [
    "**2. Uso de Enumerate en Lugar de Crear Contadores Manuales**\n",
    "\n",
    "Cuando se necesita un índice junto a los elementos de una lista, enumerate es una forma Pythonic de obtenerlos."
   ]
  },
  {
   "cell_type": "markdown",
   "metadata": {
    "id": "yT-EQkDJSMjh"
   },
   "source": [
    "No Pythonic:"
   ]
  },
  {
   "cell_type": "code",
   "execution_count": null,
   "metadata": {
    "id": "TwLS7idvSMEw"
   },
   "outputs": [],
   "source": [
    "numeros = [10, 20, 30, 40]\n",
    "index = 0\n",
    "for numero in numeros:\n",
    "    print(index, numero)\n",
    "    index += 1\n"
   ]
  },
  {
   "cell_type": "markdown",
   "metadata": {
    "id": "AKInBOBGSLuo"
   },
   "source": [
    "Pythonic:"
   ]
  },
  {
   "cell_type": "code",
   "execution_count": null,
   "metadata": {
    "id": "uVsto7RcSSuc"
   },
   "outputs": [],
   "source": [
    "numeros = [10, 20, 30, 40]\n",
    "for index, numero in enumerate(numeros):\n",
    "    print(index, numero)\n"
   ]
  },
  {
   "cell_type": "markdown",
   "metadata": {
    "id": "xjnBwpTVP6I_"
   },
   "source": [
    "### Python Funcional\n",
    "Puedes escribir procedimientos complejos en unas pocas y elegantes líneas de código usando [built-in functions](https://docs.python.org/2/library/functions.html#map) y librerías como functools, itertools, operator."
   ]
  },
  {
   "cell_type": "markdown",
   "metadata": {
    "id": "ezZbeCHZP6I_"
   },
   "source": [
    "**Programación Funcional**\n",
    "\n",
    "  En la programación funcional, el enfoque está en el uso de funciones puras y en evitar el estado mutable. Las funciones son tratadas como \"ciudadanos de primera clase\", es decir, pueden ser asignadas a variables, pasadas como argumentos y devueltas como resultados de otras funciones. Algunas de las características clave son:\n",
    "\n",
    "- **Funciones puras:** una función pura siempre da el mismo resultado para los mismos argumentos y no tiene efectos secundarios (es decir, no modifica variables externas).\n",
    "- **Inmutabilidad:** las estructuras de datos son, idealmente, inmutables, lo que significa que una vez creadas, no cambian.\n",
    "- **Funciones de orden superior:** funciones que toman otras funciones como parámetros o devuelven funciones."
   ]
  },
  {
   "cell_type": "markdown",
   "metadata": {
    "id": "EZEdl2l8QQnD"
   },
   "source": [
    "**Ejemplo de Programación Funcional**\n",
    "\n",
    "Supongamos que queremos calcular los cuadrados de una lista de números y luego filtrar los que son mayores a 10."
   ]
  },
  {
   "cell_type": "code",
   "execution_count": 1,
   "metadata": {
    "colab": {
     "base_uri": "https://localhost:8080/"
    },
    "id": "QMnape2AP6JA",
    "outputId": "e37c5d92-79d5-42ad-817f-5c07e8d70f08"
   },
   "outputs": [
    {
     "name": "stdout",
     "output_type": "stream",
     "text": [
      "Cuadrados: [1, 4, 9, 16, 25]\n",
      "Mayores a diez: [16, 25]\n"
     ]
    }
   ],
   "source": [
    "# Ejemplo de programación funcional\n",
    "numeros = [1, 2, 3, 4, 5]\n",
    "\n",
    "# Uso de map para aplicar una función a cada elemento\n",
    "cuadrados = list(map(lambda x: x ** 2, numeros))\n",
    "\n",
    "# Uso de filter para filtrar elementos\n",
    "mayores_a_diez = list(filter(lambda x: x > 10, cuadrados))\n",
    "\n",
    "print(\"Cuadrados:\", cuadrados)           # [1, 4, 9, 16, 25]\n",
    "print(\"Mayores a diez:\", mayores_a_diez)  # [16, 25]\n"
   ]
  },
  {
   "cell_type": "code",
   "execution_count": 2,
   "metadata": {
    "colab": {
     "base_uri": "https://localhost:8080/"
    },
    "id": "RrOB6hfiHqrO",
    "outputId": "c216e2f8-71d4-4068-aa62-acd0fab91616"
   },
   "outputs": [
    {
     "data": {
      "text/plain": [
       "[1, 4, 9, 16]"
      ]
     },
     "execution_count": 2,
     "metadata": {},
     "output_type": "execute_result"
    }
   ],
   "source": [
    "def square(num):\n",
    "    return num ** 2\n",
    "\n",
    "# map(function, iterable) applies a given function to every element of a list\n",
    "list(map(square, [1,2,3,4]))"
   ]
  },
  {
   "cell_type": "code",
   "execution_count": null,
   "metadata": {
    "id": "_zrtofQLP6JB",
    "outputId": "cbec7ba0-3e07-4ac3-ba03-7970dce67c6e"
   },
   "outputs": [
    {
     "name": "stdout",
     "output_type": "stream",
     "text": [
      "[1, 4, 9, 16]\n"
     ]
    },
    {
     "data": {
      "text/plain": [
       "[0, 0, 3, 4]"
      ]
     },
     "execution_count": 17,
     "metadata": {},
     "output_type": "execute_result"
    }
   ],
   "source": [
    "# a lambda function is an anonymous function created on the fly\n",
    "mydata1 = list(map(lambda x: x**2, [1,2,3,4]))\n",
    "print(mydata1)\n",
    "mydata = list(map(lambda x: x if x>2 else 0, [1,2,3,4]))\n",
    "mydata"
   ]
  },
  {
   "cell_type": "code",
   "execution_count": null,
   "metadata": {
    "id": "kX0A2bp2P6JB",
    "outputId": "31502d4a-a633-407b-93e3-6b44224a12fe"
   },
   "outputs": [
    {
     "data": {
      "text/plain": [
       "[0, 0, 3, 4]"
      ]
     },
     "execution_count": 15,
     "metadata": {},
     "output_type": "execute_result"
    }
   ],
   "source": [
    "# reduce(function, iterable ) applies a function with two arguments cumulatively to every element of a list\n",
    "from functools import reduce\n",
    "reduce(lambda x,y: x+y, [1,2,3,4])\n",
    "mydata"
   ]
  },
  {
   "cell_type": "code",
   "execution_count": null,
   "metadata": {
    "id": "leQsRMiwHqrW",
    "outputId": "6918b98e-f2cb-457f-cac1-7e05aa9a8582"
   },
   "outputs": [
    {
     "data": {
      "text/plain": [
       "[(1, 5), (2, 6), (3, 7), (4, 8)]"
      ]
     },
     "execution_count": 16,
     "metadata": {},
     "output_type": "execute_result"
    }
   ],
   "source": [
    "# filter(function, iterable)) extracts every element for which the function returns true\n",
    "list(filter(lambda x: x>2, [1,2,3,4]))\n",
    "\n",
    "# zip([iterable,...]) returns tuples of corresponding elements of multiple lists\n",
    "list(zip([1,2,3,4],[5,6,7,8,9]))"
   ]
  },
  {
   "cell_type": "markdown",
   "metadata": {
    "id": "O1aYxaSoHqrW"
   },
   "source": [
    "__list comprehensions__ pueden crear listas de la siguiente manera:  \n",
    "\n",
    "    [statement for var in iterable if condition]  \n",
    "    \n",
    "__generators__ hacen lo mismo, pero son perezosos (lazy): no crean la lista hasta que se necesita:  :  \n",
    "\n",
    "    (statement for var in list if condition)"
   ]
  },
  {
   "cell_type": "code",
   "execution_count": null,
   "metadata": {
    "id": "9KfY7kZOHqrW",
    "outputId": "7e88810d-1e14-4911-a809-37f5b362e338"
   },
   "outputs": [
    {
     "name": "stdout",
     "output_type": "stream",
     "text": [
      "4 5 \n",
      "\n",
      "4 5 6 7 8 9 "
     ]
    }
   ],
   "source": [
    "a = [2, 3, 4, 5]\n",
    "\n",
    "lc = [ x for x in a if x >= 4 ] # List comprehension. Square brackets\n",
    "lg = ( x for x in a if x >= 4 ) # Generator. Round brackets\n",
    "\n",
    "a.extend([6,7,8,9])\n",
    "\n",
    "for i in lc:\n",
    "    print(\"%i \" % i, end=\"\") # end tells the print function not to end with a newline\n",
    "print(\"\\n\")\n",
    "for i in lg:\n",
    "    print(\"%i \" % i, end=\"\")"
   ]
  },
  {
   "cell_type": "markdown",
   "metadata": {
    "id": "tb2EQF57HqrW"
   },
   "source": [
    "__dict comprehensions__:  \n",
    "\n",
    "    {key:value for (key,value) in dict.items() if condition}  "
   ]
  },
  {
   "cell_type": "code",
   "execution_count": null,
   "metadata": {
    "id": "-59EcbNvHqrW",
    "outputId": "9d7327b7-7c17-43b2-fea9-b591c0e48776"
   },
   "outputs": [
    {
     "data": {
      "text/plain": [
       "{0: 0, 2: 4, 4: 16, 6: 36, 8: 64}"
      ]
     },
     "execution_count": 21,
     "metadata": {},
     "output_type": "execute_result"
    }
   ],
   "source": [
    "# Quick dictionary creation\n",
    "numbers = range(10)\n",
    "{n:n**2 for n in numbers if n%2 == 0}"
   ]
  },
  {
   "cell_type": "code",
   "execution_count": null,
   "metadata": {
    "id": "dTIQ_hyNHqrX",
    "outputId": "fd2f5ff7-0c08-427e-acb3-c852452969d4"
   },
   "outputs": [
    {
     "data": {
      "text/plain": [
       "{'t1': -34.44444444444444,\n",
       " 't2': -17.77777777777778,\n",
       " 't3': 0.0,\n",
       " 't4': 37.77777777777778}"
      ]
     },
     "execution_count": 18,
     "metadata": {},
     "output_type": "execute_result"
    }
   ],
   "source": [
    "# Powerful alternative to replace lambda functions\n",
    "# Convert Fahrenheit to Celsius\n",
    "fahrenheit = {'t1': -30,'t2': 0,'t3': 32,'t4': 100}\n",
    "{k:(float(5)/9)*(v-32) for (k,v) in fahrenheit.items()}"
   ]
  }
 ],
 "metadata": {
  "anaconda-cloud": {},
  "celltoolbar": "Slideshow",
  "colab": {
   "provenance": []
  },
  "kernelspec": {
   "display_name": "Python 3 (ipykernel)",
   "language": "python",
   "name": "python3"
  },
  "language_info": {
   "codemirror_mode": {
    "name": "ipython",
    "version": 3
   },
   "file_extension": ".py",
   "mimetype": "text/x-python",
   "name": "python",
   "nbconvert_exporter": "python",
   "pygments_lexer": "ipython3",
   "version": "3.12.4"
  }
 },
 "nbformat": 4,
 "nbformat_minor": 0
}
