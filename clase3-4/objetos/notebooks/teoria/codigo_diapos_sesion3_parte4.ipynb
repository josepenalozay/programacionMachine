{
  "cells": [
    {
      "cell_type": "markdown",
      "source": [
        "## **Interfaces y Abstract Base Class (ABC)**"
      ],
      "metadata": {
        "id": "Dlbl5lZkRm_2"
      }
    },
    {
      "cell_type": "markdown",
      "source": [
        "En la programación orientada a objetos, un interfaz define al conjunto de métodos que tiene que tener un objeto para que pueda cumplir una determinada función en nuestro sistema. Dicho de otra manera, un interfaz define como se comporta un objeto y lo que se puede hacer con el.\n",
        "\n",
        "Piensa en el mando a distancia del televisor. Todos los mandos nos ofrecen el mismo interfaz con las mismas funcionalidades o métodos. En pseudocódigo se podría escribir su interfaz como:"
      ],
      "metadata": {
        "id": "-_LB_hIQZCG_"
      }
    },
    {
      "cell_type": "markdown",
      "source": [
        "~~~\n",
        "# Pseudocódigo\n",
        "interface Mando{\n",
        "\tdef siguiente_canal():\n",
        "\tdef canal_anterior():\n",
        "\tdef subir_volumen():\n",
        "\tdef bajar_volumen():\n",
        "}\n",
        "~~~"
      ],
      "metadata": {
        "id": "c-IIxJq_ZPHf"
      }
    },
    {
      "cell_type": "markdown",
      "source": [
        "**Interfaces informales**\n",
        "\n",
        "Los interfaces informales pueden ser definidos con una simple clase que no implementa los métodos. Volviendo al ejemplo de nuestro interfaz mando a distancia, lo podríamos escribir en Python como:"
      ],
      "metadata": {
        "id": "gAiyVnaSYseb"
      }
    },
    {
      "cell_type": "code",
      "source": [
        "class Mando:\n",
        "    def siguiente_canal(self):\n",
        "        pass\n",
        "    def canal_anterior(self):\n",
        "        pass\n",
        "    def subir_volumen(self):\n",
        "        pass\n",
        "    def bajar_volumen(self):\n",
        "        pass"
      ],
      "metadata": {
        "id": "_YKsQ7zlZlYK"
      },
      "execution_count": 4,
      "outputs": []
    },
    {
      "cell_type": "code",
      "source": [
        "class MandoSamsung(Mando):\n",
        "    def siguiente_canal(self):\n",
        "        print(\"Samsung->Siguiente\")\n",
        "    def canal_anterior(self):\n",
        "        print(\"Samsung->Anterior\")\n",
        "    def subir_volumen(self):\n",
        "        print(\"Samsung->Subir\")\n",
        "    def bajar_volumen(self):\n",
        "        print(\"Samsung->Bajar\")"
      ],
      "metadata": {
        "id": "HgGxv4-4ZmlK"
      },
      "execution_count": 5,
      "outputs": []
    },
    {
      "cell_type": "code",
      "source": [
        "class MandoLG(Mando):\n",
        "    def siguiente_canal(self):\n",
        "        print(\"LG->Siguiente\")\n",
        "    def canal_anterior(self):\n",
        "        print(\"LG->Anterior\")\n",
        "    def subir_volumen(self):\n",
        "        print(\"LG->Subir\")\n",
        "    def bajar_volumen(self):\n",
        "        print(\"LG->Bajar\")"
      ],
      "metadata": {
        "id": "aw_g1nHQZpBV"
      },
      "execution_count": 6,
      "outputs": []
    },
    {
      "cell_type": "markdown",
      "source": [
        "**Interfaces formales**"
      ],
      "metadata": {
        "id": "j4SCo3-rZs6g"
      }
    },
    {
      "cell_type": "markdown",
      "source": [
        "Una vez tenemos el contexto de lo que son los interfaces informales, ya estamos en condiciones de entender los interfaces formales.\n",
        "\n",
        "Los interfaces formales pueden ser definidos en Python utilizando el módulo por defecto llamado ABC (Abstract Base Classes). Los abc fueron añadidos a Python en la PEP3119."
      ],
      "metadata": {
        "id": "xRbeTb99ZyDS"
      }
    },
    {
      "cell_type": "markdown",
      "source": [
        "Interfaces formales"
      ],
      "metadata": {
        "id": "WYSdPaluZ7uQ"
      }
    },
    {
      "cell_type": "code",
      "source": [
        "from abc import abstractmethod\n",
        "from abc import ABCMeta\n",
        "\n",
        "class MandoA(metaclass=ABCMeta):\n",
        "    @abstractmethod\n",
        "    def siguiente_canal(self):\n",
        "        pass\n",
        "\n",
        "    @abstractmethod\n",
        "    def canal_anterior(self):\n",
        "        pass\n",
        "\n",
        "    @abstractmethod\n",
        "    def subir_volumen(self):\n",
        "        pass\n",
        "\n",
        "    @abstractmethod\n",
        "    def bajar_volumen(self):\n",
        "        pass"
      ],
      "metadata": {
        "id": "pG22Vq_LZ6sA"
      },
      "execution_count": 14,
      "outputs": []
    },
    {
      "cell_type": "code",
      "source": [
        "class MandoSamsung(MandoA):\n",
        "    def siguiente_canal(self):\n",
        "        print(\"Samsung->Siguiente\")\n",
        "    def canal_anterior(self):\n",
        "        print(\"Samsung->Anterior\")\n",
        "    def subir_volumen(self):\n",
        "        print(\"Samsung->Subir\")\n",
        "    def bajar_volumen(self):\n",
        "        print(\"Samsung->Bajar\")\n"
      ],
      "metadata": {
        "id": "mjALYXHqZ-9J"
      },
      "execution_count": 18,
      "outputs": []
    },
    {
      "cell_type": "code",
      "source": [
        "mando_samsung = MandoSamsung()\n",
        "mando_samsung.bajar_volumen()\n",
        "# Samsung->Bajar"
      ],
      "metadata": {
        "colab": {
          "base_uri": "https://localhost:8080/"
        },
        "id": "T6mINQvMaP8C",
        "outputId": "5eebe7b9-7ae1-4ee1-809f-4dc6aea6e657"
      },
      "execution_count": 19,
      "outputs": [
        {
          "output_type": "stream",
          "name": "stdout",
          "text": [
            "Samsung->Bajar\n"
          ]
        }
      ]
    },
    {
      "cell_type": "code",
      "source": [
        "class MandoLG(MandoA):\n",
        "    def siguiente_canal(self):\n",
        "        print(\"LG->Siguiente\")\n",
        "    def canal_anterior(self):\n",
        "        print(\"LG->Anterior\")\n",
        "    def subir_volumen(self):\n",
        "        print(\"LG->Subir\")\n",
        "    def bajar_volumen(self):\n",
        "        print(\"LG->Bajar\")"
      ],
      "metadata": {
        "id": "otFvr-7_aTrU"
      },
      "execution_count": 20,
      "outputs": []
    },
    {
      "cell_type": "code",
      "source": [
        "mando_lg = MandoLG()\n",
        "mando_lg.bajar_volumen()\n",
        "# LG->Bajar"
      ],
      "metadata": {
        "colab": {
          "base_uri": "https://localhost:8080/"
        },
        "id": "OI_0-VKvaVa-",
        "outputId": "911e7c0e-567c-4c2f-8638-09938f150054"
      },
      "execution_count": 21,
      "outputs": [
        {
          "output_type": "stream",
          "name": "stdout",
          "text": [
            "LG->Bajar\n"
          ]
        }
      ]
    },
    {
      "cell_type": "markdown",
      "source": [
        "**Abstract Base Classes y colecciones**"
      ],
      "metadata": {
        "id": "64xpYvuhace0"
      }
    },
    {
      "cell_type": "markdown",
      "source": [
        "Python nos ofrece un conjunto de Abstract Base Classes que podemos usar para crear nuestras propias clases, denominado collections.abc. Es por tanto importante echarles un vistazo, ya que tal vez exista ya la que necesitemos.\n",
        "\n",
        "Podemos por ejemplo crear una clase MiSet que use abc.Set, pero que tenga un comportamiento ligeramente distinto. En este caso, deberemos implementar los métodos mágicos __iter__, __contains__ y __len__, ya que son definidos como abstractos en el abc."
      ],
      "metadata": {
        "id": "G825BVRHafKc"
      }
    },
    {
      "cell_type": "code",
      "source": [
        "from collections import abc\n",
        "class MiSet(abc.Set):\n",
        "    def __init__(self, iterable):\n",
        "        self.elements = []\n",
        "        for value in iterable:\n",
        "            if value not in self.elements:\n",
        "                self.elements.append(value)\n",
        "\n",
        "    def __iter__(self):\n",
        "        return iter(self.elements)\n",
        "\n",
        "    def __contains__(self, value):\n",
        "        return value in self.elements\n",
        "\n",
        "    def __len__(self):\n",
        "        return len(self.elements)\n",
        "\n",
        "    def __str__(self):\n",
        "        return \"\".join(str(i) for i in self.elements)"
      ],
      "metadata": {
        "id": "PCvaKIilajWO"
      },
      "execution_count": null,
      "outputs": []
    },
    {
      "cell_type": "code",
      "source": [
        "s1 = MiSet(\"abcdefg\")\n",
        "s2 = MiSet(\"efghij\")\n",
        "\n",
        "print(s1 & s2)\n",
        "print(s1 | s2)\n",
        "# efg\n",
        "# abcdefghij"
      ],
      "metadata": {
        "id": "pegMkSbFarEz"
      },
      "execution_count": null,
      "outputs": []
    }
  ],
  "metadata": {
    "anaconda-cloud": {},
    "celltoolbar": "Slideshow",
    "colab": {
      "provenance": []
    },
    "kernelspec": {
      "display_name": "Python 3 (ipykernel)",
      "language": "python",
      "name": "python3"
    },
    "language_info": {
      "codemirror_mode": {
        "name": "ipython",
        "version": 3
      },
      "file_extension": ".py",
      "mimetype": "text/x-python",
      "name": "python",
      "nbconvert_exporter": "python",
      "pygments_lexer": "ipython3",
      "version": "3.12.4"
    }
  },
  "nbformat": 4,
  "nbformat_minor": 0
}