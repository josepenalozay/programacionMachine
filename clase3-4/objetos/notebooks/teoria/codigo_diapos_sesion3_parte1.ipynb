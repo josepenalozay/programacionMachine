{
  "cells": [
    {
      "cell_type": "markdown",
      "metadata": {},
      "source": [
        "**Disclaimer**:\n",
        "Tomado de los cursos:\n",
        "- “Introduction to Computer Science and Programming in Python” De MIT OpenCourseWare https://ocw.mit.edu/courses/electrical-engineering-and-computer-science/6-0001-introduction-to-computer-science-and-programming-in-python-fall-2016/\n"
      ]
    },
    {
      "cell_type": "markdown",
      "metadata": {},
      "source": [
        "#### 1. Introducción"
      ]
    },
    {
      "cell_type": "markdown",
      "metadata": {},
      "source": [
        "**Objetos**\n"
      ]
    },
    {
      "cell_type": "code",
      "execution_count": 9,
      "metadata": {},
      "outputs": [
        {
          "name": "stdout",
          "output_type": "stream",
          "text": [
            "1\n",
            "ModeloX\n",
            "Rojo\n"
          ]
        }
      ],
      "source": [
        "class Auto:\n",
        "    def __init__(self, id, modelo, color):\n",
        "        self.id = id\n",
        "        self.modelo = modelo\n",
        "        self.color = color\n",
        "\n",
        "    def get_id(self):\n",
        "        return self.id\n",
        "\n",
        "    def get_modelo(self):\n",
        "        return self.modelo\n",
        "\n",
        "    def get_color(self):\n",
        "        return self.color\n",
        "\n",
        "# Ejemplo de uso\n",
        "auto = Auto(1, \"ModeloX\", \"Rojo\")\n",
        "print(auto.get_id())     # Imprime: 1\n",
        "print(auto.get_modelo()) # Imprime: ModeloX\n",
        "print(auto.get_color())  # Imprime: Rojo"
      ]
    },
    {
      "cell_type": "code",
      "execution_count": 10,
      "metadata": {},
      "outputs": [
        {
          "name": "stdout",
          "output_type": "stream",
          "text": [
            "id: 0 modelo: clasico color: morado\n",
            "id: 1 modelo: deportivo color: verde\n",
            "id: 2 modelo: lujoso color: azul\n"
          ]
        }
      ],
      "source": [
        "# Clase Ejecuta simulada en Python\n",
        "if __name__ == \"__main__\":\n",
        "    a_normal = Auto(0, \"clasico\", \"morado\")\n",
        "    a_deportivo = Auto(1, \"deportivo\", \"verde\")\n",
        "    a_de_lujo = Auto(2, \"lujoso\", \"azul\")\n",
        "\n",
        "    print(f\"id: {a_normal.get_id()} modelo: {a_normal.get_modelo()} color: {a_normal.get_color()}\")\n",
        "    print(f\"id: {a_deportivo.get_id()} modelo: {a_deportivo.get_modelo()} color: {a_deportivo.get_color()}\")\n",
        "    print(f\"id: {a_de_lujo.get_id()} modelo: {a_de_lujo.get_modelo()} color: {a_de_lujo.get_color()}\")"
      ]
    },
    {
      "cell_type": "markdown",
      "metadata": {},
      "source": [
        "#### 2. POO"
      ]
    },
    {
      "cell_type": "markdown",
      "metadata": {},
      "source": [
        "**Creando nuevos tipos**"
      ]
    },
    {
      "cell_type": "code",
      "execution_count": 11,
      "metadata": {},
      "outputs": [
        {
          "name": "stdout",
          "output_type": "stream",
          "text": [
            "una_coordenada.x= 3\n",
            "una_coordenada.y= 4\n",
            "coordenada_origen .x= 0\n"
          ]
        }
      ],
      "source": [
        "class Coordenada(object):\n",
        "\n",
        "    def __init__(self, x, y):\n",
        "        self.x = x\n",
        "        self.y = y\n",
        "\n",
        "una_coordenada = Coordenada(3, 4)\n",
        "coordenada_origen = Coordenada(0, 6)\n",
        "\n",
        "print(\"una_coordenada.x=\", una_coordenada.x)\n",
        "print(\"una_coordenada.y=\", una_coordenada.y)\n",
        "print(\"coordenada_origen .x=\", coordenada_origen.x)"
      ]
    },
    {
      "cell_type": "markdown",
      "metadata": {},
      "source": [
        "**Métodos**"
      ]
    },
    {
      "cell_type": "code",
      "execution_count": 12,
      "metadata": {},
      "outputs": [
        {
          "name": "stdout",
          "output_type": "stream",
          "text": [
            "5.0\n",
            "5.0\n"
          ]
        }
      ],
      "source": [
        "class Coordenada(object):\n",
        "    \"\"\" A Coordenada made up of an x and y value \"\"\"\n",
        "    def __init__(self, x, y):\n",
        "        \"\"\" Sets the x and y values \"\"\"\n",
        "        self.x = x\n",
        "        self.y = y\n",
        "    def __str__(self):\n",
        "        \"\"\" Returns a string representation of self \"\"\"\n",
        "        return \"<\" + str(self.x) + \",\" + str(self.y) + \">\"\n",
        "    def calcular_distancia(self, otra_coordenada):\n",
        "        \"\"\" Returns the euclidean calcular_distancia between two points \"\"\"\n",
        "        diferencia_x = (self.x - otra_coordenada.x) ** 2\n",
        "        diferencia_y = (self.y - otra_coordenada.y) ** 2\n",
        "        return (diferencia_x + diferencia_y)**0.5\n",
        "\n",
        "\n",
        "una_coordenada = Coordenada(3, 4)\n",
        "coordenada_origen = Coordenada(0, 0)\n",
        "\n",
        "print(una_coordenada.calcular_distancia(coordenada_origen))\n",
        "print(Coordenada.calcular_distancia(una_coordenada, coordenada_origen))"
      ]
    },
    {
      "cell_type": "markdown",
      "metadata": {},
      "source": [
        "**Objetos y print()**\n"
      ]
    },
    {
      "cell_type": "code",
      "execution_count": 14,
      "metadata": {},
      "outputs": [
        {
          "name": "stdout",
          "output_type": "stream",
          "text": [
            "<__main__.Coordenada object at 0x0000016D26E2D190>\n"
          ]
        }
      ],
      "source": [
        "class Coordenada(object):\n",
        "    \"\"\" A Coordenada made up of an x and y value \"\"\"\n",
        "    def __init__(self, x, y):\n",
        "        \"\"\" Sets the x and y values \"\"\"\n",
        "        self.x = x\n",
        "        self.y = y\n",
        "\n",
        "    def calcular_distancia(self, otra_coordenada):\n",
        "        \"\"\" Returns the euclidean calcular_distancia between two points \"\"\"\n",
        "        diferencia_x = (self.x - otra_coordenada.x) ** 2\n",
        "        diferencia_y = (self.y - otra_coordenada.y) ** 2\n",
        "        return (diferencia_x + diferencia_y)**0.5\n",
        "\n",
        "\n",
        "una_coordenada = Coordenada(3, 4)\n",
        "print(una_coordenada)"
      ]
    },
    {
      "cell_type": "markdown",
      "metadata": {},
      "source": [
        "**Objetos y print()**"
      ]
    },
    {
      "cell_type": "code",
      "execution_count": 15,
      "metadata": {},
      "outputs": [
        {
          "name": "stdout",
          "output_type": "stream",
          "text": [
            "<3,4>\n"
          ]
        }
      ],
      "source": [
        "\n",
        "class Coordenada(object):\n",
        "    \"\"\" A Coordenada made up of an x and y value \"\"\"\n",
        "    def __init__(self, x, y):\n",
        "        \"\"\" Sets the x and y values \"\"\"\n",
        "        self.x = x\n",
        "        self.y = y\n",
        "    def __str__(self):\n",
        "        \"\"\" Returns a string representation of self \"\"\"\n",
        "        return \"<\" + str(self.x) + \",\" + str(self.y) + \">\"\n",
        "    def calcular_distancia(self, otra_coordenada):\n",
        "        \"\"\" Returns the euclidean calcular_distancia between two points \"\"\"\n",
        "        diferencia_x = (self.x - otra_coordenada.x) ** 2\n",
        "        diferencia_y = (self.y - otra_coordenada.y) ** 2\n",
        "        return (diferencia_x + diferencia_y)**0.5\n",
        "\n",
        "\n",
        "una_coordenada = Coordenada(3, 4)\n",
        "\n",
        "print(una_coordenada)"
      ]
    },
    {
      "cell_type": "markdown",
      "metadata": {},
      "source": [
        "**Clases y Tipos**\n"
      ]
    },
    {
      "cell_type": "code",
      "execution_count": 16,
      "metadata": {},
      "outputs": [
        {
          "name": "stdout",
          "output_type": "stream",
          "text": [
            "mi_instancia= <3,4>\n",
            "type(mi_instancia)= <class '__main__.Coordenada'>\n",
            "Coordenada= <class '__main__.Coordenada'>\n",
            "isinstance(mi_instancia, Coordenada)= True\n"
          ]
        }
      ],
      "source": [
        "mi_instancia = Coordenada(3, 4)\n",
        "\n",
        "print(\"mi_instancia=\", mi_instancia)\n",
        "print(\"type(mi_instancia)=\", type(mi_instancia))\n",
        "print(\"Coordenada=\", Coordenada)\n",
        "\n",
        "print(\"isinstance(mi_instancia, Coordenada)=\",\n",
        "isinstance(mi_instancia, Coordenada))"
      ]
    },
    {
      "cell_type": "markdown",
      "metadata": {},
      "source": [
        "**Fracción**"
      ]
    },
    {
      "cell_type": "code",
      "execution_count": 17,
      "metadata": {},
      "outputs": [
        {
          "name": "stdout",
          "output_type": "stream",
          "text": [
            "16/16\n",
            "1.0\n",
            "1.0\n",
            "1.3333333333333333\n"
          ]
        }
      ],
      "source": [
        "class Fraction(object):\n",
        "    \"\"\"\n",
        "    A number represented as a fraction\n",
        "    \"\"\"\n",
        "    def __init__(self, num, denom):\n",
        "        \"\"\" num and denom are integers \"\"\"\n",
        "        assert type(num) == int and type(denom) == int, \"ints not used\"\n",
        "        self.num = num\n",
        "        self.denom = denom\n",
        "    def __str__(self):\n",
        "        \"\"\" Retunrs a string representation of self \"\"\"\n",
        "        return str(self.num) + \"/\" + str(self.denom)\n",
        "    def __add__(self, other):\n",
        "        \"\"\" Returns a new fraction representing the addition \"\"\"\n",
        "        top = self.num*other.denom + self.denom*other.num\n",
        "        bott = self.denom*other.denom\n",
        "        return Fraction(top, bott)\n",
        "    def __sub__(self, other):\n",
        "        \"\"\" Returns a new fraction representing the subtraction \"\"\"\n",
        "        top = self.num*other.denom - self.denom*other.num\n",
        "        bott = self.denom*other.denom\n",
        "        return Fraction(top, bott)\n",
        "    def __float__(self):\n",
        "        \"\"\" Returns a float value of the fraction \"\"\"\n",
        "        return self.num/self.denom\n",
        "    def inverse(self):\n",
        "        \"\"\" Returns a new fraction representing 1/self \"\"\"\n",
        "        return Fraction(self.denom, self.num)\n",
        "\n",
        "a = Fraction(1,4)\n",
        "b = Fraction(3,4)\n",
        "c = a + b # c is a Fraction object\n",
        "print(c)\n",
        "print(float(c))\n",
        "print(Fraction.__float__(c))\n",
        "print(float(b.inverse()))"
      ]
    },
    {
      "cell_type": "markdown",
      "metadata": {},
      "source": [
        "**Conjunto de enteros**"
      ]
    },
    {
      "cell_type": "code",
      "execution_count": 18,
      "metadata": {},
      "outputs": [
        {
          "name": "stdout",
          "output_type": "stream",
          "text": [
            "{}\n",
            "{3,4}\n",
            "{3,4,6}\n",
            "{3,4,6}\n"
          ]
        }
      ],
      "source": [
        "##############\n",
        "## EXAMPLE: a set of integers as class\n",
        "##############\n",
        "class intSet(object):\n",
        "    \"\"\"\n",
        "    An intSet is a set of integers\n",
        "    The value is represented by a list of ints, self.vals\n",
        "    Each int in the set occurs in self.vals exactly once\n",
        "    \"\"\"\n",
        "    def __init__(self):\n",
        "        \"\"\" Create an empty set of integers \"\"\"\n",
        "        self.vals = []\n",
        "\n",
        "    def insert(self, e):\n",
        "        \"\"\" Assumes e is an integer and inserts e into self \"\"\"\n",
        "        if not e in self.vals:\n",
        "            self.vals.append(e)\n",
        "\n",
        "    def member(self, e):\n",
        "        \"\"\" Assumes e is an integer\n",
        "        Returns True if e is in self, and False otherwise \"\"\"\n",
        "        return e in self.vals\n",
        "\n",
        "    def remove(self, e):\n",
        "        \"\"\" Assumes e is an integer and removes e from self\n",
        "        Raises ValueError if e is not in self \"\"\"\n",
        "        try:\n",
        "            self.vals.remove(e)\n",
        "        except:\n",
        "            raise ValueError(str(e) + ' not found')\n",
        "\n",
        "    def __str__(self):\n",
        "        \"\"\" Returns a string representation of self \"\"\"\n",
        "        self.vals.sort()\n",
        "        return '{' + ','.join([str(e) for e in self.vals]) + '}'\n",
        "\n",
        "\n",
        "s = intSet()\n",
        "print(s)\n",
        "s.insert(3)\n",
        "s.insert(4)\n",
        "s.insert(3)\n",
        "print(s)\n",
        "s.member(3)\n",
        "s.member(5)\n",
        "s.insert(6)\n",
        "print(s)\n",
        "#s.remove(3)  # leads to an error\n",
        "print(s)\n",
        "s.remove(3)"
      ]
    },
    {
      "cell_type": "markdown",
      "metadata": {},
      "source": [
        "**Como definir una clase (Recordatorio)**"
      ]
    },
    {
      "cell_type": "code",
      "execution_count": 19,
      "metadata": {},
      "outputs": [
        {
          "name": "stdout",
          "output_type": "stream",
          "text": [
            "<__main__.Animal object at 0x0000016D26ADD550>\n"
          ]
        }
      ],
      "source": [
        "class Animal(object):\n",
        "    def __init__(self, age):\n",
        "        self.age = age\n",
        "        self.name = None\n",
        "\n",
        "myanimal = Animal(4)\n",
        "print(myanimal)"
      ]
    },
    {
      "cell_type": "markdown",
      "metadata": {},
      "source": [
        "**MÉTODOS GETTER Y SETTER**"
      ]
    },
    {
      "cell_type": "code",
      "execution_count": 20,
      "metadata": {},
      "outputs": [],
      "source": [
        "#################################\n",
        "## Animal abstract data type\n",
        "#################################\n",
        "class Animal(object):\n",
        "    def __init__(self, age):\n",
        "        self.age = age\n",
        "        self.name = None\n",
        "\n",
        "    def get_age(self):\n",
        "        return self.age\n",
        "\n",
        "    def get_name(self):\n",
        "        return self.name\n",
        "\n",
        "    def set_age(self, newage):\n",
        "        self.age = newage\n",
        "\n",
        "    def set_name(self, newname=\"\"):\n",
        "        self.name = newname\n",
        "\n",
        "    def __str__(self):\n",
        "        return \"animal:\" + str(self.name) + \":\" + str(self.age)"
      ]
    },
    {
      "cell_type": "code",
      "execution_count": 21,
      "metadata": {},
      "outputs": [
        {
          "name": "stdout",
          "output_type": "stream",
          "text": [
            "\n",
            "---- animal tests ----\n",
            "animal:None:4\n",
            "4\n",
            "animal:fluffy:4\n",
            "animal::4\n"
          ]
        }
      ],
      "source": [
        "print(\"\\n---- animal tests ----\")\n",
        "a = Animal(4)\n",
        "print(a)\n",
        "print(a.get_age())\n",
        "a.set_name(\"fluffy\")\n",
        "print(a)\n",
        "a.set_name()\n",
        "print(a)"
      ]
    },
    {
      "cell_type": "markdown",
      "metadata": {},
      "source": [
        "**Jerarquías**"
      ]
    },
    {
      "cell_type": "code",
      "execution_count": null,
      "metadata": {},
      "outputs": [],
      "source": [
        "#################################\n",
        "## Animal abstract data type\n",
        "#################################\n",
        "class Animal(object):\n",
        "    def __init__(self, age):\n",
        "        self.age = age\n",
        "        self.name = None\n",
        "\n",
        "    def get_age(self):\n",
        "        return self.age\n",
        "\n",
        "    def get_name(self):\n",
        "        return self.name\n",
        "\n",
        "    def set_age(self, newage):\n",
        "        self.age = newage\n",
        "\n",
        "    def set_name(self, newname=\"\"):\n",
        "        self.name = newname\n",
        "\n",
        "    def __str__(self):\n",
        "        return \"animal:\" + str(self.name) + \":\" + str(self.age)"
      ]
    },
    {
      "cell_type": "code",
      "execution_count": null,
      "metadata": {},
      "outputs": [],
      "source": [
        "print(\"\\n---- animal tests ----\")\n",
        "a = Animal(4)\n",
        "print(a)\n",
        "print(a.get_age())\n",
        "a.set_name(\"fluffy\")\n",
        "print(a)\n",
        "a.set_name()\n",
        "print(a)"
      ]
    },
    {
      "cell_type": "code",
      "execution_count": null,
      "metadata": {},
      "outputs": [],
      "source": [
        "#################################\n",
        "## Inheritance example\n",
        "#################################\n",
        "class Cat(Animal):\n",
        "    def speak(self):\n",
        "        print(\"meow\")\n",
        "\n",
        "    def __str__(self):\n",
        "        return \"cat:\" + str(self.name) + \":\" + str(self.age)"
      ]
    },
    {
      "cell_type": "code",
      "execution_count": null,
      "metadata": {},
      "outputs": [],
      "source": [
        "print(\"\\n---- cat tests ----\")\n",
        "c = Cat(5)\n",
        "c.set_name(\"fluffy\")\n",
        "print(c)\n",
        "c.speak()\n",
        "print(c.get_age())\n",
        "\n",
        "# myanimal.speak() # error because there is no speak method for Animal class"
      ]
    },
    {
      "cell_type": "markdown",
      "metadata": {},
      "source": [
        "**Sobreescritura**"
      ]
    },
    {
      "cell_type": "code",
      "execution_count": 26,
      "metadata": {},
      "outputs": [],
      "source": [
        "import random"
      ]
    },
    {
      "cell_type": "code",
      "execution_count": 22,
      "metadata": {},
      "outputs": [],
      "source": [
        "class Person(Animal):\n",
        "    def __init__(self, name, age):\n",
        "        Animal.__init__(self, age)\n",
        "        self.set_name(name)\n",
        "        self.friends = []\n",
        "\n",
        "    def get_friends(self):\n",
        "        return self.friends\n",
        "\n",
        "    def speak(self):\n",
        "        print(\"hello\")\n",
        "\n",
        "    def add_friend(self, fname):\n",
        "        if fname not in self.friends:\n",
        "            self.friends.append(fname)\n",
        "\n",
        "    def age_diff(self, other):\n",
        "        diff = self.age - other.age\n",
        "        print(abs(diff), \"year difference\")\n",
        "\n",
        "    def __str__(self):\n",
        "        return \"person:\" + str(self.name) + \":\" + str(self.age)"
      ]
    },
    {
      "cell_type": "code",
      "execution_count": 23,
      "metadata": {},
      "outputs": [
        {
          "name": "stdout",
          "output_type": "stream",
          "text": [
            "\n",
            "---- person tests ----\n",
            "jack\n",
            "30\n",
            "jill\n",
            "25\n",
            "person:jack:30\n",
            "hello\n",
            "5 year difference\n"
          ]
        }
      ],
      "source": [
        "print(\"\\n---- person tests ----\")\n",
        "p1 = Person(\"jack\", 30)\n",
        "p2 = Person(\"jill\", 25)\n",
        "print(p1.get_name())\n",
        "print(p1.get_age())\n",
        "print(p2.get_name())\n",
        "print(p2.get_age())\n",
        "print(p1)\n",
        "p1.speak()\n",
        "p1.age_diff(p2)"
      ]
    },
    {
      "cell_type": "code",
      "execution_count": 24,
      "metadata": {},
      "outputs": [],
      "source": [
        "class Student(Person):\n",
        "    def __init__(self, name, age, major=None):\n",
        "        Person.__init__(self, name, age)\n",
        "        self.major = major\n",
        "\n",
        "    def __str__(self):\n",
        "        return \"student:\" + str(self.name) + \":\" + str(self.age) + \":\" + str(self.major)\n",
        "\n",
        "    def change_major(self, major):\n",
        "        self.major = major\n",
        "\n",
        "    def speak(self):\n",
        "        r = random.random()\n",
        "        if r < 0.25:\n",
        "            print(\"i have homework\")\n",
        "        elif 0.25 <= r < 0.5:\n",
        "            print(\"i need sleep\")\n",
        "        elif 0.5 <= r < 0.75:\n",
        "            print(\"i should eat\")\n",
        "        else:\n",
        "            print(\"i am watching tv\")\n"
      ]
    },
    {
      "cell_type": "code",
      "execution_count": 27,
      "metadata": {},
      "outputs": [
        {
          "name": "stdout",
          "output_type": "stream",
          "text": [
            "\n",
            "---- student tests ----\n",
            "student:alice:20:CS\n",
            "student:beth:18:None\n",
            "alice says: i should eat\n",
            "beth says: i have homework\n"
          ]
        }
      ],
      "source": [
        "print(\"\\n---- student tests ----\")\n",
        "s1 = Student('alice', 20, \"CS\")\n",
        "s2 = Student('beth', 18)\n",
        "print(s1)\n",
        "print(s2)\n",
        "print(s1.get_name(), \"says:\", end=\" \")\n",
        "s1.speak()\n",
        "print(s2.get_name(), \"says:\", end=\" \")\n",
        "s2.speak()\n"
      ]
    },
    {
      "cell_type": "markdown",
      "metadata": {},
      "source": [
        "**Uso de variables de clase**"
      ]
    },
    {
      "cell_type": "code",
      "execution_count": 29,
      "metadata": {},
      "outputs": [],
      "source": [
        "class Rabbit(Animal):\n",
        "    # myanimal class variable, tag, shared across all instances\n",
        "    tag = 1\n",
        "\n",
        "    def __init__(self, age, parent1=None, parent2=None):\n",
        "        Animal.__init__(self, age)\n",
        "        self.parent1 = parent1\n",
        "        self.parent2 = parent2\n",
        "        self.rid = Rabbit.tag\n",
        "        Rabbit.tag += 1\n",
        "\n",
        "    def get_rid(self):\n",
        "        # zfill used to add leading zeroes 001 instead of 1\n",
        "        return str(self.rid).zfill(3)\n",
        "\n",
        "    def get_parent1(self):\n",
        "        return self.parent1\n",
        "\n",
        "    def get_parent2(self):\n",
        "        return self.parent2\n",
        "\n",
        "    def __add__(self, other):\n",
        "        # returning object of same type as this class\n",
        "        return Rabbit(0, self, other)\n",
        "\n",
        "    def __eq__(self, other):\n",
        "        # compare the ids of self and other's parents\n",
        "        # don't care about the order of the parents\n",
        "        # the backslash tells python I want to break up my line\n",
        "        parents_same = self.parent1.rid == other.parent1.rid \\\n",
        "                       and self.parent2.rid == other.parent2.rid\n",
        "        parents_opposite = self.parent2.rid == other.parent1.rid \\\n",
        "                           and self.parent1.rid == other.parent2.rid\n",
        "        return parents_same or parents_opposite\n",
        "\n",
        "    def __str__(self):\n",
        "        return \"rabbit:\" + self.get_rid()\n"
      ]
    },
    {
      "cell_type": "code",
      "execution_count": 30,
      "metadata": {},
      "outputs": [
        {
          "name": "stdout",
          "output_type": "stream",
          "text": [
            "\n",
            "---- rabbit tests ----\n",
            "---- testing creating rabbits ----\n",
            "r1: rabbit:001\n",
            "r2: rabbit:002\n",
            "r3: rabbit:003\n",
            "r1 parent1: None\n",
            "r1 parent2: None\n",
            "---- testing rabbit addition ----\n",
            "r1: rabbit:001\n",
            "r2: rabbit:002\n",
            "r4: rabbit:004\n",
            "r4 parent1: rabbit:001\n",
            "r4 parent2: rabbit:002\n",
            "---- testing rabbit equality ----\n",
            "r3: rabbit:003\n",
            "r4: rabbit:004\n",
            "r5: rabbit:005\n",
            "r6: rabbit:006\n",
            "r5 parent1: rabbit:003\n",
            "r5 parent2: rabbit:004\n",
            "r6 parent1: rabbit:004\n",
            "r6 parent2: rabbit:003\n",
            "r5 and r6 have same parents? True\n",
            "r4 and r6 have same parents? False\n"
          ]
        }
      ],
      "source": [
        "print(\"\\n---- rabbit tests ----\")\n",
        "print(\"---- testing creating rabbits ----\")\n",
        "r1 = Rabbit(3)\n",
        "r2 = Rabbit(4)\n",
        "r3 = Rabbit(5)\n",
        "print(\"r1:\", r1)\n",
        "print(\"r2:\", r2)\n",
        "print(\"r3:\", r3)\n",
        "print(\"r1 parent1:\", r1.get_parent1())\n",
        "print(\"r1 parent2:\", r1.get_parent2())\n",
        "\n",
        "print(\"---- testing rabbit addition ----\")\n",
        "r4 = r1 + r2  # r1.__add__(r2)\n",
        "print(\"r1:\", r1)\n",
        "print(\"r2:\", r2)\n",
        "print(\"r4:\", r4)\n",
        "print(\"r4 parent1:\", r4.get_parent1())\n",
        "print(\"r4 parent2:\", r4.get_parent2())\n",
        "\n",
        "print(\"---- testing rabbit equality ----\")\n",
        "r5 = r3 + r4\n",
        "r6 = r4 + r3\n",
        "print(\"r3:\", r3)\n",
        "print(\"r4:\", r4)\n",
        "print(\"r5:\", r5)\n",
        "print(\"r6:\", r6)\n",
        "print(\"r5 parent1:\", r5.get_parent1())\n",
        "print(\"r5 parent2:\", r5.get_parent2())\n",
        "print(\"r6 parent1:\", r6.get_parent1())\n",
        "print(\"r6 parent2:\", r6.get_parent2())\n",
        "print(\"r5 and r6 have same parents?\", r5 == r6)\n",
        "print(\"r4 and r6 have same parents?\", r4 == r6)\n"
      ]
    },
    {
      "cell_type": "markdown",
      "metadata": {},
      "source": [
        "**Polimorfismo**"
      ]
    },
    {
      "cell_type": "code",
      "execution_count": 32,
      "metadata": {},
      "outputs": [],
      "source": [
        "# Pets polymorphism\n",
        "# Three classes, all with myanimal different \"speak\" method\n",
        "\n",
        "class Perro():\n",
        "    def __init__(self, name):\n",
        "        self.name = name\n",
        "\n",
        "    def comunicarse(self):\n",
        "        print(self.name, 'dice guauu, guauuu, guauuu!')\n",
        "\n",
        "\n",
        "class Gato():\n",
        "    def __init__(self, name):\n",
        "        self.name = name\n",
        "\n",
        "    def comunicarse(self):\n",
        "        print(self.name, 'dice meeeoooow')\n",
        "\n",
        "\n",
        "class Ave():\n",
        "    def __init__(self, name):\n",
        "        self.name = name\n",
        "\n",
        "    def comunicarse(self):\n",
        "        print(self.name, 'dice tweet')\n"
      ]
    },
    {
      "cell_type": "code",
      "execution_count": 33,
      "metadata": {},
      "outputs": [
        {
          "name": "stdout",
          "output_type": "stream",
          "text": [
            "Rover dice guauu, guauuu, guauuu!\n",
            "Fido dice guauu, guauuu, guauuu!\n",
            "Fluffy dice meeeoooow\n",
            "Spike dice meeeoooow\n",
            "Big Ave dice tweet\n"
          ]
        }
      ],
      "source": [
        "oPerro1 = Perro('Rover')\n",
        "oPerro2 = Perro('Fido')\n",
        "oGato1 = Gato('Fluffy')\n",
        "oGato2 = Gato('Spike')\n",
        "oAve = Ave('Big Ave')\n",
        "\n",
        "petsList = [oPerro1, oPerro2, oGato1, oGato2, oAve]\n",
        "\n",
        "# Send the same message (call the same method) of all pets\n",
        "for oPet in petsList:\n",
        "    oPet.comunicarse()\n"
      ]
    },
    {
      "cell_type": "markdown",
      "metadata": {},
      "source": [
        "**Identidad, igualdad y aliases**"
      ]
    },
    {
      "cell_type": "code",
      "execution_count": 39,
      "metadata": {},
      "outputs": [
        {
          "name": "stdout",
          "output_type": "stream",
          "text": [
            "True\n",
            "1568327893248 1568327893248\n",
            "{'name': 'Charles L. Dodgson', 'born': 1832, 'balance': 950}\n"
          ]
        }
      ],
      "source": [
        "charles = {'name': 'Charles L. Dodgson', 'born': 1832}\n",
        "lewis = charles\n",
        "print(lewis is charles)\n",
        "\n",
        "print(id(charles), id(lewis))\n",
        "\n",
        "lewis['balance'] = 950\n",
        "print(charles)"
      ]
    },
    {
      "cell_type": "code",
      "execution_count": 40,
      "metadata": {},
      "outputs": [
        {
          "name": "stdout",
          "output_type": "stream",
          "text": [
            "True\n",
            "True\n"
          ]
        }
      ],
      "source": [
        "alex = {'name': 'Charles L. Dodgson', 'born': 1832, 'balance': 950}\n",
        "print(alex == charles)\n",
        "\n",
        "print(alex is not charles)"
      ]
    },
    {
      "cell_type": "markdown",
      "metadata": {},
      "source": [
        "**Igualdad en objetos**"
      ]
    },
    {
      "cell_type": "code",
      "execution_count": 34,
      "metadata": {},
      "outputs": [
        {
          "data": {
            "text/plain": [
              "False"
            ]
          },
          "execution_count": 34,
          "metadata": {},
          "output_type": "execute_result"
        }
      ],
      "source": [
        "class Number:\n",
        "\n",
        "    def __init__(self, number):\n",
        "        self.number = number\n",
        "\n",
        "n1 = Number(1)\n",
        "n2 = Number(1)\n",
        "\n",
        "n1 == n2  # False -- oops"
      ]
    },
    {
      "cell_type": "code",
      "execution_count": 35,
      "metadata": {},
      "outputs": [],
      "source": [
        "class Number:\n",
        "\n",
        "    def __init__(self, number):\n",
        "        self.number = number\n",
        "\n",
        "    def __eq__(self, other):\n",
        "        \"\"\"Overrides the default implementation\"\"\"\n",
        "        if isinstance(other, Number):\n",
        "            return self.number == other.number\n",
        "        return NotImplemented\n",
        "\n",
        "    def __ne__(self, other):\n",
        "        \"\"\"Overrides the default implementation\n",
        "        (unnecessary in Python 3)\"\"\"\n",
        "        x = self.__eq__(other)\n",
        "        if x is not NotImplemented:\n",
        "            return not x\n",
        "        return NotImplemented\n",
        "\n",
        "    def __hash__(self):\n",
        "        \"\"\"Overrides the default implementation\"\"\"\n",
        "        return hash(tuple(sorted(self.__dict__.items())))\n",
        "    \n",
        "    \n",
        "class SubNumber(Number):\n",
        "    pass\n"
      ]
    },
    {
      "cell_type": "code",
      "execution_count": 38,
      "metadata": {},
      "outputs": [],
      "source": [
        "n1 = Number(1)\n",
        "n2 = Number(1)\n",
        "n3 = SubNumber(1)\n",
        "n4 = SubNumber(4)\n",
        "\n",
        "assert n1 == n2\n",
        "assert n2 == n1\n",
        "assert not n1 != n2\n",
        "assert not n2 != n1\n",
        "\n",
        "assert n1 == n3\n",
        "assert n3 == n1\n",
        "assert not n1 != n3\n",
        "assert not n3 != n1\n",
        "\n",
        "assert not n1 == n4\n",
        "assert not n4 == n1\n",
        "assert n1 != n4\n",
        "assert n4 != n1\n",
        "\n",
        "assert len(set([n1, n2, n3, ])) == 1\n",
        "assert len(set([n1, n2, n3, n4])) == 2"
      ]
    }
  ],
  "metadata": {
    "anaconda-cloud": {},
    "celltoolbar": "Slideshow",
    "colab": {
      "provenance": []
    },
    "kernelspec": {
      "display_name": "Python 3 (ipykernel)",
      "language": "python",
      "name": "python3"
    },
    "language_info": {
      "codemirror_mode": {
        "name": "ipython",
        "version": 3
      },
      "file_extension": ".py",
      "mimetype": "text/x-python",
      "name": "python",
      "nbconvert_exporter": "python",
      "pygments_lexer": "ipython3",
      "version": "3.11.9"
    }
  },
  "nbformat": 4,
  "nbformat_minor": 0
}
