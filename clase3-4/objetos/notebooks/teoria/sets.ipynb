{
  "nbformat": 4,
  "nbformat_minor": 0,
  "metadata": {
    "colab": {
      "provenance": []
    },
    "kernelspec": {
      "name": "python3",
      "display_name": "Python 3"
    },
    "language_info": {
      "name": "python"
    }
  },
  "cells": [
    {
      "cell_type": "markdown",
      "source": [
        "**Sets**"
      ],
      "metadata": {
        "id": "R8wOyBX1TOWn"
      }
    },
    {
      "cell_type": "markdown",
      "source": [
        "Los sets en Python son una estructura de datos que te permiten almacenar colecciones de elementos únicos y sin orden. Al igual que en teoría de conjuntos en matemáticas, los sets no permiten elementos duplicados, lo que los hace muy útiles para tareas donde se necesita trabajar con elementos únicos o eliminar duplicados."
      ],
      "metadata": {
        "id": "LtAOGr9ITNIv"
      }
    },
    {
      "cell_type": "markdown",
      "source": [
        "**Creación de sets en Python**\n",
        "\n",
        "Puedes crear un set usando la función set() o con la sintaxis {} si ya tienes los elementos."
      ],
      "metadata": {
        "id": "hsdl2FSqTXLs"
      }
    },
    {
      "cell_type": "code",
      "source": [
        "# Creando un set vacío\n",
        "mi_set = set()\n",
        "\n",
        "# Creando un set con elementos iniciales\n",
        "mi_set = {1, 2, 3, 4, 5}\n",
        "\n",
        "# Los sets ignoran duplicados\n",
        "mi_set_con_duplicados = {1, 2, 2, 3, 3}\n",
        "print(mi_set_con_duplicados)  # Salida: {1, 2, 3}\n"
      ],
      "metadata": {
        "id": "qevPbkotTX5U"
      },
      "execution_count": null,
      "outputs": []
    },
    {
      "cell_type": "markdown",
      "source": [
        "**Operaciones básicas con sets**\n",
        "\n",
        "Python ofrece varias operaciones comunes en teoría de conjuntos, como unión, intersección, diferencia y diferencia simétrica.\n",
        "\n",
        "- **Unión** (| o .union()): Devuelve un set con todos los elementos de ambos sets.\n",
        "- Intersección (& o .intersection()): Devuelve un set con los elementos comunes en ambos sets.\n",
        "- Diferencia (- o .difference()): Devuelve un set con los elementos presentes en el primer set pero no en el segundo.\n",
        "- Diferencia simétrica (^ o .symmetric_difference()): Devuelve un set con los elementos que están en uno de los sets pero no en ambos."
      ],
      "metadata": {
        "id": "m1THcxBdTdVn"
      }
    },
    {
      "cell_type": "code",
      "source": [
        "set_a = {1, 2, 3}\n",
        "set_b = {3, 4, 5}\n",
        "\n",
        "# Unión\n",
        "print(set_a | set_b)  # Salida: {1, 2, 3, 4, 5}\n",
        "\n",
        "# Intersección\n",
        "print(set_a & set_b)  # Salida: {3}\n",
        "\n",
        "# Diferencia\n",
        "print(set_a - set_b)  # Salida: {1, 2}\n",
        "\n",
        "# Diferencia simétrica\n",
        "print(set_a ^ set_b)  # Salida: {1, 2, 4, 5}\n"
      ],
      "metadata": {
        "id": "R-BSXgC5Tcn3"
      },
      "execution_count": null,
      "outputs": []
    },
    {
      "cell_type": "markdown",
      "source": [
        "Métodos comunes en sets"
      ],
      "metadata": {
        "id": "AJmPWhqGTrHv"
      }
    },
    {
      "cell_type": "code",
      "source": [
        "mi_set = {1, 2, 3}\n",
        "mi_set.add(4)            # Añade 4 al set\n",
        "mi_set.remove(3)         # Elimina 3 del set\n",
        "mi_set.discard(10)       # No hace nada, ya que 10 no está en el set\n",
        "elemento = mi_set.pop()  # Elimina y devuelve un elemento arbitrario\n"
      ],
      "metadata": {
        "id": "4kz_9EdkTpRm"
      },
      "execution_count": null,
      "outputs": []
    },
    {
      "cell_type": "markdown",
      "source": [
        "**Ejemplos de uso y utilidad de los sets**"
      ],
      "metadata": {
        "id": "9SXVkNwXTuyg"
      }
    },
    {
      "cell_type": "markdown",
      "source": [
        "Eliminar duplicados"
      ],
      "metadata": {
        "id": "kGvoYf9sTzWb"
      }
    },
    {
      "cell_type": "code",
      "source": [
        "lista = [1, 2, 2, 3, 4, 4, 5]\n",
        "lista_sin_duplicados = list(set(lista))\n",
        "print(lista_sin_duplicados)  # Salida: [1, 2, 3, 4, 5]\n"
      ],
      "metadata": {
        "id": "-7SytfkHTuAY"
      },
      "execution_count": null,
      "outputs": []
    },
    {
      "cell_type": "markdown",
      "source": [
        "Filtrar datos:"
      ],
      "metadata": {
        "id": "QZO-0pUIT4yl"
      }
    },
    {
      "cell_type": "code",
      "source": [
        "texto = \"python es un lenguaje de programación y python es genial\"\n",
        "palabras_unicas = set(texto.split())\n",
        "print(palabras_unicas)  # Salida: {'y', 'es', 'genial', 'un', 'lenguaje', 'python', 'de', 'programación'}\n"
      ],
      "metadata": {
        "id": "-sAXFeABT5cu"
      },
      "execution_count": null,
      "outputs": []
    }
  ]
}